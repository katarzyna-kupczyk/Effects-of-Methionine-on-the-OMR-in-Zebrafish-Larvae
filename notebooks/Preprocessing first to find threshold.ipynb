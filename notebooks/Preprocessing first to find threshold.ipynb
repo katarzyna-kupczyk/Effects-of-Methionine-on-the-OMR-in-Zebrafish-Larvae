{
 "cells": [
  {
   "cell_type": "code",
   "execution_count": null,
   "id": "1f40358c",
   "metadata": {},
   "outputs": [],
   "source": [
    "import os, sys\n",
    "import pandas as pd\n",
    "import numpy as np\n",
    "import matplotlib.pyplot as plt\n",
    "from scipy import interpolate\n",
    "from scipy.stats import norm\n",
    "import seaborn as sns\n",
    "from scipy.signal import find_peaks\n",
    "from scipy.ndimage import gaussian_filter1d"
   ]
  },
  {
   "cell_type": "code",
   "execution_count": null,
   "id": "bf79a42a",
   "metadata": {},
   "outputs": [],
   "source": [
    "def omr_preprocess(data):\n",
    "    # remove timestamp and extras\n",
    "    # keep x, y, heading, cumulative, timestamp\n",
    "    data.columns = ['X_coord', 'Y_coord', 'heading_direction', \\\n",
    "                'cumulative_direction','beat_freq', 'beat_amp', \\\n",
    "                'tail_move?', 'timestamp', 'contrast_level', 'flow_direction']\n",
    "    new = data.drop(columns = ['beat_freq', 'beat_amp','tail_move?', 'contrast_level', 'flow_direction'])\n",
    "\n",
    "\n",
    "    # resetting index\n",
    "    new = pd.DataFrame(new)\n",
    "    new = new.set_index('timestamp').reset_index()\n",
    "\n",
    "\n",
    "    # remove time points where there was an angle change of more than pi from one frame to another\n",
    "    for row in range(len(new)-1):\n",
    "        heading = new.iloc[row,3]\n",
    "        next_heading = new.iloc[row+1,3]\n",
    "        if np.abs(next_heading-heading) >= np.pi:\n",
    "            new.iloc[row+1,3] = new.iloc[row,3]\n",
    "\n",
    "\n",
    "    # interpolating and normalising data to a fixed set of points\n",
    "    interp = pd.DataFrame(columns=['timestamp','X_coord','Y_coord','heading_direction','cumulative_direction'])\n",
    "    for column in new.columns:\n",
    "        x = np.arange(0,len(new))\n",
    "        y = new[column]\n",
    "        f = interpolate.interp1d(x,y)\n",
    "\n",
    "        x_new = np.arange(0,20000,1)\n",
    "        y_new = f(x_new)\n",
    "        interp[column] = y_new\n",
    "\n",
    "\n",
    "    # setting first cumulative_angle to zero and ajdusting all others\n",
    "    interp.iloc[:,4] -= interp.iloc[0,4]\n",
    "\n",
    "\n",
    "    # calculating distance traveled between each timeframe\n",
    "    # distance = sqrt((x2-x1)**2 + (y2-y1)**2)\n",
    "    interp['distance_pts'] = 0\n",
    "    for row in range(1,len(interp),1):\n",
    "        distance = np.sqrt((interp['X_coord'][row]-interp['X_coord'][row-1])**2\\\n",
    "                            +(interp['Y_coord'][row]-interp['Y_coord'][row-1])**2)\n",
    "        interp.iloc[row,5] = distance\n",
    "\n",
    "\n",
    "    # cleaning the timestamps\n",
    "    interp.insert(0, 'new_timestamp', range(1, 1 + len(interp)))\n",
    "    interp = interp.drop(columns=['timestamp']).rename(columns={'new_timestamp':'timestamp'})\n",
    "    interp['timestamp'] = interp['timestamp']/1000\n",
    "\n",
    "    return np.array(interp)"
   ]
  },
  {
   "cell_type": "code",
   "execution_count": null,
   "id": "cecd531c",
   "metadata": {},
   "outputs": [],
   "source": [
    "raw_me1 = pd.read_csv('../raw_data/AM/Met/xy_hc_fai_tstp_Me_1_AM.csv')"
   ]
  },
  {
   "cell_type": "code",
   "execution_count": null,
   "id": "31d2a70d",
   "metadata": {},
   "outputs": [],
   "source": [
    "raw_me1"
   ]
  },
  {
   "cell_type": "code",
   "execution_count": null,
   "id": "05508fd2",
   "metadata": {},
   "outputs": [],
   "source": [
    "preproc_df_me1 = pd.DataFrame(omr_preprocess(raw_me1))\n",
    "preproc_df_me1.columns = ['timestamp', 'X_coord', 'Y_coord','heading_direction', 'cumulative_direction', \\\n",
    "                          'distance_pts']"
   ]
  },
  {
   "cell_type": "code",
   "execution_count": null,
   "id": "250b7b80",
   "metadata": {},
   "outputs": [],
   "source": [
    "preproc_df_me1"
   ]
  },
  {
   "cell_type": "code",
   "execution_count": null,
   "id": "6a68c1bb",
   "metadata": {},
   "outputs": [],
   "source": [
    "me1 = pd.read_csv('../raw_data/AM/Met/xy_hc_fai_tstp_Me_1_AM.csv')\n",
    "me2 = pd.read_csv('../raw_data/AM/Met/xy_hc_fai_tstp_Me_2_AM.csv')\n",
    "me3 = pd.read_csv('../raw_data/AM/Met/xy_hc_fai_tstp_Me_3_AM.csv')\n",
    "me4 = pd.read_csv('../raw_data/AM/Met/xy_hc_fai_tstp_Me_4_AM.csv')\n",
    "me5 = pd.read_csv('../raw_data/AM/Met/xy_hc_fai_tstp_Me_5_AM.csv')\n",
    "me6 = pd.read_csv('../raw_data/AM/Met/xy_hc_fai_tstp_Me_6_AM.csv')\n",
    "me7 = pd.read_csv('../raw_data/AM/Met/xy_hc_fai_tstp_Me_7_AM.csv')\n",
    "me8 = pd.read_csv('../raw_data/AM/Met/xy_hc_fai_tstp_Me_8_AM.csv')\n",
    "me9 = pd.read_csv('../raw_data/AM/Met/xy_hc_fai_tstp_Me_9_AM.csv')\n",
    "me10 = pd.read_csv('../raw_data/AM/Met/xy_hc_fai_tstp_Me_10_AM.csv')\n",
    "me11 = pd.read_csv('../raw_data/AM/Met/xy_hc_fai_tstp_Me_11_AM.csv')\n",
    "me12 = pd.read_csv('../raw_data/AM/Met/xy_hc_fai_tstp_Me_12_AM.csv')\n",
    "me13 = pd.read_csv('../raw_data/AM/Met/xy_hc_fai_tstp_Me_13_AM.csv')\n",
    "me14 = pd.read_csv('../raw_data/AM/Met/xy_hc_fai_tstp_Me_14_AM.csv')\n",
    "me15 = pd.read_csv('../raw_data/AM/Met/xy_hc_fai_tstp_Me_15_AM.csv')\n",
    "me16 = pd.read_csv('../raw_data/AM/Met/xy_hc_fai_tstp_Me_16_AM.csv')\n",
    "me17 = pd.read_csv('../raw_data/AM/Met/xy_hc_fai_tstp_Me_17_AM.csv')"
   ]
  },
  {
   "cell_type": "code",
   "execution_count": null,
   "id": "31e0a6ac",
   "metadata": {},
   "outputs": [],
   "source": [
    "me1 = omr_preprocess(me1)\n",
    "me2 = omr_preprocess(me2)\n",
    "me3 = omr_preprocess(me3)\n",
    "me4 = omr_preprocess(me4)\n",
    "me5 = omr_preprocess(me5)\n",
    "me6 = omr_preprocess(me6)\n",
    "me7 = omr_preprocess(me7)\n",
    "me8 = omr_preprocess(me8)\n",
    "me9 = omr_preprocess(me9)\n",
    "me10 = omr_preprocess(me10)\n",
    "me11 = omr_preprocess(me11)\n",
    "me12 = omr_preprocess(me12)\n",
    "me13 = omr_preprocess(me13)\n",
    "me14 = omr_preprocess(me14)\n",
    "me15 = omr_preprocess(me15)\n",
    "me16 = omr_preprocess(me16)\n",
    "me17 = omr_preprocess(me17)"
   ]
  },
  {
   "cell_type": "code",
   "execution_count": null,
   "id": "4864754e",
   "metadata": {},
   "outputs": [],
   "source": [
    "def combine_fish_data(*args):\n",
    "    '''Combines preprocessed data from all fish into a 3D numpy array'''\n",
    "    combined_fish = np.stack((args),axis=0)\n",
    "    return combined_fish"
   ]
  },
  {
   "cell_type": "code",
   "execution_count": null,
   "id": "1e04876f",
   "metadata": {},
   "outputs": [],
   "source": [
    "me_data = combine_fish_data(me1,me2,me3,me4,me5,me6,me7,me8,me9,me10,me11,me12,me13,me14,me15,me16,me17)"
   ]
  },
  {
   "cell_type": "code",
   "execution_count": null,
   "id": "1858b924",
   "metadata": {},
   "outputs": [],
   "source": [
    "preproc_df_me1.head()"
   ]
  },
  {
   "cell_type": "code",
   "execution_count": null,
   "id": "d156057a",
   "metadata": {},
   "outputs": [],
   "source": [
    "for fish in me_data:\n",
    "    fish_distance = fish[:,5]\n",
    "    fish_distance = gaussian_filter1d(fish_distance,sigma=10)\n",
    "    fish_distance_2 = []\n",
    "    for frame in fish_distance:\n",
    "        if frame<=0.1:\n",
    "            frame=0\n",
    "        fish_distance_2.append(frame)\n",
    "    fish_distance = fish_distance_2"
   ]
  },
  {
   "cell_type": "code",
   "execution_count": null,
   "id": "4ed83545",
   "metadata": {},
   "outputs": [],
   "source": [
    "original = me_data[7,:,5]\n",
    "smooth1 = gaussian_filter1d(me_data[0,:,5],sigma=10)\n",
    "smooth2 = gaussian_filter1d(me_data[0,:,5],sigma=20)\n",
    "\n",
    "fig, ax = plt.subplots(1,1,figsize=(18,10))\n",
    "ax.plot(original, 'gray', lw=0.5, label='original data')\n",
    "ax.plot(smooth1, '--', color='r',label='filtered, sigma=10')\n",
    "ax.plot(smooth2, ':', color='b',label='filtered, sigma=20')\n",
    "plt.xlim(5000,10000)\n",
    "ax.legend()\n",
    "ax.grid()\n",
    "plt.show()"
   ]
  },
  {
   "cell_type": "code",
   "execution_count": null,
   "id": "d133bbef",
   "metadata": {},
   "outputs": [],
   "source": [
    "fish = np.array(preproc_df_me1)\n",
    "fish_distance = fish[:,5]\n",
    "fish_distance = gaussian_filter1d(fish_distance,sigma=10)\n",
    "fish_distance_2 = []\n",
    "for frame in fish_distance:\n",
    "    if frame<=0.1:\n",
    "        frame=0\n",
    "    fish_distance_2.append(frame)\n",
    "fish_distance = fish_distance_2"
   ]
  },
  {
   "cell_type": "code",
   "execution_count": null,
   "id": "8b6c91d3",
   "metadata": {},
   "outputs": [],
   "source": [
    "original = fish[:,5]\n",
    "# smooth1 = gaussian_filter1d(fish[:,5],sigma=10)\n",
    "smooth2 = gaussian_filter1d(fish[:,5],sigma=10)\n",
    "\n",
    "fig, ax = plt.subplots(1,1,figsize=(18,10))\n",
    "ax.plot(original, 'gray', lw=0.5, label='original data')\n",
    "# ax.plot(smooth1, '--', color='r',label='filtered, sigma=10')\n",
    "ax.plot(smooth2, ':', color='b',label='filtered, sigma=20')\n",
    "# plt.xlim(20000,22000)\n",
    "# plt.ylim(0,2)\n",
    "ax.legend()\n",
    "ax.grid()\n",
    "plt.show()"
   ]
  },
  {
   "cell_type": "code",
   "execution_count": null,
   "id": "a0dbcea1",
   "metadata": {
    "scrolled": false
   },
   "outputs": [],
   "source": [
    "fish = np.array(preproc_df_me1)\n",
    "fish_distance = fish[:,5]\n",
    "fish_distance = gaussian_filter1d(fish_distance,sigma=10)\n",
    "fish_distance_2 = []\n",
    "for frame in fish_distance:\n",
    "    if frame<=0.1:\n",
    "        frame=0\n",
    "    fish_distance_2.append(frame)\n",
    "fish_distance = fish_distance_2\n",
    "\n",
    "# Differentiating the smoothed distance\n",
    "derivative = np.gradient(fish_distance,edge_order=1)\n",
    "\n",
    "# Smoothing the derivative\n",
    "smooth_derivative = gaussian_filter1d(derivative,sigma=1)\n",
    "\n",
    "# Creating a histogram of smooth derivative \n",
    "hist, bin_edges = np.histogram(smooth_derivative,bins='scott')\n",
    "\n",
    "print(bin_edges[-1]+abs(bin_edges[0]))\n",
    "fig, ax = plt.subplots(1,1,figsize=(20,10))\n",
    "# plt.xlim(-0.2,0.2)\n",
    "sns.histplot(smooth_derivative,bins='scott',kde=True)\n",
    "plt.show()"
   ]
  },
  {
   "cell_type": "code",
   "execution_count": null,
   "id": "65a4bb54",
   "metadata": {},
   "outputs": [],
   "source": [
    "np.histogram(smooth_derivative,bins='scott')[1]"
   ]
  },
  {
   "cell_type": "code",
   "execution_count": null,
   "id": "00d8c275",
   "metadata": {
    "scrolled": false
   },
   "outputs": [],
   "source": [
    "fish = np.array(preproc_df_me1)\n",
    "fish_distance = fish[:,5]\n",
    "if np.sum(np.isnan(fish_distance)) > 0:\n",
    "    np.nan_to_num(fish_distance,copy=False,nan=0)\n",
    "fish_distance_gauss = gaussian_filter1d(fish_distance,sigma=15)\n",
    "\n",
    "fish_distance_2 = []\n",
    "for frame in fish_distance_gauss:\n",
    "    if frame<=0.1:\n",
    "        frame=0\n",
    "    fish_distance_2.append(frame)\n",
    "fish_distance_gauss = fish_distance_2\n",
    "\n",
    "# Differentiating the smoothed distance\n",
    "derivative = np.gradient(fish_distance_gauss,edge_order=1)\n",
    "\n",
    "# Smoothing the derivative\n",
    "smooth_derivative = gaussian_filter1d(derivative,sigma=1)\n",
    "\n",
    "# Creating a histogram of smooth derivative \n",
    "hist, bin_edges = np.histogram(smooth_derivative,bins='scott')\n",
    "\n",
    "threshold = (bin_edges[-1]-(bin_edges[0]))*2\n",
    "\n",
    "fig, ax = plt.subplots(1,1,figsize=(18,10))\n",
    "ax.plot(fish_distance, 'gray', lw=0.5, label='original data')\n",
    "ax.plot(fish_distance_gauss, ':', color='b',label='filtered, sigma=5')\n",
    "ax.axhline(y=threshold, color='r', linestyle='-',lw=0.5,label='threshold line')\n",
    "# plt.xlim(30000,40000)\n",
    "# plt.ylim(0,2)\n",
    "ax.legend()\n",
    "ax.grid()\n",
    "plt.show()\n",
    "\n",
    "peaks = find_peaks(fish_distance_gauss,height=threshold)\n",
    "\n",
    "print('Threshold: ',threshold)\n",
    "print('Number of Peaks: ',len(peaks[0]))"
   ]
  },
  {
   "cell_type": "markdown",
   "id": "41037b29",
   "metadata": {},
   "source": [
    "## All fish thresholds"
   ]
  },
  {
   "cell_type": "code",
   "execution_count": null,
   "id": "cbf7a0ab",
   "metadata": {
    "scrolled": false
   },
   "outputs": [],
   "source": [
    "for fish in me_data:\n",
    "    fish_distance = fish[:,5]\n",
    "    if np.sum(np.isnan(fish_distance)) > 0:\n",
    "        np.nan_to_num(fish_distance,copy=False,nan=0)\n",
    "    fish_distance_gauss = gaussian_filter1d(fish_distance,sigma=15)\n",
    "\n",
    "    fish_distance_2 = []\n",
    "    for frame in fish_distance_gauss:\n",
    "        if frame<=0.1:\n",
    "            frame=0\n",
    "        fish_distance_2.append(frame)\n",
    "    fish_distance_gauss = fish_distance_2\n",
    "\n",
    "    # Differentiating the smoothed distance\n",
    "    derivative = np.gradient(fish_distance_gauss,edge_order=1)\n",
    "\n",
    "    # Smoothing the derivative\n",
    "    smooth_derivative = gaussian_filter1d(derivative,sigma=1)\n",
    "\n",
    "    # Creating a histogram of smooth derivative \n",
    "    hist, bin_edges = np.histogram(smooth_derivative,bins='scott')\n",
    "\n",
    "    threshold = (bin_edges[-1]-(bin_edges[0]))*2\n",
    "\n",
    "    fig, ax = plt.subplots(1,1,figsize=(18,10))\n",
    "    ax.plot(fish_distance, 'gray', lw=0.5, label='original data')\n",
    "    ax.plot(fish_distance_gauss, ':', color='b',label='filtered, sigma=5')\n",
    "    ax.axhline(y=threshold, color='r', linestyle='-',lw=0.5,label='threshold line')\n",
    "    # plt.xlim(30000,40000)\n",
    "    # plt.ylim(0,2)\n",
    "    ax.legend()\n",
    "    ax.grid()\n",
    "    plt.show()\n",
    "\n",
    "    peaks = find_peaks(fish_distance_gauss,height=threshold)\n",
    "\n",
    "    print('Threshold: ',threshold)\n",
    "    print('Number of Peaks: ',len(peaks[0]))"
   ]
  },
  {
   "cell_type": "code",
   "execution_count": null,
   "id": "8d1c4da5",
   "metadata": {},
   "outputs": [],
   "source": []
  }
 ],
 "metadata": {
  "kernelspec": {
   "display_name": "Python 3 (ipykernel)",
   "language": "python",
   "name": "python3"
  },
  "language_info": {
   "codemirror_mode": {
    "name": "ipython",
    "version": 3
   },
   "file_extension": ".py",
   "mimetype": "text/x-python",
   "name": "python",
   "nbconvert_exporter": "python",
   "pygments_lexer": "ipython3",
   "version": "3.8.6"
  },
  "toc": {
   "base_numbering": 1,
   "nav_menu": {},
   "number_sections": true,
   "sideBar": true,
   "skip_h1_title": false,
   "title_cell": "Table of Contents",
   "title_sidebar": "Contents",
   "toc_cell": false,
   "toc_position": {},
   "toc_section_display": true,
   "toc_window_display": false
  }
 },
 "nbformat": 4,
 "nbformat_minor": 5
}

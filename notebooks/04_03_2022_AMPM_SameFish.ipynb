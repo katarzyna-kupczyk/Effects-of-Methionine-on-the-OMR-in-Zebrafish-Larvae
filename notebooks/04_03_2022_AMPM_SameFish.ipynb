{
 "cells": [
  {
   "cell_type": "code",
   "execution_count": 1,
   "id": "e33017ac",
   "metadata": {},
   "outputs": [],
   "source": [
    "import pandas as pd\n",
    "import numpy as np\n",
    "from scipy import interpolate"
   ]
  },
  {
   "cell_type": "markdown",
   "id": "dc03171b",
   "metadata": {},
   "source": [
    "## Comparing Morning and Afternoon for Same Fish (either E2 or Met)"
   ]
  },
  {
   "cell_type": "markdown",
   "id": "6eb5f3dd",
   "metadata": {},
   "source": [
    "### File Names"
   ]
  },
  {
   "cell_type": "code",
   "execution_count": 44,
   "id": "c9897f46",
   "metadata": {},
   "outputs": [],
   "source": [
    "files = pd.DataFrame(columns=['fish','medium','am_file', 'pm_file'])"
   ]
  },
  {
   "cell_type": "code",
   "execution_count": 45,
   "id": "3a51c5a7",
   "metadata": {},
   "outputs": [],
   "source": [
    "files['fish'] = [1,2,3,4,5,6,7]"
   ]
  },
  {
   "cell_type": "code",
   "execution_count": 46,
   "id": "3a2ec563",
   "metadata": {},
   "outputs": [],
   "source": [
    "files['medium'] = ['E2','E2','E2','E2','Me','Me','Me']"
   ]
  },
  {
   "cell_type": "code",
   "execution_count": 47,
   "id": "f4d7db9f",
   "metadata": {},
   "outputs": [],
   "source": [
    "files['am_file'] = ['xy_hc_fai_tstp_E2_10_AM',\n",
    "                    'xy_hc_fai_tstp_E2_11_AM',\n",
    "                    'xy_hc_fai_tstp_E2_12_AM',\n",
    "                    'xy_hc_fai_tstp_E2_13_AM',\n",
    "                    'xy_hc_fai_tstp_Me_11_AM',\n",
    "                    'xy_hc_fai_tstp_Me_12_AM',\n",
    "                    'xy_hc_fai_tstp_Me_13_AM',]"
   ]
  },
  {
   "cell_type": "code",
   "execution_count": 48,
   "id": "75317543",
   "metadata": {},
   "outputs": [],
   "source": [
    "files['pm_file'] = ['xy_hc_fai_tstp_E2_12_PM',\n",
    "                    'xy_hc_fai_tstp_E2_13_PM',\n",
    "                    'xy_hc_fai_tstp_E2_14_PM',\n",
    "                    'xy_hc_fai_tstp_E2_15_PM',\n",
    "                    'xy_hc_fai_tstp_Me_14_PM',\n",
    "                    'xy_hc_fai_tstp_Me_15_PM',\n",
    "                    'xy_hc_fai_tstp_Me_16_PM',]"
   ]
  },
  {
   "cell_type": "code",
   "execution_count": 49,
   "id": "8d81f043",
   "metadata": {},
   "outputs": [
    {
     "data": {
      "text/html": [
       "<div>\n",
       "<style scoped>\n",
       "    .dataframe tbody tr th:only-of-type {\n",
       "        vertical-align: middle;\n",
       "    }\n",
       "\n",
       "    .dataframe tbody tr th {\n",
       "        vertical-align: top;\n",
       "    }\n",
       "\n",
       "    .dataframe thead th {\n",
       "        text-align: right;\n",
       "    }\n",
       "</style>\n",
       "<table border=\"1\" class=\"dataframe\">\n",
       "  <thead>\n",
       "    <tr style=\"text-align: right;\">\n",
       "      <th></th>\n",
       "      <th>fish</th>\n",
       "      <th>medium</th>\n",
       "      <th>am_file</th>\n",
       "      <th>pm_file</th>\n",
       "    </tr>\n",
       "  </thead>\n",
       "  <tbody>\n",
       "    <tr>\n",
       "      <th>0</th>\n",
       "      <td>1</td>\n",
       "      <td>E2</td>\n",
       "      <td>xy_hc_fai_tstp_E2_10_AM</td>\n",
       "      <td>xy_hc_fai_tstp_E2_12_PM</td>\n",
       "    </tr>\n",
       "    <tr>\n",
       "      <th>1</th>\n",
       "      <td>2</td>\n",
       "      <td>E2</td>\n",
       "      <td>xy_hc_fai_tstp_E2_11_AM</td>\n",
       "      <td>xy_hc_fai_tstp_E2_13_PM</td>\n",
       "    </tr>\n",
       "    <tr>\n",
       "      <th>2</th>\n",
       "      <td>3</td>\n",
       "      <td>E2</td>\n",
       "      <td>xy_hc_fai_tstp_E2_12_AM</td>\n",
       "      <td>xy_hc_fai_tstp_E2_14_PM</td>\n",
       "    </tr>\n",
       "    <tr>\n",
       "      <th>3</th>\n",
       "      <td>4</td>\n",
       "      <td>E2</td>\n",
       "      <td>xy_hc_fai_tstp_E2_13_AM</td>\n",
       "      <td>xy_hc_fai_tstp_E2_15_PM</td>\n",
       "    </tr>\n",
       "    <tr>\n",
       "      <th>4</th>\n",
       "      <td>5</td>\n",
       "      <td>Me</td>\n",
       "      <td>xy_hc_fai_tstp_Me_11_AM</td>\n",
       "      <td>xy_hc_fai_tstp_Me_14_PM</td>\n",
       "    </tr>\n",
       "    <tr>\n",
       "      <th>5</th>\n",
       "      <td>6</td>\n",
       "      <td>Me</td>\n",
       "      <td>xy_hc_fai_tstp_Me_12_AM</td>\n",
       "      <td>xy_hc_fai_tstp_Me_15_PM</td>\n",
       "    </tr>\n",
       "    <tr>\n",
       "      <th>6</th>\n",
       "      <td>7</td>\n",
       "      <td>Me</td>\n",
       "      <td>xy_hc_fai_tstp_Me_13_AM</td>\n",
       "      <td>xy_hc_fai_tstp_Me_16_PM</td>\n",
       "    </tr>\n",
       "  </tbody>\n",
       "</table>\n",
       "</div>"
      ],
      "text/plain": [
       "   fish medium                  am_file                  pm_file\n",
       "0     1     E2  xy_hc_fai_tstp_E2_10_AM  xy_hc_fai_tstp_E2_12_PM\n",
       "1     2     E2  xy_hc_fai_tstp_E2_11_AM  xy_hc_fai_tstp_E2_13_PM\n",
       "2     3     E2  xy_hc_fai_tstp_E2_12_AM  xy_hc_fai_tstp_E2_14_PM\n",
       "3     4     E2  xy_hc_fai_tstp_E2_13_AM  xy_hc_fai_tstp_E2_15_PM\n",
       "4     5     Me  xy_hc_fai_tstp_Me_11_AM  xy_hc_fai_tstp_Me_14_PM\n",
       "5     6     Me  xy_hc_fai_tstp_Me_12_AM  xy_hc_fai_tstp_Me_15_PM\n",
       "6     7     Me  xy_hc_fai_tstp_Me_13_AM  xy_hc_fai_tstp_Me_16_PM"
      ]
     },
     "execution_count": 49,
     "metadata": {},
     "output_type": "execute_result"
    }
   ],
   "source": [
    "files"
   ]
  },
  {
   "cell_type": "code",
   "execution_count": null,
   "id": "b0435d60",
   "metadata": {},
   "outputs": [],
   "source": []
  }
 ],
 "metadata": {
  "kernelspec": {
   "display_name": "Python 3 (ipykernel)",
   "language": "python",
   "name": "python3"
  },
  "language_info": {
   "codemirror_mode": {
    "name": "ipython",
    "version": 3
   },
   "file_extension": ".py",
   "mimetype": "text/x-python",
   "name": "python",
   "nbconvert_exporter": "python",
   "pygments_lexer": "ipython3",
   "version": "3.8.6"
  },
  "toc": {
   "base_numbering": 1,
   "nav_menu": {},
   "number_sections": true,
   "sideBar": true,
   "skip_h1_title": false,
   "title_cell": "Table of Contents",
   "title_sidebar": "Contents",
   "toc_cell": false,
   "toc_position": {},
   "toc_section_display": true,
   "toc_window_display": false
  }
 },
 "nbformat": 4,
 "nbformat_minor": 5
}

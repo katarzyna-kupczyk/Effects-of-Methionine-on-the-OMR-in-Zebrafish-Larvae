{
 "cells": [
  {
   "cell_type": "code",
   "execution_count": 6,
   "id": "38b8df90",
   "metadata": {},
   "outputs": [],
   "source": [
    "import pandas as pd\n",
    "import matplotlib.pyplot as plt"
   ]
  },
  {
   "cell_type": "code",
   "execution_count": 5,
   "id": "c85ca9fb",
   "metadata": {},
   "outputs": [],
   "source": [
    "for e in range(1,17):\n",
    "    exec(f'e{e} = pd.read_csv(\"../raw_data/AM/E2/xy_hc_fai_tstp_E2_{e}_AM.csv\")')"
   ]
  },
  {
   "cell_type": "code",
   "execution_count": null,
   "id": "da4def70",
   "metadata": {},
   "outputs": [],
   "source": []
  },
  {
   "cell_type": "code",
   "execution_count": null,
   "id": "75c82d35",
   "metadata": {},
   "outputs": [],
   "source": []
  }
 ],
 "metadata": {
  "kernelspec": {
   "display_name": "Python 3 (ipykernel)",
   "language": "python",
   "name": "python3"
  },
  "language_info": {
   "codemirror_mode": {
    "name": "ipython",
    "version": 3
   },
   "file_extension": ".py",
   "mimetype": "text/x-python",
   "name": "python",
   "nbconvert_exporter": "python",
   "pygments_lexer": "ipython3",
   "version": "3.8.6"
  },
  "toc": {
   "base_numbering": 1,
   "nav_menu": {},
   "number_sections": true,
   "sideBar": true,
   "skip_h1_title": false,
   "title_cell": "Table of Contents",
   "title_sidebar": "Contents",
   "toc_cell": false,
   "toc_position": {},
   "toc_section_display": true,
   "toc_window_display": false
  }
 },
 "nbformat": 4,
 "nbformat_minor": 5
}

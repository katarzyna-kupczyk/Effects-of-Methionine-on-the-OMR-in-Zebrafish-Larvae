{
 "cells": [
  {
   "cell_type": "markdown",
   "id": "faa5b463",
   "metadata": {},
   "source": [
    "# Imports"
   ]
  },
  {
   "cell_type": "code",
   "execution_count": 1,
   "id": "4dfde596",
   "metadata": {},
   "outputs": [],
   "source": [
    "import os, sys\n",
    "import pandas as pd\n",
    "import numpy as np\n",
    "import matplotlib.pyplot as plt\n",
    "from scipy import interpolate\n",
    "from scipy.stats import norm\n",
    "from scipy import stats\n",
    "import seaborn as sns\n",
    "from scipy.signal import find_peaks\n",
    "from scipy.ndimage import gaussian_filter1d\n",
    "import matplotlib.font_manager as font_manager\n",
    "from scipy.optimize import curve_fit\n",
    "import math\n",
    "from scipy.special import expit\n",
    "from scipy import signal\n",
    "import statsmodels.api as sm\n",
    "from statsmodels.formula.api import ols\n",
    "import pingouin as pg"
   ]
  },
  {
   "cell_type": "markdown",
   "id": "419a7719",
   "metadata": {},
   "source": [
    "# Division and Preprocessing Functions"
   ]
  },
  {
   "cell_type": "code",
   "execution_count": 2,
   "id": "54d76c4c",
   "metadata": {},
   "outputs": [],
   "source": [
    "def divide_data_by_flow_direction(data):\n",
    "    '''Dividing raw data from one fish into 2 dataframes with either left or right OMR flow'''\n",
    "    data.columns = ['X_coord', 'Y_coord', 'heading_direction', \\\n",
    "                'cumulative_direction','beat_freq', 'beat_amp', \\\n",
    "                'tail_move?', 'timestamp', 'contrast_level', 'flow_direction']\n",
    "    right = pd.DataFrame(data[data.flow_direction == 1])\n",
    "    left = pd.DataFrame(data[data.flow_direction == 2])\n",
    "    zero = pd.DataFrame(data[data.flow_direction == 0])\n",
    "\n",
    "    return right, left, zero\n",
    "\n",
    "def divide_data_by_contrast(data):\n",
    "    '''Dividing raw data from one fish and one flow direction into contrast levels'''\n",
    "    C_0 = pd.DataFrame(data[data.contrast_level == 0])\n",
    "    C_01 = pd.DataFrame(data[data.contrast_level == 0.01])\n",
    "    C_1 = pd.DataFrame(data[data.contrast_level == 0.1])\n",
    "    C_2 = pd.DataFrame(data[data.contrast_level == 0.2])\n",
    "    C_3 = pd.DataFrame(data[data.contrast_level == 0.3])\n",
    "    C_5 = pd.DataFrame(data[data.contrast_level == 0.5])\n",
    "    C_7 = pd.DataFrame(data[data.contrast_level == 0.7])\n",
    "    C_10 = pd.DataFrame(data[data.contrast_level == 1])\n",
    "    return C_0, C_01, C_1, C_2, C_3, C_5, C_7, C_10\n",
    "\n",
    "def divide_C0(C0):\n",
    "    C0 = C0.reset_index()\n",
    "    C0['counter'] = 0\n",
    "    counter = 0\n",
    "    first_index = 0\n",
    "    for i, r in C0[:-1].iterrows():\n",
    "        if C0.iloc[i+1]['index'] - r['index'] != 1:\n",
    "            counter +=1\n",
    "            last_index = r['index']\n",
    "            C0.loc[first_index:i,'counter'] = counter\n",
    "            first_index = i+1\n",
    "    \n",
    "    C0_0 = pd.DataFrame(C0[C0.counter == 0]).drop(columns=['counter','index']).reset_index().drop(columns=['index'])\n",
    "    C0_1 = pd.DataFrame(C0[C0.counter == 1]).drop(columns=['counter','index']).reset_index().drop(columns=['index'])\n",
    "    C0_2 = pd.DataFrame(C0[C0.counter == 2]).drop(columns=['counter','index']).reset_index().drop(columns=['index'])\n",
    "    C0_3 = pd.DataFrame(C0[C0.counter == 3]).drop(columns=['counter','index']).reset_index().drop(columns=['index'])\n",
    "    C0_4 = pd.DataFrame(C0[C0.counter == 4]).drop(columns=['counter','index']).reset_index().drop(columns=['index'])\n",
    "    C0_5 = pd.DataFrame(C0[C0.counter == 5]).drop(columns=['counter','index']).reset_index().drop(columns=['index'])\n",
    "    C0_6 = pd.DataFrame(C0[C0.counter == 6]).drop(columns=['counter','index']).reset_index().drop(columns=['index'])\n",
    "    C0_7 = pd.DataFrame(C0[C0.counter == 7]).drop(columns=['counter','index']).reset_index().drop(columns=['index'])\n",
    "    C0_8 = pd.DataFrame(C0[C0.counter == 8]).drop(columns=['counter','index']).reset_index().drop(columns=['index'])\n",
    "    C0_9 = pd.DataFrame(C0[C0.counter == 9]).drop(columns=['counter','index']).reset_index().drop(columns=['index'])\n",
    "    C0_10 = pd.DataFrame(C0[C0.counter == 10]).drop(columns=['counter','index']).reset_index().drop(columns=['index'])\n",
    "    C0_11 = pd.DataFrame(C0[C0.counter == 11]).drop(columns=['counter','index']).reset_index().drop(columns=['index'])\n",
    "    C0_12 = pd.DataFrame(C0[C0.counter == 12]).drop(columns=['counter','index']).reset_index().drop(columns=['index'])\n",
    "    \n",
    "    return C0_0, C0_1, C0_2, C0_3, C0_4, C0_5, C0_6, C0_7, C0_8, C0_9, C0_10, C0_11, C0_12\n",
    "\n",
    "def omr_preprocess(data):\n",
    "    # remove timestamp and extras\n",
    "    # keep x, y, heading, cumulative, timestamp\n",
    "    data.columns = ['X_coord', 'Y_coord', 'heading_direction', \\\n",
    "                'cumulative_direction','beat_freq', 'beat_amp', \\\n",
    "                'tail_move?', 'timestamp', 'contrast_level', 'flow_direction']\n",
    "    new = data.drop(columns = ['beat_freq', 'beat_amp','tail_move?', 'contrast_level', 'flow_direction'])\n",
    "    \n",
    "    # resetting index\n",
    "    new = pd.DataFrame(new)\n",
    "    new = new.set_index('timestamp').reset_index()\n",
    "\n",
    "\n",
    "    # remove time points where there was an angle change of more than pi from one frame to another\n",
    "    for i, row in new.iterrows():\n",
    "        if i+1 == len(new):\n",
    "            break\n",
    "            # modify to add the exclusion zone\n",
    "        if np.abs(new.at[i+1,'cumulative_direction']-new.at[i,'cumulative_direction']) >= 2.5:\n",
    "            new.at[i+1, 'cumulative_direction'] = new.at[i,'cumulative_direction']\n",
    "\n",
    "    tstp = np.arange(0,30,30/len(new))\n",
    "    if len(new['timestamp']) != len(tstp):\n",
    "        tstp = tstp[:-1]\n",
    "    tstpdate = pd.to_datetime(tstp,unit='s')\n",
    "    new['timestamp'] = tstp\n",
    "    new['tstpdate'] = tstpdate\n",
    "    new = new.set_index('tstpdate')\n",
    "    new_df = new.resample('10ms')\n",
    "    new_df = new_df.first()\n",
    "    new_df.interpolate(method='linear',inplace=True)\n",
    "\n",
    "    interp = new_df.copy()\n",
    "    # setting first cumulative_angle to zero and ajdusting all others\n",
    "    interp.iloc[:,4] -= interp.iloc[0,4]\n",
    "\n",
    "\n",
    "    # calculating distance traveled between each timeframe\n",
    "    # distance = sqrt((x2-x1)**2 + (y2-y1)**2)\n",
    "    interp['distance_pts'] = 0\n",
    "    for row in range(1,len(interp),1):\n",
    "        distance = np.sqrt((interp['X_coord'][row]-interp['X_coord'][row-1])**2\\\n",
    "                            +(interp['Y_coord'][row]-interp['Y_coord'][row-1])**2)\n",
    "        interp.iloc[row,5] = distance\n",
    "\n",
    "\n",
    "    #cleaning the timestamps\n",
    "    interp.insert(0, 'new_timestamp', range(1, 1 + len(interp)))\n",
    "    interp = interp.drop(columns=['timestamp']).rename(columns={'new_timestamp':'timestamp'})\n",
    "    interp['timestamp'] = interp['timestamp']/100\n",
    "\n",
    "    #resetting index to integers\n",
    "    interp = interp.reset_index()\n",
    "    interp = interp.drop(columns=['tstpdate'])\n",
    "\n",
    "    return np.array(interp)\n",
    "\n",
    "def combine_fish_data(*args):\n",
    "    '''Combines preprocessed data from all fish into a 3D numpy array'''\n",
    "    combined_fish = np.stack((args),axis=0)\n",
    "    return combined_fish"
   ]
  },
  {
   "cell_type": "code",
   "execution_count": 3,
   "id": "76b39a36",
   "metadata": {},
   "outputs": [],
   "source": [
    "# pm_Ze1 = pm_Ze1.reset_index()\n",
    "# for i, r in pm_Ze1[:-1].iterrows():\n",
    "#     if pm_Ze1.iloc[i+1]['index'] - r['index'] != 1:\n",
    "#         last_index = r['index'] \n",
    "#         print(last_index)\n",
    "#         print('-------')"
   ]
  },
  {
   "cell_type": "markdown",
   "id": "265094a6",
   "metadata": {},
   "source": [
    "# Reading and Preprocessing"
   ]
  },
  {
   "cell_type": "code",
   "execution_count": 4,
   "id": "27c9ed5b",
   "metadata": {},
   "outputs": [],
   "source": [
    "for e in range(1,31):\n",
    "    exec(f'pm_e{e} = pd.read_csv(\"../raw_data/PM/E2/xy_hc_fai_tstp_E2_{e}_PM.csv\")')\n",
    "    \n",
    "for e in range(1,31):\n",
    "    exec(f'pm_Re{e},pm_Le{e},pm_Ze{e} = divide_data_by_flow_direction(pm_e{e})')\n",
    "    \n",
    "for e in range(1,31):\n",
    "    exec(f'pm_e_C0_{e}_0, pm_e_C0_{e}_1, pm_e_C0_{e}_2, pm_e_C0_{e}_3, pm_e_C0_{e}_4, pm_e_C0_{e}_5, pm_e_C0_{e}_6, pm_e_C0_{e}_7, pm_e_C0_{e}_8, pm_e_C0_{e}_9, \\\n",
    "            pm_e_C0_{e}_10, pm_e_C0_{e}_11, pm_e_C0_{e}_12 = divide_C0(pm_Ze{e})')\n",
    "    \n",
    "for n in ['0','1','2','3','4','5','6','7','8','9','10','11','12']:\n",
    "    for e in range(1,31):\n",
    "        exec(f'pm_e_C0_{e}_{n} = omr_preprocess(pm_e_C0_{e}_{n})')\n",
    "\n",
    "# for flow in ['R','L']:\n",
    "#     for e in range(1,19):\n",
    "#         exec(f'pm_{flow}e{e}C_0, pm_{flow}e{e}C_1, pm_{flow}e{e}C_10, pm_{flow}e{e}C_20, pm_{flow}e{e}C_30, \\\n",
    "#             pm_{flow}e{e}C_50, pm_{flow}e{e}C_70, pm_{flow}e{e}C_100 = divide_data_by_contrast(pm_{flow}e{e})')\n",
    "\n",
    "# for flow in ['R','L']:\n",
    "#     for contrast in ['1','10','20','30','50','70','100']:\n",
    "#         for e in range(1,19):\n",
    "#             exec(f'pm_{flow}e{e}C_{contrast} = omr_preprocess(pm_{flow}e{e}C_{contrast})')"
   ]
  },
  {
   "cell_type": "code",
   "execution_count": 5,
   "id": "bc494642",
   "metadata": {},
   "outputs": [],
   "source": [
    "for me in range(1,34):\n",
    "    exec(f'pm_me{me} = pd.read_csv(\"../raw_data/PM/Met/xy_hc_fai_tstp_Me_{me}_PM.csv\")')\n",
    "    \n",
    "for me in range(1,34):\n",
    "    exec(f'pm_Rme{me},pm_Lme{me},pm_Zme{me} = divide_data_by_flow_direction(pm_me{me})')\n",
    "\n",
    "for me in range(1,34):\n",
    "    exec(f'pm_me_C0_{me}_0, pm_me_C0_{me}_1, pm_me_C0_{me}_2, pm_me_C0_{me}_3, pm_me_C0_{me}_4, pm_me_C0_{me}_5, \\\n",
    "            pm_me_C0_{me}_6, pm_me_C0_{me}_7, pm_me_C0_{me}_8, pm_me_C0_{me}_9, pm_me_C0_{me}_10, pm_me_C0_{me}_11, \\\n",
    "            pm_me_C0_{me}_12 = divide_C0(pm_Zme{me})')\n",
    "    \n",
    "for n in ['0','1','2','3','4','5','6','7','8','9','10','11','12']:\n",
    "    for me in range(1,34):\n",
    "        exec(f'pm_me_C0_{me}_{n} = omr_preprocess(pm_me_C0_{me}_{n})')\n",
    "\n",
    "# for flow in ['R','L','Z']:\n",
    "#     for me in range(1,23):\n",
    "#         exec(f'pm_{flow}me{me}C_0, pm_{flow}me{me}C_1, pm_{flow}me{me}C_10, pm_{flow}me{me}C_20, pm_{flow}me{me}C_30, \\\n",
    "#             pm_{flow}me{me}C_50, pm_{flow}me{me}C_70, pm_{flow}me{me}C_100 = divide_data_by_contrast(pm_{flow}me{me})')\n",
    "\n",
    "# for flow in ['R','L']:\n",
    "#     for contrast in ['1','10','20','30','50','70','100']:\n",
    "#         for me in range(1,23):\n",
    "#             exec(f'pm_{flow}me{me}C_{contrast} = omr_preprocess(pm_{flow}me{me}C_{contrast})')"
   ]
  },
  {
   "cell_type": "code",
   "execution_count": 6,
   "id": "28adb5a9",
   "metadata": {},
   "outputs": [],
   "source": [
    "for e in range(1,23):\n",
    "    exec(f'am_e{e} = pd.read_csv(\"../raw_data/AM/E2/xy_hc_fai_tstp_E2_{e}_AM.csv\")')\n",
    "\n",
    "for e in range(1,23):\n",
    "    exec(f'am_Re{e},am_Le{e},am_Ze{e} = divide_data_by_flow_direction(am_e{e})')\n",
    "\n",
    "for e in range(1,23):\n",
    "    exec(f'am_e_C0_{e}_0, am_e_C0_{e}_1, am_e_C0_{e}_2, am_e_C0_{e}_3, am_e_C0_{e}_4, am_e_C0_{e}_5, am_e_C0_{e}_6, am_e_C0_{e}_7, am_e_C0_{e}_8, am_e_C0_{e}_9, \\\n",
    "            am_e_C0_{e}_10, am_e_C0_{e}_11, am_e_C0_{e}_12 = divide_C0(am_Ze{e})')\n",
    "    \n",
    "for n in ['0','1','2','3','4','5','6','7','8','9','10','11','12']:\n",
    "    for e in range(1,23):\n",
    "        exec(f'am_e_C0_{e}_{n} = omr_preprocess(am_e_C0_{e}_{n})')\n",
    "    \n",
    "# for flow in ['R','L','Z']:\n",
    "#     for e in range(1,17):\n",
    "#         exec(f'am_{flow}e{e}C_0, am_{flow}e{e}C_1, am_{flow}e{e}C_10, am_{flow}e{e}C_20, am_{flow}e{e}C_30, \\\n",
    "#             am_{flow}e{e}C_50, am_{flow}e{e}C_70, am_{flow}e{e}C_100 = divide_data_by_contrast(am_{flow}e{e})')\n",
    "\n",
    "# for flow in ['R','L']:\n",
    "#     for contrast in ['1','10','20','30','50','70','100']:\n",
    "#         for e in range(1,17):\n",
    "#             exec(f'am_{flow}e{e}C_{contrast} = omr_preprocess(am_{flow}e{e}C_{contrast})')"
   ]
  },
  {
   "cell_type": "code",
   "execution_count": 7,
   "id": "78401850",
   "metadata": {},
   "outputs": [],
   "source": [
    "for me in range(1,23):\n",
    "    exec(f'am_me{me} = pd.read_csv(\"../raw_data/AM/Met/xy_hc_fai_tstp_Me_{me}_AM.csv\")')\n",
    "    \n",
    "for me in range(1,23):\n",
    "    exec(f'am_Rme{me},am_Lme{me},am_Zme{me} = divide_data_by_flow_direction(am_me{me})')\n",
    "\n",
    "for me in range(1,23):\n",
    "    exec(f'am_me_C0_{me}_0, am_me_C0_{me}_1, am_me_C0_{me}_2, am_me_C0_{me}_3, am_me_C0_{me}_4, am_me_C0_{me}_5, \\\n",
    "            am_me_C0_{me}_6, am_me_C0_{me}_7, am_me_C0_{me}_8, am_me_C0_{me}_9, am_me_C0_{me}_10, am_me_C0_{me}_11, \\\n",
    "            am_me_C0_{me}_12 = divide_C0(am_Zme{me})')\n",
    "    \n",
    "for n in ['0','1','2','3','4','5','6','7','8','9','10','11','12']:\n",
    "    for me in range(1,23):\n",
    "        exec(f'am_me_C0_{me}_{n} = omr_preprocess(am_me_C0_{me}_{n})')\n",
    "# for flow in ['R','L','Z']:\n",
    "#     for me in range(1,18):\n",
    "#         exec(f'am_{flow}me{me}C_0, am_{flow}me{me}C_1, am_{flow}me{me}C_10, am_{flow}me{me}C_20, am_{flow}me{me}C_30,\\\n",
    "#         am_{flow}me{me}C_50, am_{flow}me{me}C_70, am_{flow}me{me}C_100 = divide_data_by_contrast(am_{flow}me{me})')\n",
    "\n",
    "# for flow in ['R','L']:\n",
    "#     for contrast in ['1','10','20','30','50','70','100']:\n",
    "#         for me in range(1,18):\n",
    "#             exec(f'am_{flow}me{me}C_{contrast} = omr_preprocess(am_{flow}me{me}C_{contrast})')"
   ]
  },
  {
   "cell_type": "markdown",
   "id": "535aa7d7",
   "metadata": {},
   "source": [
    "# Filter Data"
   ]
  },
  {
   "cell_type": "code",
   "execution_count": 109,
   "id": "0b2256fd",
   "metadata": {},
   "outputs": [
    {
     "data": {
      "text/plain": [
       "<matplotlib.legend.Legend at 0x133f44be0>"
      ]
     },
     "execution_count": 109,
     "metadata": {},
     "output_type": "execute_result"
    },
    {
     "data": {
      "image/png": "[encoded data removed]",
      "text/plain": [
       "<Figure size 1296x720 with 1 Axes>"
      ]
     },
     "metadata": {
      "needs_background": "light"
     },
     "output_type": "display_data"
    }
   ],
   "source": [
    "fig, ax = plt.subplots(1,1,figsize=(18,10))\n",
    "\n",
    "plt.plot(am_me_C0_2_0[:,4], label='0')\n",
    "plt.plot(am_me_C0_2_1[:,4], label='1')\n",
    "plt.plot(am_me_C0_2_2[:,4], label='2')\n",
    "plt.plot(am_me_C0_2_3[:,4], label='3')\n",
    "plt.plot(am_me_C0_2_4[:,4], label='4')\n",
    "plt.plot(am_me_C0_2_5[:,4], label='5')\n",
    "plt.plot(am_me_C0_2_6[:,4], label='6')\n",
    "plt.plot(am_me_C0_2_7[:,4], label='7')\n",
    "plt.plot(am_me_C0_2_8[:,4], label='8')\n",
    "plt.plot(am_me_C0_2_9[:,4], label='9')\n",
    "plt.plot(am_me_C0_2_10[:,4], label='10')\n",
    "plt.plot(am_me_C0_2_11[:,4], label='11')\n",
    "plt.plot(am_me_C0_2_12[:,4], label='12')\n",
    "\n",
    "plt.legend()"
   ]
  },
  {
   "cell_type": "markdown",
   "id": "38645d34",
   "metadata": {
    "heading_collapsed": true
   },
   "source": [
    "# Combine Fish Data"
   ]
  },
  {
   "cell_type": "code",
   "execution_count": 61,
   "id": "ac02ffca",
   "metadata": {
    "hidden": true
   },
   "outputs": [],
   "source": [
    "pm_comb_e = combine_fish_data(pm_e_C0_1_0,pm_e_C0_1_1,pm_e_C0_1_2,pm_e_C0_1_3,pm_e_C0_1_4,pm_e_C0_1_5,pm_e_C0_1_6,\\\n",
    "                              pm_e_C0_1_7,pm_e_C0_1_8,pm_e_C0_1_9,pm_e_C0_1_10,pm_e_C0_1_11,pm_e_C0_1_12,\\\n",
    "                              pm_e_C0_2_0,pm_e_C0_2_1,pm_e_C0_2_2,pm_e_C0_2_3,pm_e_C0_2_4,pm_e_C0_2_5,pm_e_C0_2_6,\\\n",
    "                              pm_e_C0_2_7,pm_e_C0_2_8,pm_e_C0_2_9,pm_e_C0_2_10,pm_e_C0_2_12,\\\n",
    "                              pm_e_C0_3_1,pm_e_C0_3_2,pm_e_C0_3_3,pm_e_C0_3_4,pm_e_C0_3_6,\\\n",
    "                              pm_e_C0_3_7,pm_e_C0_3_8,pm_e_C0_3_9,pm_e_C0_3_10,pm_e_C0_3_11,pm_e_C0_3_12,\\\n",
    "                              pm_e_C0_4_0,pm_e_C0_4_1,pm_e_C0_4_2,pm_e_C0_4_3,pm_e_C0_4_4,pm_e_C0_4_5,pm_e_C0_4_6,\\\n",
    "                              pm_e_C0_4_7,pm_e_C0_4_8,pm_e_C0_4_9,pm_e_C0_4_10,pm_e_C0_4_11,pm_e_C0_4_12,\\\n",
    "                              pm_e_C0_5_0,pm_e_C0_5_1,pm_e_C0_5_2,pm_e_C0_5_3,pm_e_C0_5_4,pm_e_C0_5_5,pm_e_C0_5_6,\\\n",
    "                              pm_e_C0_5_7,pm_e_C0_5_8,pm_e_C0_5_9,pm_e_C0_5_10,pm_e_C0_5_11,pm_e_C0_5_12,\\\n",
    "                              pm_e_C0_6_0,pm_e_C0_6_1,pm_e_C0_6_2,pm_e_C0_6_3,pm_e_C0_6_4,pm_e_C0_6_5,pm_e_C0_6_6,\\\n",
    "                              pm_e_C0_6_7,pm_e_C0_6_8,pm_e_C0_6_9,pm_e_C0_6_10,pm_e_C0_6_11,pm_e_C0_6_12,\\\n",
    "                              pm_e_C0_7_0,pm_e_C0_7_1,pm_e_C0_7_2,pm_e_C0_7_3,pm_e_C0_7_4,pm_e_C0_7_5,\\\n",
    "                              pm_e_C0_7_7,pm_e_C0_7_9,pm_e_C0_7_10,pm_e_C0_7_11,pm_e_C0_7_12,\\\n",
    "                              pm_e_C0_9_1,pm_e_C0_9_3,pm_e_C0_9_5,\\\n",
    "                              pm_e_C0_9_7,pm_e_C0_9_10,pm_e_C0_9_11,pm_e_C0_9_12,\\\n",
    "                              pm_e_C0_10_0,pm_e_C0_10_1,pm_e_C0_10_2,pm_e_C0_10_3,pm_e_C0_10_4,pm_e_C0_10_5,\\\n",
    "                              pm_e_C0_10_6,pm_e_C0_10_8,pm_e_C0_10_9,pm_e_C0_10_10,pm_e_C0_10_11,\\\n",
    "                              pm_e_C0_10_12,pm_e_C0_11_0,pm_e_C0_11_1,pm_e_C0_11_2,pm_e_C0_11_3,pm_e_C0_11_4,\\\n",
    "                              pm_e_C0_11_5,pm_e_C0_11_6,pm_e_C0_11_7,pm_e_C0_11_8,pm_e_C0_11_9,pm_e_C0_11_10,\\\n",
    "                              pm_e_C0_11_11,pm_e_C0_11_12,pm_e_C0_12_0,pm_e_C0_12_1,pm_e_C0_12_2,pm_e_C0_12_3,\\\n",
    "                              pm_e_C0_12_4,pm_e_C0_12_5,pm_e_C0_12_6,pm_e_C0_12_7,pm_e_C0_12_8,\\\n",
    "                              pm_e_C0_12_10,pm_e_C0_13_0,pm_e_C0_13_2,\\\n",
    "                              pm_e_C0_13_4,pm_e_C0_13_5,pm_e_C0_13_6,pm_e_C0_13_7,pm_e_C0_13_8,\\\n",
    "                              pm_e_C0_13_9,pm_e_C0_13_10,pm_e_C0_13_11,pm_e_C0_13_12,pm_e_C0_14_1,\\\n",
    "                              pm_e_C0_14_2,pm_e_C0_14_3,pm_e_C0_14_4,pm_e_C0_14_6,pm_e_C0_14_7,\\\n",
    "                              pm_e_C0_14_8,pm_e_C0_14_9,pm_e_C0_14_10,pm_e_C0_14_11,pm_e_C0_15_0,\\\n",
    "                              pm_e_C0_15_1,pm_e_C0_15_2,pm_e_C0_15_4,pm_e_C0_15_5,\\\n",
    "                              pm_e_C0_15_7,pm_e_C0_15_12,\\\n",
    "                              pm_e_C0_16_1,pm_e_C0_16_3,pm_e_C0_16_5,\\\n",
    "                              pm_e_C0_16_6,pm_e_C0_16_7,pm_e_C0_16_9,pm_e_C0_16_10,pm_e_C0_16_11,\\\n",
    "                              pm_e_C0_16_12,pm_e_C0_17_0,pm_e_C0_17_1,pm_e_C0_17_2,pm_e_C0_17_4,\\\n",
    "                              pm_e_C0_17_5,pm_e_C0_17_6,pm_e_C0_17_7,pm_e_C0_17_8,pm_e_C0_17_9,pm_e_C0_17_10,\\\n",
    "                              pm_e_C0_17_11,pm_e_C0_17_12,pm_e_C0_18_0,pm_e_C0_18_1,pm_e_C0_18_2,pm_e_C0_18_3,\\\n",
    "                              pm_e_C0_18_4,pm_e_C0_18_5,pm_e_C0_18_7,pm_e_C0_18_8,pm_e_C0_18_9,\\\n",
    "                              pm_e_C0_18_10,pm_e_C0_18_11,pm_e_C0_18_12,\\\n",
    "                              pm_e_C0_19_0,pm_e_C0_19_1,pm_e_C0_19_2,pm_e_C0_19_3,pm_e_C0_19_4,pm_e_C0_19_5,\\\n",
    "                              pm_e_C0_19_6,pm_e_C0_19_7,pm_e_C0_19_8,pm_e_C0_19_9,pm_e_C0_19_10,pm_e_C0_19_11,\\\n",
    "                              pm_e_C0_19_12,\\\n",
    "                              pm_e_C0_20_0,pm_e_C0_20_1,pm_e_C0_20_2,pm_e_C0_20_3,pm_e_C0_20_4,pm_e_C0_20_5,\\\n",
    "                              pm_e_C0_20_6,pm_e_C0_20_7,pm_e_C0_20_8,pm_e_C0_20_9,pm_e_C0_20_10,pm_e_C0_20_11,\\\n",
    "                              pm_e_C0_20_12,\\\n",
    "                              pm_e_C0_21_0,pm_e_C0_21_1,pm_e_C0_21_2,pm_e_C0_21_3,pm_e_C0_21_4,pm_e_C0_21_5,\\\n",
    "                              pm_e_C0_21_6,pm_e_C0_21_7,pm_e_C0_21_8,pm_e_C0_21_9,pm_e_C0_21_10,pm_e_C0_21_11,\\\n",
    "                              pm_e_C0_21_12,\\\n",
    "                              pm_e_C0_22_0,pm_e_C0_22_1,pm_e_C0_22_2,pm_e_C0_22_3,pm_e_C0_22_4,pm_e_C0_22_5,\\\n",
    "                              pm_e_C0_22_6,pm_e_C0_22_8,pm_e_C0_22_9,pm_e_C0_22_10,pm_e_C0_22_11,\\\n",
    "                              pm_e_C0_22_12,\\\n",
    "                              pm_e_C0_23_0,pm_e_C0_23_1,pm_e_C0_23_2,pm_e_C0_23_3,pm_e_C0_23_4,pm_e_C0_23_5,\\\n",
    "                              pm_e_C0_23_6,pm_e_C0_23_7,pm_e_C0_23_8,pm_e_C0_23_9,pm_e_C0_23_10,pm_e_C0_23_11,\\\n",
    "                              pm_e_C0_23_12,\\\n",
    "                              pm_e_C0_24_0,pm_e_C0_24_1,pm_e_C0_24_2,pm_e_C0_24_3,pm_e_C0_24_4,pm_e_C0_24_5,\\\n",
    "                              pm_e_C0_24_6,pm_e_C0_24_7,pm_e_C0_24_8,pm_e_C0_24_9,pm_e_C0_24_10,pm_e_C0_24_11,\\\n",
    "                              pm_e_C0_24_12,\\\n",
    "                              pm_e_C0_25_0,pm_e_C0_25_1,pm_e_C0_25_2,pm_e_C0_25_3,pm_e_C0_25_4,pm_e_C0_25_5,\\\n",
    "                              pm_e_C0_25_6,pm_e_C0_25_7,pm_e_C0_25_8,pm_e_C0_25_9,pm_e_C0_25_10,pm_e_C0_25_11,\\\n",
    "                              pm_e_C0_25_12,\\\n",
    "                              pm_e_C0_26_0,pm_e_C0_26_1,pm_e_C0_26_3,pm_e_C0_26_4,pm_e_C0_26_5,\\\n",
    "                              pm_e_C0_26_6,pm_e_C0_26_7,pm_e_C0_26_9,pm_e_C0_26_10,pm_e_C0_26_11,\\\n",
    "                              pm_e_C0_26_12,\\\n",
    "                              pm_e_C0_27_0,pm_e_C0_27_1,pm_e_C0_27_2,pm_e_C0_27_3,pm_e_C0_27_4,pm_e_C0_27_5,\\\n",
    "                              pm_e_C0_27_6,pm_e_C0_27_7,pm_e_C0_27_8,pm_e_C0_27_9,pm_e_C0_27_10,pm_e_C0_27_11,\\\n",
    "                              pm_e_C0_27_12,\\\n",
    "                              pm_e_C0_28_0,pm_e_C0_28_1,pm_e_C0_28_2,pm_e_C0_28_3,pm_e_C0_28_4,pm_e_C0_28_5,\\\n",
    "                              pm_e_C0_28_6,pm_e_C0_28_7,pm_e_C0_28_8,pm_e_C0_28_9,pm_e_C0_28_10,pm_e_C0_28_11,\\\n",
    "                              pm_e_C0_28_12,\\\n",
    "                              pm_e_C0_29_0,pm_e_C0_29_1,pm_e_C0_29_2,pm_e_C0_29_3,pm_e_C0_29_4,pm_e_C0_29_5,\\\n",
    "                              pm_e_C0_29_6,pm_e_C0_29_7,pm_e_C0_29_8,pm_e_C0_29_9,pm_e_C0_29_10,pm_e_C0_29_11,\\\n",
    "                              pm_e_C0_29_12,\\\n",
    "                              pm_e_C0_30_0,pm_e_C0_30_1,pm_e_C0_30_2,pm_e_C0_30_3,pm_e_C0_30_4,pm_e_C0_30_5,\\\n",
    "                              pm_e_C0_30_6,pm_e_C0_30_7,pm_e_C0_30_8,pm_e_C0_30_9,pm_e_C0_30_10,pm_e_C0_30_11,\\\n",
    "                              pm_e_C0_30_12)\n"
   ]
  },
  {
   "cell_type": "code",
   "execution_count": 62,
   "id": "ee508b5a",
   "metadata": {
    "hidden": true
   },
   "outputs": [],
   "source": [
    "am_comb_e = combine_fish_data(am_e_C0_1_0,am_e_C0_1_1,am_e_C0_1_4,am_e_C0_1_5,\\\n",
    "                              am_e_C0_1_7,am_e_C0_1_9,am_e_C0_1_12,\\\n",
    "                              am_e_C0_2_1,am_e_C0_2_2,am_e_C0_2_3,am_e_C0_2_4,am_e_C0_2_6,\\\n",
    "                              am_e_C0_2_7,am_e_C0_2_8,am_e_C0_2_9,am_e_C0_2_11,am_e_C0_2_12,\\\n",
    "                              am_e_C0_3_0,am_e_C0_3_1,am_e_C0_3_2,am_e_C0_3_3,am_e_C0_3_5,am_e_C0_3_6,\\\n",
    "                              am_e_C0_3_7,am_e_C0_3_8,am_e_C0_3_12,\\\n",
    "                              am_e_C0_4_1,am_e_C0_4_2,am_e_C0_4_3,am_e_C0_4_4,am_e_C0_4_5,am_e_C0_4_6,\\\n",
    "                              am_e_C0_4_7,am_e_C0_4_8,am_e_C0_4_9,am_e_C0_4_10,am_e_C0_4_11,am_e_C0_4_1,\\\n",
    "                              am_e_C0_6_0,am_e_C0_6_1,am_e_C0_6_2,am_e_C0_6_3,am_e_C0_6_4,am_e_C0_6_5,am_e_C0_6_6,\\\n",
    "                              am_e_C0_6_7,am_e_C0_6_9,am_e_C0_6_10,am_e_C0_6_11,am_e_C0_6_12,\\\n",
    "                              am_e_C0_7_0,am_e_C0_7_1,am_e_C0_7_2,am_e_C0_7_3,am_e_C0_7_4,am_e_C0_7_5,am_e_C0_7_6,\\\n",
    "                              am_e_C0_7_7,am_e_C0_7_9,am_e_C0_7_10,am_e_C0_7_12,\\\n",
    "                              am_e_C0_8_0,am_e_C0_8_1,am_e_C0_8_2,am_e_C0_8_3,am_e_C0_8_4,am_e_C0_8_5,am_e_C0_8_6,\\\n",
    "                              am_e_C0_8_7,am_e_C0_8_8,am_e_C0_8_9,am_e_C0_8_11,am_e_C0_8_12,\\\n",
    "                              am_e_C0_9_0,am_e_C0_9_1,am_e_C0_9_2,am_e_C0_9_3,am_e_C0_9_4,am_e_C0_9_5,am_e_C0_9_6,\\\n",
    "                              am_e_C0_9_7,am_e_C0_9_10,am_e_C0_9_11,am_e_C0_9_12,\\\n",
    "                              am_e_C0_10_3,am_e_C0_10_7,am_e_C0_10_10,am_e_C0_10_11,\\\n",
    "                              am_e_C0_11_0,am_e_C0_11_1,am_e_C0_11_2,\\\n",
    "                              am_e_C0_11_5,am_e_C0_11_6,am_e_C0_11_7,am_e_C0_11_8,am_e_C0_11_10,\\\n",
    "                              am_e_C0_11_12,am_e_C0_12_0,am_e_C0_12_2,am_e_C0_12_3,\\\n",
    "                              am_e_C0_12_4,am_e_C0_12_5,am_e_C0_12_6,am_e_C0_12_7,am_e_C0_12_8,am_e_C0_12_9,\\\n",
    "                              am_e_C0_12_10,am_e_C0_12_11,am_e_C0_12_12,am_e_C0_13_0,am_e_C0_13_1,am_e_C0_13_2,\\\n",
    "                              am_e_C0_13_4,am_e_C0_13_6,am_e_C0_13_8,\\\n",
    "                              am_e_C0_13_9,am_e_C0_13_10,am_e_C0_13_11,am_e_C0_13_12,am_e_C0_14_0,am_e_C0_14_1,\\\n",
    "                              am_e_C0_14_2,am_e_C0_14_3,am_e_C0_14_4,am_e_C0_14_5,am_e_C0_14_7,\\\n",
    "                              am_e_C0_14_8,am_e_C0_14_10,am_e_C0_14_12,am_e_C0_15_0,\\\n",
    "                              am_e_C0_15_1,am_e_C0_15_2,am_e_C0_15_3,am_e_C0_15_4,am_e_C0_15_5,am_e_C0_15_6,\\\n",
    "                              am_e_C0_15_7,am_e_C0_15_8,am_e_C0_15_9,am_e_C0_15_10,am_e_C0_15_11,am_e_C0_15_12,\\\n",
    "                              am_e_C0_16_0,am_e_C0_16_1,am_e_C0_16_2,am_e_C0_16_4,am_e_C0_16_5,\\\n",
    "                              am_e_C0_16_6,am_e_C0_16_7,am_e_C0_16_8,am_e_C0_16_9,am_e_C0_16_10,am_e_C0_16_11,\\\n",
    "                              am_e_C0_16_12,\\\n",
    "                              am_e_C0_18_1,am_e_C0_18_2,\\\n",
    "                              am_e_C0_19_0,am_e_C0_19_1,am_e_C0_19_2,am_e_C0_19_3,am_e_C0_19_4,am_e_C0_19_5,\\\n",
    "                              am_e_C0_19_6,am_e_C0_19_7,am_e_C0_19_8,am_e_C0_19_9,am_e_C0_19_10,am_e_C0_19_11,\\\n",
    "                              am_e_C0_19_12,\\\n",
    "                              am_e_C0_20_0,am_e_C0_20_1,am_e_C0_20_2,am_e_C0_20_3,am_e_C0_20_4,am_e_C0_20_5,\\\n",
    "                              am_e_C0_20_6,am_e_C0_20_7,am_e_C0_20_8,am_e_C0_20_9,am_e_C0_20_10,am_e_C0_20_11,\\\n",
    "                              am_e_C0_20_12,\\\n",
    "                              am_e_C0_21_0,am_e_C0_21_1,am_e_C0_21_2,am_e_C0_21_3,am_e_C0_21_4,am_e_C0_21_5,\\\n",
    "                              am_e_C0_21_6,am_e_C0_21_7,am_e_C0_21_8,am_e_C0_21_9,am_e_C0_21_10,am_e_C0_21_11,\\\n",
    "                              am_e_C0_21_12,\\\n",
    "                              am_e_C0_22_0,am_e_C0_22_1,am_e_C0_22_2,am_e_C0_22_3,am_e_C0_22_4,am_e_C0_22_5,\\\n",
    "                              am_e_C0_22_6,am_e_C0_22_7,am_e_C0_22_8,am_e_C0_22_9,am_e_C0_22_10,am_e_C0_22_11,\\\n",
    "                              am_e_C0_22_12)"
   ]
  },
  {
   "cell_type": "code",
   "execution_count": 63,
   "id": "31a35776",
   "metadata": {
    "hidden": true
   },
   "outputs": [],
   "source": [
    "pm_comb_me = combine_fish_data(pm_me_C0_1_0,pm_me_C0_1_2,pm_me_C0_1_3,pm_me_C0_1_4,pm_me_C0_1_5,\\\n",
    "                               pm_me_C0_1_7,pm_me_C0_1_8,pm_me_C0_1_9,pm_me_C0_1_10,pm_me_C0_1_11,\\\n",
    "                               pm_me_C0_1_12,pm_me_C0_2_0,pm_me_C0_2_2,pm_me_C0_2_3,pm_me_C0_2_4,\\\n",
    "                               pm_me_C0_2_5,pm_me_C0_2_6,pm_me_C0_2_7,pm_me_C0_2_8,pm_me_C0_2_9,pm_me_C0_2_10,\\\n",
    "                               pm_me_C0_2_11,pm_me_C0_2_12,pm_me_C0_3_1,pm_me_C0_3_2,pm_me_C0_3_3,\\\n",
    "                               pm_me_C0_3_4,pm_me_C0_3_5,pm_me_C0_3_6,pm_me_C0_3_7,pm_me_C0_3_8,pm_me_C0_3_9,\\\n",
    "                               pm_me_C0_3_10,pm_me_C0_3_11,pm_me_C0_3_12,pm_me_C0_4_0,pm_me_C0_4_1,pm_me_C0_4_2,\\\n",
    "                               pm_me_C0_4_3,pm_me_C0_4_4,pm_me_C0_4_5,pm_me_C0_4_6,pm_me_C0_4_7,pm_me_C0_4_8,\\\n",
    "                               pm_me_C0_4_9,pm_me_C0_4_10,pm_me_C0_4_11,pm_me_C0_4_12,pm_me_C0_5_0,pm_me_C0_5_1,\\\n",
    "                               pm_me_C0_5_2,pm_me_C0_5_3,pm_me_C0_5_4,pm_me_C0_5_5,pm_me_C0_5_6,pm_me_C0_5_7,\\\n",
    "                               pm_me_C0_5_8,pm_me_C0_5_9,pm_me_C0_5_10,pm_me_C0_5_11,pm_me_C0_5_12,pm_me_C0_6_0,\\\n",
    "                               pm_me_C0_6_1,pm_me_C0_6_2,pm_me_C0_6_3,pm_me_C0_6_4,pm_me_C0_6_5,pm_me_C0_6_6,\\\n",
    "                               pm_me_C0_6_7,pm_me_C0_6_8,pm_me_C0_6_9,pm_me_C0_6_10,pm_me_C0_6_11,pm_me_C0_6_12,\\\n",
    "                               pm_me_C0_7_0,pm_me_C0_7_1,pm_me_C0_7_2,pm_me_C0_7_3,pm_me_C0_7_4,pm_me_C0_7_5,\\\n",
    "                               pm_me_C0_7_6,pm_me_C0_7_7,pm_me_C0_7_8,pm_me_C0_7_9,pm_me_C0_7_10,pm_me_C0_7_11,\\\n",
    "                               pm_me_C0_7_12,pm_me_C0_8_0,pm_me_C0_8_1,pm_me_C0_8_2,pm_me_C0_8_3,pm_me_C0_8_4,\\\n",
    "                               pm_me_C0_8_5,pm_me_C0_8_6,pm_me_C0_8_7,pm_me_C0_8_9,pm_me_C0_8_10,\\\n",
    "                               pm_me_C0_8_11,pm_me_C0_8_12,pm_me_C0_9_0,pm_me_C0_9_1,pm_me_C0_9_3,\\\n",
    "                               pm_me_C0_9_8,pm_me_C0_9_9,\\\n",
    "                               pm_me_C0_9_10,pm_me_C0_9_11,pm_me_C0_9_12,pm_me_C0_10_0,pm_me_C0_10_1,pm_me_C0_10_2,\\\n",
    "                               pm_me_C0_10_3,pm_me_C0_10_4,pm_me_C0_10_6,pm_me_C0_10_7,pm_me_C0_10_8,\\\n",
    "                               pm_me_C0_10_9,pm_me_C0_10_10,pm_me_C0_10_11,pm_me_C0_10_12,pm_me_C0_11_0,\\\n",
    "                               pm_me_C0_11_1,pm_me_C0_11_2,pm_me_C0_11_3,pm_me_C0_11_4,pm_me_C0_11_5,\\\n",
    "                               pm_me_C0_11_7,pm_me_C0_11_9,pm_me_C0_11_10,\\\n",
    "                               pm_me_C0_12_0,pm_me_C0_12_2,pm_me_C0_12_3,pm_me_C0_12_4,\\\n",
    "                               pm_me_C0_12_5,pm_me_C0_12_7,pm_me_C0_12_8,pm_me_C0_12_9,pm_me_C0_12_10,\\\n",
    "                               pm_me_C0_12_11,pm_me_C0_12_12,pm_me_C0_13_1,pm_me_C0_13_2,\\\n",
    "                               pm_me_C0_13_4,pm_me_C0_13_5,pm_me_C0_13_6,pm_me_C0_13_8,\\\n",
    "                               pm_me_C0_13_10,pm_me_C0_13_11,pm_me_C0_13_12,pm_me_C0_14_0,\\\n",
    "                               pm_me_C0_14_1,pm_me_C0_14_2,pm_me_C0_14_4,pm_me_C0_14_5,pm_me_C0_14_6,\\\n",
    "                               pm_me_C0_14_7,pm_me_C0_14_8,pm_me_C0_14_10,pm_me_C0_14_11,\\\n",
    "                               pm_me_C0_14_12,pm_me_C0_15_0,pm_me_C0_15_1,pm_me_C0_15_2,pm_me_C0_15_3,\\\n",
    "                               pm_me_C0_15_6,pm_me_C0_15_10,\\\n",
    "                               pm_me_C0_15_11,pm_me_C0_15_12,pm_me_C0_16_1,pm_me_C0_16_2,pm_me_C0_16_3,\\\n",
    "                               pm_me_C0_16_5,pm_me_C0_16_6,pm_me_C0_16_7,pm_me_C0_16_8,pm_me_C0_16_9,\\\n",
    "                               pm_me_C0_16_10,pm_me_C0_16_11,pm_me_C0_16_12,pm_me_C0_17_0,pm_me_C0_17_1,\\\n",
    "                               pm_me_C0_17_2,pm_me_C0_17_3,pm_me_C0_17_5,pm_me_C0_17_6,pm_me_C0_17_7,\\\n",
    "                               pm_me_C0_17_10,pm_me_C0_17_11,pm_me_C0_17_12,\\\n",
    "                               pm_me_C0_18_0,pm_me_C0_18_1,pm_me_C0_18_3,pm_me_C0_18_4,pm_me_C0_18_5,\\\n",
    "                               pm_me_C0_18_6,pm_me_C0_18_7,pm_me_C0_18_9,pm_me_C0_18_10,\\\n",
    "                               pm_me_C0_18_12,pm_me_C0_19_0,pm_me_C0_19_2,pm_me_C0_19_3,pm_me_C0_19_4,\\\n",
    "                               pm_me_C0_19_5,pm_me_C0_19_6,\\\n",
    "                               pm_me_C0_19_11,pm_me_C0_20_0,pm_me_C0_20_1,pm_me_C0_20_2,pm_me_C0_20_3,\\\n",
    "                               pm_me_C0_20_4,pm_me_C0_20_5,pm_me_C0_20_6,pm_me_C0_20_7,pm_me_C0_20_8,pm_me_C0_20_9,\\\n",
    "                               pm_me_C0_20_12,pm_me_C0_21_0,pm_me_C0_21_1,\\\n",
    "                               pm_me_C0_21_2,pm_me_C0_21_3,pm_me_C0_21_4,pm_me_C0_21_5,pm_me_C0_21_6,pm_me_C0_21_7,\\\n",
    "                               pm_me_C0_21_8,pm_me_C0_21_9,pm_me_C0_21_10,pm_me_C0_21_11,pm_me_C0_21_12,\\\n",
    "                               pm_me_C0_22_0,pm_me_C0_22_1,pm_me_C0_22_2,pm_me_C0_22_3,pm_me_C0_22_4,pm_me_C0_22_5,\\\n",
    "                               pm_me_C0_22_6,pm_me_C0_22_8,pm_me_C0_22_9,pm_me_C0_22_10,pm_me_C0_22_11,\\\n",
    "                               pm_me_C0_22_12,\\\n",
    "                               pm_me_C0_23_0,pm_me_C0_23_1,pm_me_C0_23_2,pm_me_C0_23_3,pm_me_C0_23_4,pm_me_C0_23_5,\\\n",
    "                               pm_me_C0_23_6,pm_me_C0_23_7,pm_me_C0_23_8,pm_me_C0_23_9,pm_me_C0_23_10,pm_me_C0_23_11,\\\n",
    "                               pm_me_C0_23_12,\\\n",
    "                               pm_me_C0_24_0,pm_me_C0_24_1,pm_me_C0_24_2,pm_me_C0_24_4,pm_me_C0_24_5,\\\n",
    "                               pm_me_C0_24_6,pm_me_C0_24_7,pm_me_C0_24_8,pm_me_C0_24_9,pm_me_C0_24_10,pm_me_C0_24_11,\\\n",
    "                               pm_me_C0_24_12,\\\n",
    "                               pm_me_C0_25_0,pm_me_C0_25_1,pm_me_C0_25_2,pm_me_C0_25_3,pm_me_C0_25_4,pm_me_C0_25_5,\\\n",
    "                               pm_me_C0_25_7,pm_me_C0_25_8,pm_me_C0_25_9,pm_me_C0_25_10,pm_me_C0_25_11,\\\n",
    "                               pm_me_C0_25_12,\\\n",
    "                               pm_me_C0_26_0,pm_me_C0_26_1,pm_me_C0_26_3,pm_me_C0_26_4,pm_me_C0_26_5,\\\n",
    "                               pm_me_C0_26_6,pm_me_C0_26_7,pm_me_C0_26_8,pm_me_C0_26_9,pm_me_C0_26_10,pm_me_C0_26_11,\\\n",
    "                               pm_me_C0_26_12,\\\n",
    "                               pm_me_C0_27_0,pm_me_C0_27_1,pm_me_C0_27_2,pm_me_C0_27_3,pm_me_C0_27_4,pm_me_C0_27_5,\\\n",
    "                               pm_me_C0_27_6,pm_me_C0_27_7,pm_me_C0_27_8,pm_me_C0_27_9,pm_me_C0_27_10,pm_me_C0_27_11,\\\n",
    "                               pm_me_C0_27_12,\\\n",
    "                               pm_me_C0_28_0,pm_me_C0_28_1,pm_me_C0_28_2,pm_me_C0_28_3,pm_me_C0_28_4,pm_me_C0_28_5,\\\n",
    "                               pm_me_C0_28_6,pm_me_C0_28_7,pm_me_C0_28_8,pm_me_C0_28_9,pm_me_C0_28_10,pm_me_C0_28_11,\\\n",
    "                               pm_me_C0_28_12,\\\n",
    "                               pm_me_C0_29_0,pm_me_C0_29_1,pm_me_C0_29_2,pm_me_C0_29_3,pm_me_C0_29_4,pm_me_C0_29_5,\\\n",
    "                               pm_me_C0_29_6,pm_me_C0_29_7,pm_me_C0_29_8,pm_me_C0_29_9,pm_me_C0_29_10,pm_me_C0_29_11,\\\n",
    "                               pm_me_C0_29_12,\\\n",
    "                               pm_me_C0_30_0,pm_me_C0_30_1,pm_me_C0_30_2,pm_me_C0_30_3,pm_me_C0_30_4,pm_me_C0_30_5,\\\n",
    "                               pm_me_C0_30_6,pm_me_C0_30_7,pm_me_C0_30_8,pm_me_C0_30_9,pm_me_C0_30_10,pm_me_C0_30_11,\\\n",
    "                               pm_me_C0_30_12,\\\n",
    "                               pm_me_C0_31_0,pm_me_C0_31_1,pm_me_C0_31_2,pm_me_C0_31_3,pm_me_C0_31_4,pm_me_C0_31_5,\\\n",
    "                               pm_me_C0_31_6,pm_me_C0_31_7,pm_me_C0_31_8,pm_me_C0_31_9,pm_me_C0_31_10,pm_me_C0_31_11,\\\n",
    "                               pm_me_C0_31_12,\\\n",
    "                               pm_me_C0_32_0,pm_me_C0_32_1,pm_me_C0_32_2,pm_me_C0_32_3,pm_me_C0_32_4,pm_me_C0_32_5,\\\n",
    "                               pm_me_C0_32_6,pm_me_C0_32_7,pm_me_C0_32_8,pm_me_C0_32_9,pm_me_C0_32_10,pm_me_C0_32_11,\\\n",
    "                               pm_me_C0_32_12,\\\n",
    "                               pm_me_C0_33_0,pm_me_C0_33_1,pm_me_C0_33_2,pm_me_C0_33_3,pm_me_C0_33_4,pm_me_C0_33_5,\\\n",
    "                               pm_me_C0_33_6,pm_me_C0_33_7,pm_me_C0_33_8,pm_me_C0_33_9,pm_me_C0_33_10,pm_me_C0_33_11,\\\n",
    "                               pm_me_C0_33_12)"
   ]
  },
  {
   "cell_type": "code",
   "execution_count": 64,
   "id": "ba2f8ee0",
   "metadata": {
    "hidden": true
   },
   "outputs": [],
   "source": [
    "am_comb_me = combine_fish_data(am_me_C0_1_0,am_me_C0_1_1,am_me_C0_1_2,am_me_C0_1_3,am_me_C0_1_4,am_me_C0_1_5,\\\n",
    "                               am_me_C0_1_6,am_me_C0_1_7,am_me_C0_1_8,am_me_C0_1_9,am_me_C0_1_10,am_me_C0_1_11,\\\n",
    "                               am_me_C0_1_12,am_me_C0_2_0,am_me_C0_2_2,am_me_C0_2_3,am_me_C0_2_4,\\\n",
    "                               am_me_C0_2_5,am_me_C0_2_6,am_me_C0_2_7,am_me_C0_2_8,am_me_C0_2_10,\\\n",
    "                               am_me_C0_2_11,am_me_C0_2_12,am_me_C0_3_0,am_me_C0_3_1,am_me_C0_3_2,am_me_C0_3_3,\\\n",
    "                               am_me_C0_3_4,am_me_C0_3_5,am_me_C0_3_6,am_me_C0_3_7,am_me_C0_3_8,am_me_C0_3_9,\\\n",
    "                               am_me_C0_3_10,am_me_C0_3_11,am_me_C0_3_12,am_me_C0_4_0,am_me_C0_4_1,am_me_C0_4_2,\\\n",
    "                               am_me_C0_4_3,am_me_C0_4_4,am_me_C0_4_5,am_me_C0_4_6,am_me_C0_4_7,am_me_C0_4_8,\\\n",
    "                               am_me_C0_4_9,am_me_C0_4_11,am_me_C0_5_0,am_me_C0_5_1,\\\n",
    "                               am_me_C0_5_3,am_me_C0_5_5,am_me_C0_5_6,am_me_C0_5_7,\\\n",
    "                               am_me_C0_5_8,am_me_C0_5_9,am_me_C0_5_11,am_me_C0_5_12,am_me_C0_6_0,\\\n",
    "                               am_me_C0_6_1,am_me_C0_6_2,am_me_C0_6_3,am_me_C0_6_4,am_me_C0_6_5,am_me_C0_6_6,\\\n",
    "                               am_me_C0_6_7,am_me_C0_6_8,am_me_C0_6_9,am_me_C0_6_10,am_me_C0_6_11,am_me_C0_6_12,\\\n",
    "                               am_me_C0_7_0,am_me_C0_7_1,am_me_C0_7_2,am_me_C0_7_3,am_me_C0_7_4,\\\n",
    "                               am_me_C0_7_6,am_me_C0_7_7,am_me_C0_7_8,am_me_C0_7_9,am_me_C0_7_10,am_me_C0_7_11,\\\n",
    "                               am_me_C0_7_12,am_me_C0_8_0,am_me_C0_8_2,am_me_C0_8_3,am_me_C0_8_4,\\\n",
    "                               am_me_C0_8_5,am_me_C0_8_9,am_me_C0_8_10,\\\n",
    "                               am_me_C0_8_12,am_me_C0_10_0,\\\n",
    "                               am_me_C0_10_3,am_me_C0_10_5,am_me_C0_10_7,am_me_C0_10_8,\\\n",
    "                               am_me_C0_10_10,am_me_C0_10_11,am_me_C0_10_12,\\\n",
    "                               am_me_C0_11_1,am_me_C0_11_2,am_me_C0_11_3,am_me_C0_11_4,am_me_C0_11_6,\\\n",
    "                               am_me_C0_11_7,am_me_C0_11_8,am_me_C0_11_9,am_me_C0_11_10,am_me_C0_11_11,\\\n",
    "                               am_me_C0_11_12,am_me_C0_12_0,am_me_C0_12_1,am_me_C0_12_2,am_me_C0_12_3,\\\n",
    "                               am_me_C0_12_5,am_me_C0_12_7,am_me_C0_12_8,\\\n",
    "                               am_me_C0_12_12,am_me_C0_13_0,am_me_C0_13_1,am_me_C0_13_2,\\\n",
    "                               am_me_C0_13_3,am_me_C0_13_4,am_me_C0_13_5,am_me_C0_13_6,am_me_C0_13_7,am_me_C0_13_8,\\\n",
    "                               am_me_C0_13_10,am_me_C0_13_11,am_me_C0_13_12,am_me_C0_14_0,\\\n",
    "                               am_me_C0_14_1,am_me_C0_14_2,am_me_C0_14_3,am_me_C0_14_4,am_me_C0_14_5,am_me_C0_14_6,\\\n",
    "                               am_me_C0_14_7,am_me_C0_14_8,am_me_C0_14_9,am_me_C0_14_10,am_me_C0_14_11,\\\n",
    "                               am_me_C0_14_12,am_me_C0_15_0,am_me_C0_15_1,am_me_C0_15_2,am_me_C0_15_3,am_me_C0_15_4,\\\n",
    "                               am_me_C0_15_5,am_me_C0_15_6,am_me_C0_15_7,am_me_C0_15_9,am_me_C0_15_10,\\\n",
    "                               am_me_C0_15_11,am_me_C0_15_12,am_me_C0_16_0,am_me_C0_16_1,am_me_C0_16_2,am_me_C0_16_3,\\\n",
    "                               am_me_C0_16_4,am_me_C0_16_5,am_me_C0_16_6,am_me_C0_16_7,am_me_C0_16_8,am_me_C0_16_9,\\\n",
    "                               am_me_C0_16_10,am_me_C0_16_11,am_me_C0_16_12,am_me_C0_17_0,am_me_C0_17_1,\\\n",
    "                               am_me_C0_17_2,am_me_C0_17_3,am_me_C0_17_4,am_me_C0_17_5,am_me_C0_17_6,am_me_C0_17_7,\\\n",
    "                               am_me_C0_17_8,am_me_C0_17_9,am_me_C0_17_10,am_me_C0_17_11,am_me_C0_17_12,\\\n",
    "                               am_me_C0_18_0,am_me_C0_18_1,am_me_C0_18_2,am_me_C0_18_3,am_me_C0_18_4,am_me_C0_18_5,\\\n",
    "                               am_me_C0_18_6,am_me_C0_18_7,am_me_C0_18_8,am_me_C0_18_9,am_me_C0_18_10,am_me_C0_18_11,\\\n",
    "                               am_me_C0_18_12,\\\n",
    "                               am_me_C0_19_0,am_me_C0_19_1,am_me_C0_19_2,am_me_C0_19_3,am_me_C0_19_4,am_me_C0_19_5,\\\n",
    "                               am_me_C0_19_6,am_me_C0_19_7,am_me_C0_19_8,am_me_C0_19_9,am_me_C0_19_10,am_me_C0_19_11,\\\n",
    "                               am_me_C0_19_12,\\\n",
    "                               am_me_C0_20_0,am_me_C0_20_1,am_me_C0_20_2,am_me_C0_20_3,am_me_C0_20_4,am_me_C0_20_5,\\\n",
    "                               am_me_C0_20_6,am_me_C0_20_7,am_me_C0_20_8,am_me_C0_20_9,am_me_C0_20_10,am_me_C0_20_11,\\\n",
    "                               am_me_C0_20_12,\\\n",
    "                               am_me_C0_21_0,am_me_C0_21_1,am_me_C0_21_2,am_me_C0_21_3,am_me_C0_21_4,am_me_C0_21_5,\\\n",
    "                               am_me_C0_21_7,am_me_C0_21_8,am_me_C0_21_9,am_me_C0_21_10,am_me_C0_21_11,\\\n",
    "                               am_me_C0_21_12,\\\n",
    "                               am_me_C0_22_0,am_me_C0_22_1,am_me_C0_22_3,am_me_C0_22_4,am_me_C0_22_5,\\\n",
    "                               am_me_C0_22_6,am_me_C0_22_7,am_me_C0_22_8,am_me_C0_22_9,am_me_C0_22_10,am_me_C0_22_11,\\\n",
    "                               am_me_C0_22_12)"
   ]
  },
  {
   "cell_type": "markdown",
   "id": "8f1644d4",
   "metadata": {
    "hidden": true
   },
   "source": [
    "--------"
   ]
  },
  {
   "cell_type": "markdown",
   "id": "ed76bb51",
   "metadata": {},
   "source": [
    "# Plotting Average Trajectories"
   ]
  },
  {
   "cell_type": "code",
   "execution_count": 66,
   "id": "69be0605",
   "metadata": {},
   "outputs": [
    {
     "data": {
      "image/png": "[encoded data removed]",
      "text/plain": [
       "<Figure size 720x576 with 1 Axes>"
      ]
     },
     "metadata": {
      "needs_background": "light"
     },
     "output_type": "display_data"
    }
   ],
   "source": [
    "avg_pm_e_trajectory = np.mean(pm_comb_e[:,:,4],axis=0)\n",
    "avg_pm_me_trajectory = np.mean(pm_comb_me[:,:,4],axis=0)\n",
    "\n",
    "avg_pm_e_SEM = stats.sem(pm_comb_e[:,:,4],axis=0)\n",
    "avg_pm_me_SEM = stats.sem(pm_comb_me[:,:,4],axis=0)\n",
    "    \n",
    "avg_am_e_trajectory = np.mean(am_comb_e[:,:,4],axis=0)\n",
    "avg_am_me_trajectory = np.mean(am_comb_me[:,:,4],axis=0)\n",
    "\n",
    "avg_am_e_SEM = stats.sem(am_comb_e[:,:,4],axis=0)\n",
    "avg_am_me_SEM = stats.sem(am_comb_me[:,:,4],axis=0)\n",
    "\n",
    "fig, ax = plt.subplots(1,1,figsize=(10,8))\n",
    "plt.title(\"Average Change in Cumulative Turning Angle over Time (Exploratory Behaviour)\",fontsize=15)\n",
    "ax.set_xlabel(\"Time (s)\",fontsize=13)\n",
    "ax.set_ylabel(\"Cumulative Turning Angle (rad)\",fontsize=13)\n",
    "ax.set_xlim(0,3000)\n",
    "x_ticks = [0, 500, 1000, 1500, 2000, 2500, 3000]\n",
    "x_labels = [0, 5, 10, 15, 20, 25, 30] \n",
    "plt.xticks(x_ticks,x_labels,fontsize=11)\n",
    "ax.plot(avg_pm_e_trajectory,c=\"b\")\n",
    "ax.plot(avg_pm_me_trajectory,c=\"lightblue\")\n",
    "ax.plot(avg_am_e_trajectory,c=\"r\")\n",
    "ax.plot(avg_am_me_trajectory,c=\"coral\")\n",
    "ax.fill_between(range(0,3000), avg_pm_e_trajectory-avg_pm_e_SEM, avg_pm_e_trajectory+avg_pm_e_SEM,color=\"b\",alpha=0.2)\n",
    "ax.fill_between(range(0,3000), avg_pm_me_trajectory-avg_pm_me_SEM, avg_pm_me_trajectory+avg_pm_me_SEM,\\\n",
    "                color=\"g\",alpha=0.2)\n",
    "ax.fill_between(range(0,3000), avg_am_e_trajectory-avg_am_e_SEM, avg_am_e_trajectory+avg_am_e_SEM,color=\"r\",alpha=0.2)\n",
    "ax.fill_between(range(0,3000), avg_am_me_trajectory-avg_am_me_SEM, avg_am_me_trajectory+avg_am_me_SEM,\\\n",
    "                color=\"coral\",alpha=0.2)\n",
    "plt.show()"
   ]
  },
  {
   "cell_type": "markdown",
   "id": "5a5c94f0",
   "metadata": {},
   "source": [
    "# Calculation of Mean and SEM of Cumulative Angles"
   ]
  },
  {
   "cell_type": "code",
   "execution_count": 67,
   "id": "f0bcb5b3",
   "metadata": {},
   "outputs": [],
   "source": [
    "am_e_cum = am_comb_e[:,-1,4]\n",
    "am_me_cum = am_comb_me[:,-1,4]\n",
    "pm_e_cum = pm_comb_e[:,-1,4]\n",
    "pm_me_cum = pm_comb_me[:,-1,4]"
   ]
  },
  {
   "cell_type": "code",
   "execution_count": 146,
   "id": "5e397956",
   "metadata": {},
   "outputs": [
    {
     "data": {
      "text/plain": [
       "<BarContainer object of 4 artists>"
      ]
     },
     "execution_count": 146,
     "metadata": {},
     "output_type": "execute_result"
    },
    {
     "data": {
      "image/png": "[encoded data removed]",
      "text/plain": [
       "<Figure size 432x288 with 1 Axes>"
      ]
     },
     "metadata": {
      "needs_background": "light"
     },
     "output_type": "display_data"
    }
   ],
   "source": [
    "plt.bar([1,2,3,4],height=[(np.mean(am_e_cum)),(np.mean(am_me_cum)),(np.mean(pm_e_cum)),(np.mean(pm_me_cum))])"
   ]
  },
  {
   "cell_type": "code",
   "execution_count": 68,
   "id": "f1a143e0",
   "metadata": {},
   "outputs": [],
   "source": [
    "am_e_dist = np.mean(am_comb_e[:,:,5],axis=1)\n",
    "am_me_dist = np.mean(am_comb_me[:,:,5],axis=1)\n",
    "pm_e_dist = np.mean(pm_comb_e[:,:,5],axis=1)\n",
    "pm_me_dist = np.mean(pm_comb_me[:,:,5],axis=1)"
   ]
  },
  {
   "cell_type": "code",
   "execution_count": 75,
   "id": "96234377",
   "metadata": {},
   "outputs": [
    {
     "data": {
      "text/plain": [
       "<BarContainer object of 4 artists>"
      ]
     },
     "execution_count": 75,
     "metadata": {},
     "output_type": "execute_result"
    },
    {
     "data": {
      "image/png": "[encoded data removed]",
      "text/plain": [
       "<Figure size 432x288 with 1 Axes>"
      ]
     },
     "metadata": {
      "needs_background": "light"
     },
     "output_type": "display_data"
    }
   ],
   "source": [
    "plt.bar([1,2,3,4],height=[np.mean(am_e_dist),np.mean(am_me_dist),np.mean(pm_e_dist),np.mean(pm_me_dist)])"
   ]
  },
  {
   "cell_type": "code",
   "execution_count": 70,
   "id": "c7016846",
   "metadata": {},
   "outputs": [],
   "source": [
    "am_e_sem = stats.sem(am_comb_e[:,-1,4])\n",
    "am_me_sem = stats.sem(am_comb_me[:,-1,4])\n",
    "pm_e_sem = stats.sem(pm_comb_e[:,-1,4])\n",
    "pm_me_sem = stats.sem(pm_comb_me[:,-1,4])"
   ]
  },
  {
   "cell_type": "code",
   "execution_count": 71,
   "id": "029c3a96",
   "metadata": {},
   "outputs": [
    {
     "data": {
      "text/plain": [
       "(-1.0, 2.0)"
      ]
     },
     "execution_count": 71,
     "metadata": {},
     "output_type": "execute_result"
    },
    {
     "data": {
      "image/png": "[encoded data removed]",
      "text/plain": [
       "<Figure size 432x288 with 1 Axes>"
      ]
     },
     "metadata": {
      "needs_background": "light"
     },
     "output_type": "display_data"
    }
   ],
   "source": [
    "plt.boxplot([am_e_dist,am_me_dist,pm_e_dist,pm_me_dist],labels=['am_e','am_me','pm_e','pm_me'])\n",
    "plt.ylim(-1,2)"
   ]
  },
  {
   "cell_type": "code",
   "execution_count": 72,
   "id": "b946793b",
   "metadata": {},
   "outputs": [
    {
     "data": {
      "text/plain": [
       "{'whiskers': [<matplotlib.lines.Line2D at 0x131f4fd90>,\n",
       "  <matplotlib.lines.Line2D at 0x131f6c520>,\n",
       "  <matplotlib.lines.Line2D at 0x131f79640>,\n",
       "  <matplotlib.lines.Line2D at 0x131f79910>,\n",
       "  <matplotlib.lines.Line2D at 0x131f86a30>,\n",
       "  <matplotlib.lines.Line2D at 0x131f86d00>,\n",
       "  <matplotlib.lines.Line2D at 0x131f92e20>,\n",
       "  <matplotlib.lines.Line2D at 0x131fa0130>],\n",
       " 'caps': [<matplotlib.lines.Line2D at 0x131f6c7f0>,\n",
       "  <matplotlib.lines.Line2D at 0x131f6cac0>,\n",
       "  <matplotlib.lines.Line2D at 0x131f79be0>,\n",
       "  <matplotlib.lines.Line2D at 0x131f79eb0>,\n",
       "  <matplotlib.lines.Line2D at 0x131f86fd0>,\n",
       "  <matplotlib.lines.Line2D at 0x131f922e0>,\n",
       "  <matplotlib.lines.Line2D at 0x131fa0400>,\n",
       "  <matplotlib.lines.Line2D at 0x131fa06d0>],\n",
       " 'boxes': [<matplotlib.lines.Line2D at 0x131f6c0a0>,\n",
       "  <matplotlib.lines.Line2D at 0x131f79370>,\n",
       "  <matplotlib.lines.Line2D at 0x131f86760>,\n",
       "  <matplotlib.lines.Line2D at 0x131f92b50>],\n",
       " 'medians': [<matplotlib.lines.Line2D at 0x131f6cd90>,\n",
       "  <matplotlib.lines.Line2D at 0x131f861c0>,\n",
       "  <matplotlib.lines.Line2D at 0x131f925b0>,\n",
       "  <matplotlib.lines.Line2D at 0x131fa09a0>],\n",
       " 'fliers': [<matplotlib.lines.Line2D at 0x131f790a0>,\n",
       "  <matplotlib.lines.Line2D at 0x131f86490>,\n",
       "  <matplotlib.lines.Line2D at 0x131f92880>,\n",
       "  <matplotlib.lines.Line2D at 0x131fa0c70>],\n",
       " 'means': []}"
      ]
     },
     "execution_count": 72,
     "metadata": {},
     "output_type": "execute_result"
    },
    {
     "data": {
      "image/png": "[encoded data removed]",
      "text/plain": [
       "<Figure size 432x288 with 1 Axes>"
      ]
     },
     "metadata": {
      "needs_background": "light"
     },
     "output_type": "display_data"
    }
   ],
   "source": [
    "plt.boxplot([am_e_cum,am_me_cum,pm_e_cum,pm_me_cum],labels=['am_e','am_me','pm_e','pm_me'])"
   ]
  },
  {
   "cell_type": "markdown",
   "id": "f4ccc249",
   "metadata": {},
   "source": [
    "# Event Table Function"
   ]
  },
  {
   "cell_type": "code",
   "execution_count": 76,
   "id": "d5fa16e9",
   "metadata": {},
   "outputs": [],
   "source": [
    "def make_event_table(contrast): \n",
    "    fish_distance = contrast[:,-1]\n",
    "    if np.sum(np.isnan(fish_distance)) > 0:\n",
    "        np.nan_to_num(fish_distance,copy=False,nan=0)\n",
    "    t = np.arange(0, 3000, 1)\n",
    "    sig = fish_distance #composite signal\n",
    "    sig_clean = sig #copy for later comparison\n",
    "    minsignal, maxsignal = sig.min(), sig.max()\n",
    "    widths = np.arange(1, 3000)\n",
    "    cwtmatr = signal.cwt(sig, signal.ricker, widths)\n",
    "    t = np.arange(0, 3000, 1)\n",
    "    cwt_sig = cwtmatr[25,:] #composite signal\n",
    "    signal_clean = sig #copy for later comparison\n",
    "    minsignal, maxsignal = cwt_sig.min(), cwt_sig.max()\n",
    "    ## Compute Fourier Transform\n",
    "    n = len(t)\n",
    "    fhat = np.fft.fft(cwt_sig, n) #computes the fft\n",
    "    psd = fhat * np.conj(fhat)/n\n",
    "    freq = (1/(1*n)) * np.arange(n) #frequency array\n",
    "    idxs_half = np.arange(1, np.floor(n/2), dtype=np.int32) #first half index\n",
    "    ## Filter out noise\n",
    "    threshold = 1\n",
    "    psd_idxs = psd > threshold #array of 0 and 1\n",
    "    psd_clean = psd * psd_idxs #zero out all the unnecessary powers\n",
    "    fhat_clean = psd_idxs * fhat #used to retrieve the signal\n",
    "    signal_filtered = np.fft.ifft(fhat_clean) #inverse fourier transform\n",
    "    fft_signal = signal_filtered.real\n",
    "    fft_gauss = gaussian_filter1d(fft_signal,sigma=5)\n",
    "    fish_distance_2 = []\n",
    "    for frame in fft_gauss:\n",
    "        if frame<=1:\n",
    "            frame=0\n",
    "        fish_distance_2.append(frame)\n",
    "    fft_gauss = fish_distance_2\n",
    "    \n",
    "    # fiter out events mid-beginning and mid-end \n",
    "    if fft_gauss[0] != 0:\n",
    "        zero_start = fft_gauss.index(0)\n",
    "        fft_gauss[:zero_start] = [0]*(zero_start)\n",
    "    if fft_gauss[-1] != 0:\n",
    "        end_zero = -(fft_gauss[::-1].index(0))\n",
    "        fft_gauss[end_zero:] = [0]*(-end_zero) \n",
    "    \n",
    "\n",
    "    indices = []\n",
    "    for val in fft_gauss:\n",
    "        if val == 0:\n",
    "            indices.append(0)\n",
    "        else:\n",
    "            indices.append(fft_gauss.index(val))\n",
    "\n",
    "\n",
    "    df = pd.DataFrame(fft_gauss,columns=['fft_gauss'])\n",
    "    df['ind'] = indices\n",
    "    df['init_cum'] = contrast[:,4]\n",
    "    df['init_dist'] = contrast[:,5]\n",
    "    df['event'] = 0\n",
    "\n",
    "\n",
    "    counter = 1 \n",
    "    for index, row in df.iterrows():  \n",
    "        if row['fft_gauss'] != 0:\n",
    "            df.at[index,'event'] = counter\n",
    "            if df.at[index+1,'fft_gauss'] == 0:\n",
    "                counter += 1\n",
    "\n",
    "\n",
    "    event_df = pd.DataFrame(columns=['event','duration_s','delta_theta_rad','distance','start_ind','end_ind','latency_s'])\n",
    "    event_df['event'] = df['event'].unique()[1:]\n",
    "\n",
    "    event_df['duration_s'] = [((df['event']==event).sum())/100 for event in (df['event']).unique()[1:]]\n",
    "\n",
    "    event_df['start_ind'] = [int(df[df['event']==event].reset_index().iloc[0][0]) for event in (df['event']).unique()[1:]]\n",
    "    event_df['end_ind'] = [int(df[df['event']==event].reset_index().iloc[-1][0]) for event in (df['event']).unique()[1:]]\n",
    "\n",
    "    event_df['delta_theta_rad'] = [df['init_cum'][r['end_ind']]-df['init_cum'][r['start_ind']] \\\n",
    "                                   for i, r in event_df.iterrows()]\n",
    "\n",
    "    event_df['latency_s'] = [None if i-1 == -1 else (event_df['start_ind'][i]-event_df['end_ind'][i-1])/100 \\\n",
    "                             for i, r in event_df.iterrows()]\n",
    "\n",
    "    # event_df['distance'] = ADD all frames per event except first one\n",
    "    event_df['distance'] = [df[df['event']==ev]['init_dist'].sum() - df[df['event']==ev]['init_dist'].reset_index()\\\n",
    "                            ['init_dist'][0] for ev in df['event'].unique()[1:]]\n",
    "\n",
    "    event_df = event_df.drop(columns=['start_ind','end_ind'])\n",
    "    \n",
    "    return event_df"
   ]
  },
  {
   "cell_type": "markdown",
   "id": "653aa73f",
   "metadata": {},
   "source": [
    "# Making Event Table"
   ]
  },
  {
   "cell_type": "code",
   "execution_count": 77,
   "id": "19a939e9",
   "metadata": {},
   "outputs": [],
   "source": [
    "df_names = ['am_e','am_me','pm_e','pm_me']\n",
    "dataframes = [am_comb_e, am_comb_me, pm_comb_e, pm_comb_me]"
   ]
  },
  {
   "cell_type": "code",
   "execution_count": 78,
   "id": "1f4550d0",
   "metadata": {},
   "outputs": [
    {
     "data": {
      "text/html": [
       "<div>\n",
       "<style scoped>\n",
       "    .dataframe tbody tr th:only-of-type {\n",
       "        vertical-align: middle;\n",
       "    }\n",
       "\n",
       "    .dataframe tbody tr th {\n",
       "        vertical-align: top;\n",
       "    }\n",
       "\n",
       "    .dataframe thead th {\n",
       "        text-align: right;\n",
       "    }\n",
       "</style>\n",
       "<table border=\"1\" class=\"dataframe\">\n",
       "  <thead>\n",
       "    <tr style=\"text-align: right;\">\n",
       "      <th></th>\n",
       "      <th>fish_n</th>\n",
       "      <th>event</th>\n",
       "      <th>duration_s</th>\n",
       "      <th>delta_theta_rad</th>\n",
       "      <th>distance</th>\n",
       "      <th>latency_s</th>\n",
       "      <th>time</th>\n",
       "      <th>medium</th>\n",
       "    </tr>\n",
       "    <tr>\n",
       "      <th>event_n</th>\n",
       "      <th></th>\n",
       "      <th></th>\n",
       "      <th></th>\n",
       "      <th></th>\n",
       "      <th></th>\n",
       "      <th></th>\n",
       "      <th></th>\n",
       "      <th></th>\n",
       "    </tr>\n",
       "  </thead>\n",
       "  <tbody>\n",
       "    <tr>\n",
       "      <th>1</th>\n",
       "      <td>1</td>\n",
       "      <td>1</td>\n",
       "      <td>0.43</td>\n",
       "      <td>-1.04943</td>\n",
       "      <td>48.73492</td>\n",
       "      <td>NaN</td>\n",
       "      <td>am</td>\n",
       "      <td>e</td>\n",
       "    </tr>\n",
       "    <tr>\n",
       "      <th>2</th>\n",
       "      <td>1</td>\n",
       "      <td>2</td>\n",
       "      <td>0.43</td>\n",
       "      <td>-0.555558</td>\n",
       "      <td>50.856764</td>\n",
       "      <td>0.48</td>\n",
       "      <td>am</td>\n",
       "      <td>e</td>\n",
       "    </tr>\n",
       "    <tr>\n",
       "      <th>3</th>\n",
       "      <td>1</td>\n",
       "      <td>3</td>\n",
       "      <td>0.35</td>\n",
       "      <td>0.042647</td>\n",
       "      <td>25.194393</td>\n",
       "      <td>0.82</td>\n",
       "      <td>am</td>\n",
       "      <td>e</td>\n",
       "    </tr>\n",
       "    <tr>\n",
       "      <th>4</th>\n",
       "      <td>1</td>\n",
       "      <td>4</td>\n",
       "      <td>0.39</td>\n",
       "      <td>0.832773</td>\n",
       "      <td>40.258041</td>\n",
       "      <td>0.53</td>\n",
       "      <td>am</td>\n",
       "      <td>e</td>\n",
       "    </tr>\n",
       "    <tr>\n",
       "      <th>5</th>\n",
       "      <td>1</td>\n",
       "      <td>5</td>\n",
       "      <td>0.39</td>\n",
       "      <td>-0.250422</td>\n",
       "      <td>41.238509</td>\n",
       "      <td>0.5</td>\n",
       "      <td>am</td>\n",
       "      <td>e</td>\n",
       "    </tr>\n",
       "    <tr>\n",
       "      <th>...</th>\n",
       "      <td>...</td>\n",
       "      <td>...</td>\n",
       "      <td>...</td>\n",
       "      <td>...</td>\n",
       "      <td>...</td>\n",
       "      <td>...</td>\n",
       "      <td>...</td>\n",
       "      <td>...</td>\n",
       "    </tr>\n",
       "    <tr>\n",
       "      <th>18617</th>\n",
       "      <td>1175</td>\n",
       "      <td>16</td>\n",
       "      <td>0.44</td>\n",
       "      <td>0.04684</td>\n",
       "      <td>54.326619</td>\n",
       "      <td>0.5</td>\n",
       "      <td>pm</td>\n",
       "      <td>me</td>\n",
       "    </tr>\n",
       "    <tr>\n",
       "      <th>18618</th>\n",
       "      <td>1175</td>\n",
       "      <td>17</td>\n",
       "      <td>0.44</td>\n",
       "      <td>-0.0102</td>\n",
       "      <td>45.728909</td>\n",
       "      <td>0.92</td>\n",
       "      <td>pm</td>\n",
       "      <td>me</td>\n",
       "    </tr>\n",
       "    <tr>\n",
       "      <th>18619</th>\n",
       "      <td>1175</td>\n",
       "      <td>18</td>\n",
       "      <td>0.45</td>\n",
       "      <td>-0.00763</td>\n",
       "      <td>45.071495</td>\n",
       "      <td>0.6</td>\n",
       "      <td>pm</td>\n",
       "      <td>me</td>\n",
       "    </tr>\n",
       "    <tr>\n",
       "      <th>18620</th>\n",
       "      <td>1175</td>\n",
       "      <td>19</td>\n",
       "      <td>0.46</td>\n",
       "      <td>-0.00714</td>\n",
       "      <td>40.486464</td>\n",
       "      <td>1.42</td>\n",
       "      <td>pm</td>\n",
       "      <td>me</td>\n",
       "    </tr>\n",
       "    <tr>\n",
       "      <th>18621</th>\n",
       "      <td>1175</td>\n",
       "      <td>20</td>\n",
       "      <td>0.49</td>\n",
       "      <td>0.4479</td>\n",
       "      <td>55.727631</td>\n",
       "      <td>0.88</td>\n",
       "      <td>pm</td>\n",
       "      <td>me</td>\n",
       "    </tr>\n",
       "  </tbody>\n",
       "</table>\n",
       "<p>18621 rows × 8 columns</p>\n",
       "</div>"
      ],
      "text/plain": [
       "        fish_n event duration_s delta_theta_rad   distance latency_s time  \\\n",
       "event_n                                                                     \n",
       "1            1     1       0.43        -1.04943   48.73492       NaN   am   \n",
       "2            1     2       0.43       -0.555558  50.856764      0.48   am   \n",
       "3            1     3       0.35        0.042647  25.194393      0.82   am   \n",
       "4            1     4       0.39        0.832773  40.258041      0.53   am   \n",
       "5            1     5       0.39       -0.250422  41.238509       0.5   am   \n",
       "...        ...   ...        ...             ...        ...       ...  ...   \n",
       "18617     1175    16       0.44         0.04684  54.326619       0.5   pm   \n",
       "18618     1175    17       0.44         -0.0102  45.728909      0.92   pm   \n",
       "18619     1175    18       0.45        -0.00763  45.071495       0.6   pm   \n",
       "18620     1175    19       0.46        -0.00714  40.486464      1.42   pm   \n",
       "18621     1175    20       0.49          0.4479  55.727631      0.88   pm   \n",
       "\n",
       "        medium  \n",
       "event_n         \n",
       "1            e  \n",
       "2            e  \n",
       "3            e  \n",
       "4            e  \n",
       "5            e  \n",
       "...        ...  \n",
       "18617       me  \n",
       "18618       me  \n",
       "18619       me  \n",
       "18620       me  \n",
       "18621       me  \n",
       "\n",
       "[18621 rows x 8 columns]"
      ]
     },
     "execution_count": 78,
     "metadata": {},
     "output_type": "execute_result"
    }
   ],
   "source": [
    "full_event_table = pd.DataFrame(columns=['event_n','fish_n','event','duration_s','delta_theta_rad','distance',\\\n",
    "                                         'latency_s','time','medium'])\n",
    "\n",
    "fish_counter = 1\n",
    "for name,df in zip(df_names,dataframes):\n",
    "    for fish in df:\n",
    "        event_df = make_event_table(fish)\n",
    "        event_df['time'] = name.split('_')[0]\n",
    "        event_df['medium'] = name.split('_')[1]\n",
    "        event_df['event_n'] = 0\n",
    "        event_df['fish_n'] = fish_counter\n",
    "        fish_counter += 1\n",
    "        full_event_table = pd.concat([full_event_table,event_df])\n",
    "        \n",
    "full_event_table['event_n'] = np.arange(1,len(full_event_table)+1,1)\n",
    "full_event_table = full_event_table.set_index('event_n')\n",
    "\n",
    "full_event_table"
   ]
  },
  {
   "cell_type": "code",
   "execution_count": 108,
   "id": "b13b7ab2",
   "metadata": {},
   "outputs": [],
   "source": [
    "full_event_table.to_csv('../raw_data/full_event_table_contrast_zero.csv')"
   ]
  },
  {
   "cell_type": "code",
   "execution_count": 80,
   "id": "26206115",
   "metadata": {},
   "outputs": [],
   "source": [
    "am_events = full_event_table[full_event_table['time']=='am']\n",
    "pm_events = full_event_table[full_event_table['time']=='pm']"
   ]
  },
  {
   "cell_type": "code",
   "execution_count": 115,
   "id": "5edae8c1",
   "metadata": {},
   "outputs": [],
   "source": [
    "pm_e_events = pm_events[pm_events['medium'] == 'e']\n",
    "pm_me_events = pm_events[pm_events['medium'] == 'me']"
   ]
  },
  {
   "cell_type": "code",
   "execution_count": 122,
   "id": "587df7af",
   "metadata": {},
   "outputs": [],
   "source": [
    "am_e_events = am_events[am_events['medium'] == 'e']\n",
    "am_me_events = am_events[am_events['medium'] == 'me']"
   ]
  },
  {
   "cell_type": "code",
   "execution_count": 119,
   "id": "0c4b8422",
   "metadata": {},
   "outputs": [
    {
     "name": "stderr",
     "output_type": "stream",
     "text": [
      "/var/folders/wd/4w68b8ld47x6kzpx1zhzn8qm0000gn/T/ipykernel_59186/3814121538.py:1: SettingWithCopyWarning: \n",
      "A value is trying to be set on a copy of a slice from a DataFrame.\n",
      "Try using .loc[row_indexer,col_indexer] = value instead\n",
      "\n",
      "See the caveats in the documentation: https://pandas.pydata.org/pandas-docs/stable/user_guide/indexing.html#returning-a-view-versus-a-copy\n",
      "  pm_events['delta_theta_rad'] = pd.to_numeric(pm_events['delta_theta_rad'])\n",
      "/var/folders/wd/4w68b8ld47x6kzpx1zhzn8qm0000gn/T/ipykernel_59186/3814121538.py:2: SettingWithCopyWarning: \n",
      "A value is trying to be set on a copy of a slice from a DataFrame.\n",
      "Try using .loc[row_indexer,col_indexer] = value instead\n",
      "\n",
      "See the caveats in the documentation: https://pandas.pydata.org/pandas-docs/stable/user_guide/indexing.html#returning-a-view-versus-a-copy\n",
      "  am_events['delta_theta_rad'] = pd.to_numeric(am_events['delta_theta_rad'])\n"
     ]
    }
   ],
   "source": [
    "pm_events['delta_theta_rad'] = pd.to_numeric(pm_events['delta_theta_rad'])\n",
    "am_events['delta_theta_rad'] = pd.to_numeric(am_events['delta_theta_rad'])"
   ]
  },
  {
   "cell_type": "code",
   "execution_count": 81,
   "id": "5db1d30b",
   "metadata": {},
   "outputs": [],
   "source": [
    "full_event_table['delta_theta_rad'] = pd.to_numeric(full_event_table['delta_theta_rad'])\n",
    "full_event_table['latency_s'] = pd.to_numeric(full_event_table['latency_s'])\n",
    "full_event_table['distance'] = pd.to_numeric(full_event_table['distance'])"
   ]
  },
  {
   "cell_type": "code",
   "execution_count": 82,
   "id": "22bdb2e6",
   "metadata": {},
   "outputs": [
    {
     "data": {
      "text/html": [
       "<div>\n",
       "<style scoped>\n",
       "    .dataframe tbody tr th:only-of-type {\n",
       "        vertical-align: middle;\n",
       "    }\n",
       "\n",
       "    .dataframe tbody tr th {\n",
       "        vertical-align: top;\n",
       "    }\n",
       "\n",
       "    .dataframe thead th {\n",
       "        text-align: right;\n",
       "    }\n",
       "</style>\n",
       "<table border=\"1\" class=\"dataframe\">\n",
       "  <thead>\n",
       "    <tr style=\"text-align: right;\">\n",
       "      <th></th>\n",
       "      <th>sum_sq</th>\n",
       "      <th>df</th>\n",
       "      <th>F</th>\n",
       "      <th>PR(&gt;F)</th>\n",
       "    </tr>\n",
       "  </thead>\n",
       "  <tbody>\n",
       "    <tr>\n",
       "      <th>Intercept</th>\n",
       "      <td>1.611079</td>\n",
       "      <td>1.0</td>\n",
       "      <td>3.084457</td>\n",
       "      <td>0.079060</td>\n",
       "    </tr>\n",
       "    <tr>\n",
       "      <th>C(medium, Sum)</th>\n",
       "      <td>3.878860</td>\n",
       "      <td>1.0</td>\n",
       "      <td>7.426190</td>\n",
       "      <td>0.006434</td>\n",
       "    </tr>\n",
       "    <tr>\n",
       "      <th>C(time, Sum)</th>\n",
       "      <td>7.876980</td>\n",
       "      <td>1.0</td>\n",
       "      <td>15.080706</td>\n",
       "      <td>0.000103</td>\n",
       "    </tr>\n",
       "    <tr>\n",
       "      <th>C(medium, Sum):C(time, Sum)</th>\n",
       "      <td>5.583661</td>\n",
       "      <td>1.0</td>\n",
       "      <td>10.690080</td>\n",
       "      <td>0.001079</td>\n",
       "    </tr>\n",
       "    <tr>\n",
       "      <th>Residual</th>\n",
       "      <td>9724.063616</td>\n",
       "      <td>18617.0</td>\n",
       "      <td>NaN</td>\n",
       "      <td>NaN</td>\n",
       "    </tr>\n",
       "  </tbody>\n",
       "</table>\n",
       "</div>"
      ],
      "text/plain": [
       "                                  sum_sq       df          F    PR(>F)\n",
       "Intercept                       1.611079      1.0   3.084457  0.079060\n",
       "C(medium, Sum)                  3.878860      1.0   7.426190  0.006434\n",
       "C(time, Sum)                    7.876980      1.0  15.080706  0.000103\n",
       "C(medium, Sum):C(time, Sum)     5.583661      1.0  10.690080  0.001079\n",
       "Residual                     9724.063616  18617.0        NaN       NaN"
      ]
     },
     "execution_count": 82,
     "metadata": {},
     "output_type": "execute_result"
    }
   ],
   "source": [
    "bout_angle_model = ols(formula='delta_theta_rad ~ C(medium, Sum) + C(time, Sum) + C(medium, Sum):C(time, Sum)'\\\n",
    "                       ,data=full_event_table).fit()\n",
    "anova_table_bout = sm.stats.anova_lm(bout_angle_model, typ=3)\n",
    "anova_table_bout"
   ]
  },
  {
   "cell_type": "code",
   "execution_count": 117,
   "id": "8f14314a",
   "metadata": {},
   "outputs": [
    {
     "data": {
      "text/plain": [
       "F_onewayResult(statistic=0.2552948520979683, pvalue=0.6133797226577578)"
      ]
     },
     "execution_count": 117,
     "metadata": {},
     "output_type": "execute_result"
    }
   ],
   "source": [
    "stats.f_oneway(pm_e_events['delta_theta_rad'],pm_me_events['delta_theta_rad'])"
   ]
  },
  {
   "cell_type": "code",
   "execution_count": 121,
   "id": "5eb76d92",
   "metadata": {},
   "outputs": [
    {
     "data": {
      "text/plain": [
       "F_onewayResult(statistic=12.301791792498948, pvalue=0.00045614680647296316)"
      ]
     },
     "execution_count": 121,
     "metadata": {},
     "output_type": "execute_result"
    }
   ],
   "source": [
    "stats.f_oneway(am_e_events['delta_theta_rad'],am_me_events['delta_theta_rad'])"
   ]
  },
  {
   "cell_type": "code",
   "execution_count": 125,
   "id": "35732acf",
   "metadata": {
    "scrolled": true
   },
   "outputs": [
    {
     "data": {
      "text/html": [
       "<div>\n",
       "<style scoped>\n",
       "    .dataframe tbody tr th:only-of-type {\n",
       "        vertical-align: middle;\n",
       "    }\n",
       "\n",
       "    .dataframe tbody tr th {\n",
       "        vertical-align: top;\n",
       "    }\n",
       "\n",
       "    .dataframe thead th {\n",
       "        text-align: right;\n",
       "    }\n",
       "</style>\n",
       "<table border=\"1\" class=\"dataframe\">\n",
       "  <thead>\n",
       "    <tr style=\"text-align: right;\">\n",
       "      <th></th>\n",
       "      <th>sum_sq</th>\n",
       "      <th>df</th>\n",
       "      <th>F</th>\n",
       "      <th>PR(&gt;F)</th>\n",
       "    </tr>\n",
       "  </thead>\n",
       "  <tbody>\n",
       "    <tr>\n",
       "      <th>Intercept</th>\n",
       "      <td>0.837648</td>\n",
       "      <td>1.0</td>\n",
       "      <td>1.548902</td>\n",
       "      <td>0.213351</td>\n",
       "    </tr>\n",
       "    <tr>\n",
       "      <th>C(medium, Sum)</th>\n",
       "      <td>6.652824</td>\n",
       "      <td>1.0</td>\n",
       "      <td>12.301792</td>\n",
       "      <td>0.000456</td>\n",
       "    </tr>\n",
       "    <tr>\n",
       "      <th>Residual</th>\n",
       "      <td>2968.457813</td>\n",
       "      <td>5489.0</td>\n",
       "      <td>NaN</td>\n",
       "      <td>NaN</td>\n",
       "    </tr>\n",
       "  </tbody>\n",
       "</table>\n",
       "</div>"
      ],
      "text/plain": [
       "                     sum_sq      df          F    PR(>F)\n",
       "Intercept          0.837648     1.0   1.548902  0.213351\n",
       "C(medium, Sum)     6.652824     1.0  12.301792  0.000456\n",
       "Residual        2968.457813  5489.0        NaN       NaN"
      ]
     },
     "execution_count": 125,
     "metadata": {},
     "output_type": "execute_result"
    }
   ],
   "source": [
    "am_bout_angle_model = ols(formula='delta_theta_rad ~ C(medium, Sum)'\\\n",
    "                       ,data=am_events).fit()\n",
    "am_anova_table_bout = sm.stats.anova_lm(am_bout_angle_model, typ=3)\n",
    "am_anova_table_bout"
   ]
  },
  {
   "cell_type": "code",
   "execution_count": 127,
   "id": "19ff42e5",
   "metadata": {},
   "outputs": [
    {
     "name": "stdout",
     "output_type": "stream",
     "text": [
      "AM E2:  0.02250710070218584\n",
      "AM Met:  -0.04726462820081347\n"
     ]
    }
   ],
   "source": [
    "print('AM E2: ',np.mean(am_e_events['delta_theta_rad']))\n",
    "print('AM Met: ',np.mean(am_me_events['delta_theta_rad']))"
   ]
  },
  {
   "cell_type": "code",
   "execution_count": 129,
   "id": "1a0fe4fb",
   "metadata": {},
   "outputs": [
    {
     "data": {
      "text/plain": [
       "<BarContainer object of 2 artists>"
      ]
     },
     "execution_count": 129,
     "metadata": {},
     "output_type": "execute_result"
    },
    {
     "data": {
      "image/png": "[encoded data removed]",
      "text/plain": [
       "<Figure size 432x288 with 1 Axes>"
      ]
     },
     "metadata": {
      "needs_background": "light"
     },
     "output_type": "display_data"
    }
   ],
   "source": [
    "plt.bar([1,2],[np.mean(am_e_events['delta_theta_rad']), np.mean(am_me_events['delta_theta_rad'])])"
   ]
  },
  {
   "cell_type": "code",
   "execution_count": 114,
   "id": "a23bb8b8",
   "metadata": {},
   "outputs": [
    {
     "data": {
      "text/html": [
       "<div>\n",
       "<style scoped>\n",
       "    .dataframe tbody tr th:only-of-type {\n",
       "        vertical-align: middle;\n",
       "    }\n",
       "\n",
       "    .dataframe tbody tr th {\n",
       "        vertical-align: top;\n",
       "    }\n",
       "\n",
       "    .dataframe thead th {\n",
       "        text-align: right;\n",
       "    }\n",
       "</style>\n",
       "<table border=\"1\" class=\"dataframe\">\n",
       "  <thead>\n",
       "    <tr style=\"text-align: right;\">\n",
       "      <th></th>\n",
       "      <th>sum_sq</th>\n",
       "      <th>df</th>\n",
       "      <th>F</th>\n",
       "      <th>PR(&gt;F)</th>\n",
       "    </tr>\n",
       "  </thead>\n",
       "  <tbody>\n",
       "    <tr>\n",
       "      <th>Intercept</th>\n",
       "      <td>14.095225</td>\n",
       "      <td>1.0</td>\n",
       "      <td>27.390899</td>\n",
       "      <td>1.687734e-07</td>\n",
       "    </tr>\n",
       "    <tr>\n",
       "      <th>C(medium, Sum)</th>\n",
       "      <td>0.131374</td>\n",
       "      <td>1.0</td>\n",
       "      <td>0.255295</td>\n",
       "      <td>6.133797e-01</td>\n",
       "    </tr>\n",
       "    <tr>\n",
       "      <th>Residual</th>\n",
       "      <td>6755.605803</td>\n",
       "      <td>13128.0</td>\n",
       "      <td>NaN</td>\n",
       "      <td>NaN</td>\n",
       "    </tr>\n",
       "  </tbody>\n",
       "</table>\n",
       "</div>"
      ],
      "text/plain": [
       "                     sum_sq       df          F        PR(>F)\n",
       "Intercept         14.095225      1.0  27.390899  1.687734e-07\n",
       "C(medium, Sum)     0.131374      1.0   0.255295  6.133797e-01\n",
       "Residual        6755.605803  13128.0        NaN           NaN"
      ]
     },
     "execution_count": 114,
     "metadata": {},
     "output_type": "execute_result"
    }
   ],
   "source": [
    "pm_bout_angle_model = ols(formula='delta_theta_rad ~ C(medium, Sum)'\\\n",
    "                       ,data=pm_events).fit()\n",
    "pm_anova_table_bout = sm.stats.anova_lm(pm_bout_angle_model, typ=3)\n",
    "pm_anova_table_bout"
   ]
  },
  {
   "cell_type": "code",
   "execution_count": 83,
   "id": "7be9de2c",
   "metadata": {},
   "outputs": [
    {
     "data": {
      "text/html": [
       "<div>\n",
       "<style scoped>\n",
       "    .dataframe tbody tr th:only-of-type {\n",
       "        vertical-align: middle;\n",
       "    }\n",
       "\n",
       "    .dataframe tbody tr th {\n",
       "        vertical-align: top;\n",
       "    }\n",
       "\n",
       "    .dataframe thead th {\n",
       "        text-align: right;\n",
       "    }\n",
       "</style>\n",
       "<table border=\"1\" class=\"dataframe\">\n",
       "  <thead>\n",
       "    <tr style=\"text-align: right;\">\n",
       "      <th></th>\n",
       "      <th>sum_sq</th>\n",
       "      <th>df</th>\n",
       "      <th>F</th>\n",
       "      <th>PR(&gt;F)</th>\n",
       "    </tr>\n",
       "  </thead>\n",
       "  <tbody>\n",
       "    <tr>\n",
       "      <th>Intercept</th>\n",
       "      <td>17921.366052</td>\n",
       "      <td>1.0</td>\n",
       "      <td>13255.356225</td>\n",
       "      <td>0.000000e+00</td>\n",
       "    </tr>\n",
       "    <tr>\n",
       "      <th>C(medium, Sum)</th>\n",
       "      <td>5.308103</td>\n",
       "      <td>1.0</td>\n",
       "      <td>3.926085</td>\n",
       "      <td>4.755809e-02</td>\n",
       "    </tr>\n",
       "    <tr>\n",
       "      <th>C(time, Sum)</th>\n",
       "      <td>402.297526</td>\n",
       "      <td>1.0</td>\n",
       "      <td>297.555276</td>\n",
       "      <td>3.941694e-66</td>\n",
       "    </tr>\n",
       "    <tr>\n",
       "      <th>C(medium, Sum):C(time, Sum)</th>\n",
       "      <td>12.157172</td>\n",
       "      <td>1.0</td>\n",
       "      <td>8.991929</td>\n",
       "      <td>2.715547e-03</td>\n",
       "    </tr>\n",
       "    <tr>\n",
       "      <th>Residual</th>\n",
       "      <td>23727.764753</td>\n",
       "      <td>17550.0</td>\n",
       "      <td>NaN</td>\n",
       "      <td>NaN</td>\n",
       "    </tr>\n",
       "  </tbody>\n",
       "</table>\n",
       "</div>"
      ],
      "text/plain": [
       "                                   sum_sq       df             F        PR(>F)\n",
       "Intercept                    17921.366052      1.0  13255.356225  0.000000e+00\n",
       "C(medium, Sum)                   5.308103      1.0      3.926085  4.755809e-02\n",
       "C(time, Sum)                   402.297526      1.0    297.555276  3.941694e-66\n",
       "C(medium, Sum):C(time, Sum)     12.157172      1.0      8.991929  2.715547e-03\n",
       "Residual                     23727.764753  17550.0           NaN           NaN"
      ]
     },
     "execution_count": 83,
     "metadata": {},
     "output_type": "execute_result"
    }
   ],
   "source": [
    "latency_model = ols(formula='latency_s ~ C(medium, Sum) + C(time, Sum) + C(medium, Sum):C(time, Sum)'\\\n",
    "                       ,data=full_event_table).fit()\n",
    "anova_table_latency = sm.stats.anova_lm(latency_model, typ=3)\n",
    "anova_table_latency"
   ]
  },
  {
   "cell_type": "code",
   "execution_count": 84,
   "id": "e021fdf7",
   "metadata": {},
   "outputs": [
    {
     "data": {
      "text/html": [
       "<div>\n",
       "<style scoped>\n",
       "    .dataframe tbody tr th:only-of-type {\n",
       "        vertical-align: middle;\n",
       "    }\n",
       "\n",
       "    .dataframe tbody tr th {\n",
       "        vertical-align: top;\n",
       "    }\n",
       "\n",
       "    .dataframe thead th {\n",
       "        text-align: right;\n",
       "    }\n",
       "</style>\n",
       "<table border=\"1\" class=\"dataframe\">\n",
       "  <thead>\n",
       "    <tr style=\"text-align: right;\">\n",
       "      <th></th>\n",
       "      <th>sum_sq</th>\n",
       "      <th>df</th>\n",
       "      <th>F</th>\n",
       "      <th>PR(&gt;F)</th>\n",
       "    </tr>\n",
       "  </thead>\n",
       "  <tbody>\n",
       "    <tr>\n",
       "      <th>Intercept</th>\n",
       "      <td>4.174815e+07</td>\n",
       "      <td>1.0</td>\n",
       "      <td>6074.158336</td>\n",
       "      <td>0.000000</td>\n",
       "    </tr>\n",
       "    <tr>\n",
       "      <th>C(medium, Sum)</th>\n",
       "      <td>3.868085e+02</td>\n",
       "      <td>1.0</td>\n",
       "      <td>0.056279</td>\n",
       "      <td>0.812480</td>\n",
       "    </tr>\n",
       "    <tr>\n",
       "      <th>C(time, Sum)</th>\n",
       "      <td>4.301213e+03</td>\n",
       "      <td>1.0</td>\n",
       "      <td>0.625806</td>\n",
       "      <td>0.428908</td>\n",
       "    </tr>\n",
       "    <tr>\n",
       "      <th>C(medium, Sum):C(time, Sum)</th>\n",
       "      <td>3.241665e+03</td>\n",
       "      <td>1.0</td>\n",
       "      <td>0.471647</td>\n",
       "      <td>0.492239</td>\n",
       "    </tr>\n",
       "    <tr>\n",
       "      <th>Residual</th>\n",
       "      <td>1.279560e+08</td>\n",
       "      <td>18617.0</td>\n",
       "      <td>NaN</td>\n",
       "      <td>NaN</td>\n",
       "    </tr>\n",
       "  </tbody>\n",
       "</table>\n",
       "</div>"
      ],
      "text/plain": [
       "                                   sum_sq       df            F    PR(>F)\n",
       "Intercept                    4.174815e+07      1.0  6074.158336  0.000000\n",
       "C(medium, Sum)               3.868085e+02      1.0     0.056279  0.812480\n",
       "C(time, Sum)                 4.301213e+03      1.0     0.625806  0.428908\n",
       "C(medium, Sum):C(time, Sum)  3.241665e+03      1.0     0.471647  0.492239\n",
       "Residual                     1.279560e+08  18617.0          NaN       NaN"
      ]
     },
     "execution_count": 84,
     "metadata": {},
     "output_type": "execute_result"
    }
   ],
   "source": [
    "distance_model = ols(formula='distance ~ C(medium, Sum) + C(time, Sum) + C(medium, Sum):C(time, Sum)'\\\n",
    "                       ,data=full_event_table).fit()\n",
    "anova_table_distance = sm.stats.anova_lm(distance_model, typ=3)\n",
    "anova_table_distance"
   ]
  },
  {
   "cell_type": "markdown",
   "id": "560675be",
   "metadata": {},
   "source": [
    "# Fish List"
   ]
  },
  {
   "cell_type": "code",
   "execution_count": 87,
   "id": "9cd91e30",
   "metadata": {},
   "outputs": [],
   "source": [
    "def sem_with_zero_division_exception(events,fish):\n",
    "    try:\n",
    "        return stats.sem(events.loc[(events['fish_n']==fish)]['latency_s'][1:]) \n",
    "    except ZeroDivisionError as e:\n",
    "        return None\n",
    "\n",
    "def make_fish_list(events):    \n",
    "    fish_list = pd.DataFrame(columns=['fish_n','bouts_Hz','duration_avg','duration_sem','latency_avg',\\\n",
    "                                      'latency_sem','distance_avg','distance_sem','total_distance'])\n",
    "\n",
    "\n",
    "    fish_list['fish_n'] = [fish for fish in events['fish_n'].unique()]\n",
    "    fish_list['bouts_Hz'] = [events.loc[(events['fish_n']==fish)].max()[1]/30 \\\n",
    "                             for fish in events['fish_n'].unique()]\n",
    "    fish_list['duration_avg'] = [np.mean(events.loc[(events['fish_n']==fish)]['duration_s']) \\\n",
    "                                 for fish in events['fish_n'].unique()]\n",
    "    fish_list['duration_sem'] = [stats.sem(events.loc[(events['fish_n']==fish)]['duration_s']) \\\n",
    "                                 for fish in events['fish_n'].unique()]\n",
    "    fish_list['latency_avg'] = [np.mean(events.loc[(events['fish_n']==fish)]['latency_s']) \\\n",
    "                                for fish in events['fish_n'].unique()]\n",
    "    fish_list['latency_sem'] = [sem_with_zero_division_exception(events,fish) \\\n",
    "                                for fish in events['fish_n'].unique()]\n",
    "    fish_list['distance_avg'] = [np.mean(events.loc[(events['fish_n']==fish)]['distance']) \\\n",
    "                                for fish in events['fish_n'].unique()]\n",
    "    fish_list['distance_sem'] = [stats.sem(events.loc[(events['fish_n']==fish)]['distance']) \\\n",
    "                               for fish in events['fish_n'].unique()]\n",
    "    fish_list['total_distance'] = [events.loc[(events['fish_n']==fish)]['distance'].sum() \\\n",
    "                                  for fish in events['fish_n'].unique()]\n",
    "    # fish_list['final_cumulative_angle'] = None\n",
    "\n",
    "    return fish_list"
   ]
  },
  {
   "cell_type": "code",
   "execution_count": 88,
   "id": "46e375e4",
   "metadata": {},
   "outputs": [],
   "source": [
    "am_e_events = full_event_table[(full_event_table['time']=='am')&(full_event_table['medium']=='e')]\n",
    "am_me_events = full_event_table[(full_event_table['time']=='am')&(full_event_table['medium']=='me')]\n",
    "pm_e_events = full_event_table[(full_event_table['time']=='pm')&(full_event_table['medium']=='e')]\n",
    "pm_me_events = full_event_table[(full_event_table['time']=='pm')&(full_event_table['medium']=='me')]"
   ]
  },
  {
   "cell_type": "code",
   "execution_count": 89,
   "id": "e82c55ca",
   "metadata": {},
   "outputs": [],
   "source": [
    "event_names = ['am_e','am_me','pm_e','pm_me']\n",
    "event_dataframes = [am_e_events, am_me_events, pm_e_events, pm_me_events]"
   ]
  },
  {
   "cell_type": "code",
   "execution_count": 90,
   "id": "6fcb7222",
   "metadata": {},
   "outputs": [
    {
     "name": "stderr",
     "output_type": "stream",
     "text": [
      "/Users/katarzynakupczyk/.pyenv/versions/3.8.6/envs/dissertation2022/lib/python3.8/site-packages/numpy/core/_methods.py:264: RuntimeWarning: Degrees of freedom <= 0 for slice\n",
      "  ret = _var(a, axis=axis, dtype=dtype, out=out, ddof=ddof,\n",
      "/Users/katarzynakupczyk/.pyenv/versions/3.8.6/envs/dissertation2022/lib/python3.8/site-packages/numpy/core/_methods.py:258: RuntimeWarning: invalid value encountered in true_divide\n",
      "  ret = ret / rcount\n",
      "/Users/katarzynakupczyk/.pyenv/versions/3.8.6/envs/dissertation2022/lib/python3.8/site-packages/numpy/core/_methods.py:256: RuntimeWarning: invalid value encountered in double_scalars\n",
      "  ret = ret.dtype.type(ret / rcount)\n",
      "/Users/katarzynakupczyk/.pyenv/versions/3.8.6/envs/dissertation2022/lib/python3.8/site-packages/numpy/core/_methods.py:222: RuntimeWarning: invalid value encountered in true_divide\n",
      "  arrmean = um.true_divide(arrmean, div, out=arrmean, casting='unsafe',\n",
      "/Users/katarzynakupczyk/.pyenv/versions/3.8.6/envs/dissertation2022/lib/python3.8/site-packages/numpy/core/_methods.py:264: RuntimeWarning: Degrees of freedom <= 0 for slice\n",
      "  ret = _var(a, axis=axis, dtype=dtype, out=out, ddof=ddof,\n",
      "/Users/katarzynakupczyk/.pyenv/versions/3.8.6/envs/dissertation2022/lib/python3.8/site-packages/numpy/core/_methods.py:258: RuntimeWarning: invalid value encountered in true_divide\n",
      "  ret = ret / rcount\n",
      "/Users/katarzynakupczyk/.pyenv/versions/3.8.6/envs/dissertation2022/lib/python3.8/site-packages/numpy/core/_methods.py:256: RuntimeWarning: invalid value encountered in double_scalars\n",
      "  ret = ret.dtype.type(ret / rcount)\n",
      "/Users/katarzynakupczyk/.pyenv/versions/3.8.6/envs/dissertation2022/lib/python3.8/site-packages/numpy/core/_methods.py:222: RuntimeWarning: invalid value encountered in true_divide\n",
      "  arrmean = um.true_divide(arrmean, div, out=arrmean, casting='unsafe',\n",
      "/Users/katarzynakupczyk/.pyenv/versions/3.8.6/envs/dissertation2022/lib/python3.8/site-packages/numpy/core/_methods.py:264: RuntimeWarning: Degrees of freedom <= 0 for slice\n",
      "  ret = _var(a, axis=axis, dtype=dtype, out=out, ddof=ddof,\n",
      "/Users/katarzynakupczyk/.pyenv/versions/3.8.6/envs/dissertation2022/lib/python3.8/site-packages/numpy/core/_methods.py:258: RuntimeWarning: invalid value encountered in true_divide\n",
      "  ret = ret / rcount\n",
      "/Users/katarzynakupczyk/.pyenv/versions/3.8.6/envs/dissertation2022/lib/python3.8/site-packages/numpy/core/_methods.py:256: RuntimeWarning: invalid value encountered in double_scalars\n",
      "  ret = ret.dtype.type(ret / rcount)\n",
      "/Users/katarzynakupczyk/.pyenv/versions/3.8.6/envs/dissertation2022/lib/python3.8/site-packages/numpy/core/_methods.py:222: RuntimeWarning: invalid value encountered in true_divide\n",
      "  arrmean = um.true_divide(arrmean, div, out=arrmean, casting='unsafe',\n",
      "/Users/katarzynakupczyk/.pyenv/versions/3.8.6/envs/dissertation2022/lib/python3.8/site-packages/numpy/core/_methods.py:264: RuntimeWarning: Degrees of freedom <= 0 for slice\n",
      "  ret = _var(a, axis=axis, dtype=dtype, out=out, ddof=ddof,\n",
      "/Users/katarzynakupczyk/.pyenv/versions/3.8.6/envs/dissertation2022/lib/python3.8/site-packages/numpy/core/_methods.py:258: RuntimeWarning: invalid value encountered in true_divide\n",
      "  ret = ret / rcount\n",
      "/Users/katarzynakupczyk/.pyenv/versions/3.8.6/envs/dissertation2022/lib/python3.8/site-packages/numpy/core/_methods.py:256: RuntimeWarning: invalid value encountered in double_scalars\n",
      "  ret = ret.dtype.type(ret / rcount)\n",
      "/Users/katarzynakupczyk/.pyenv/versions/3.8.6/envs/dissertation2022/lib/python3.8/site-packages/numpy/core/_methods.py:222: RuntimeWarning: invalid value encountered in true_divide\n",
      "  arrmean = um.true_divide(arrmean, div, out=arrmean, casting='unsafe',\n"
     ]
    },
    {
     "data": {
      "text/html": [
       "<div>\n",
       "<style scoped>\n",
       "    .dataframe tbody tr th:only-of-type {\n",
       "        vertical-align: middle;\n",
       "    }\n",
       "\n",
       "    .dataframe tbody tr th {\n",
       "        vertical-align: top;\n",
       "    }\n",
       "\n",
       "    .dataframe thead th {\n",
       "        text-align: right;\n",
       "    }\n",
       "</style>\n",
       "<table border=\"1\" class=\"dataframe\">\n",
       "  <thead>\n",
       "    <tr style=\"text-align: right;\">\n",
       "      <th></th>\n",
       "      <th>bouts_Hz</th>\n",
       "      <th>duration_avg</th>\n",
       "      <th>duration_sem</th>\n",
       "      <th>latency_avg</th>\n",
       "      <th>latency_sem</th>\n",
       "      <th>distance_avg</th>\n",
       "      <th>distance_sem</th>\n",
       "      <th>total_distance</th>\n",
       "      <th>time</th>\n",
       "      <th>medium</th>\n",
       "    </tr>\n",
       "    <tr>\n",
       "      <th>fish_n</th>\n",
       "      <th></th>\n",
       "      <th></th>\n",
       "      <th></th>\n",
       "      <th></th>\n",
       "      <th></th>\n",
       "      <th></th>\n",
       "      <th></th>\n",
       "      <th></th>\n",
       "      <th></th>\n",
       "      <th></th>\n",
       "    </tr>\n",
       "  </thead>\n",
       "  <tbody>\n",
       "    <tr>\n",
       "      <th>1</th>\n",
       "      <td>0.766667</td>\n",
       "      <td>0.40913</td>\n",
       "      <td>0.008572</td>\n",
       "      <td>0.750909</td>\n",
       "      <td>0.065864</td>\n",
       "      <td>38.813441</td>\n",
       "      <td>1.73373</td>\n",
       "      <td>892.709137</td>\n",
       "      <td>am</td>\n",
       "      <td>e</td>\n",
       "    </tr>\n",
       "    <tr>\n",
       "      <th>2</th>\n",
       "      <td>0.5</td>\n",
       "      <td>0.475333</td>\n",
       "      <td>0.010773</td>\n",
       "      <td>1.42</td>\n",
       "      <td>0.359013</td>\n",
       "      <td>75.186549</td>\n",
       "      <td>6.207864</td>\n",
       "      <td>1127.798233</td>\n",
       "      <td>am</td>\n",
       "      <td>e</td>\n",
       "    </tr>\n",
       "    <tr>\n",
       "      <th>3</th>\n",
       "      <td>0.5</td>\n",
       "      <td>0.391333</td>\n",
       "      <td>0.024492</td>\n",
       "      <td>1.417857</td>\n",
       "      <td>0.43481</td>\n",
       "      <td>41.338405</td>\n",
       "      <td>4.441679</td>\n",
       "      <td>620.076073</td>\n",
       "      <td>am</td>\n",
       "      <td>e</td>\n",
       "    </tr>\n",
       "    <tr>\n",
       "      <th>4</th>\n",
       "      <td>0.333333</td>\n",
       "      <td>0.435</td>\n",
       "      <td>0.021871</td>\n",
       "      <td>1.228889</td>\n",
       "      <td>0.202062</td>\n",
       "      <td>59.296899</td>\n",
       "      <td>12.86991</td>\n",
       "      <td>592.968985</td>\n",
       "      <td>am</td>\n",
       "      <td>e</td>\n",
       "    </tr>\n",
       "    <tr>\n",
       "      <th>5</th>\n",
       "      <td>0.333333</td>\n",
       "      <td>0.36</td>\n",
       "      <td>0.023094</td>\n",
       "      <td>1.132222</td>\n",
       "      <td>0.205005</td>\n",
       "      <td>27.572011</td>\n",
       "      <td>2.798647</td>\n",
       "      <td>275.720112</td>\n",
       "      <td>am</td>\n",
       "      <td>e</td>\n",
       "    </tr>\n",
       "    <tr>\n",
       "      <th>...</th>\n",
       "      <td>...</td>\n",
       "      <td>...</td>\n",
       "      <td>...</td>\n",
       "      <td>...</td>\n",
       "      <td>...</td>\n",
       "      <td>...</td>\n",
       "      <td>...</td>\n",
       "      <td>...</td>\n",
       "      <td>...</td>\n",
       "      <td>...</td>\n",
       "    </tr>\n",
       "    <tr>\n",
       "      <th>1063</th>\n",
       "      <td>0.633333</td>\n",
       "      <td>0.395263</td>\n",
       "      <td>0.026072</td>\n",
       "      <td>1.177778</td>\n",
       "      <td>0.217302</td>\n",
       "      <td>58.400362</td>\n",
       "      <td>9.624673</td>\n",
       "      <td>1109.606878</td>\n",
       "      <td>pm</td>\n",
       "      <td>me</td>\n",
       "    </tr>\n",
       "    <tr>\n",
       "      <th>1064</th>\n",
       "      <td>0.833333</td>\n",
       "      <td>0.3768</td>\n",
       "      <td>0.022171</td>\n",
       "      <td>0.83875</td>\n",
       "      <td>0.132721</td>\n",
       "      <td>50.249085</td>\n",
       "      <td>4.390031</td>\n",
       "      <td>1256.227137</td>\n",
       "      <td>pm</td>\n",
       "      <td>me</td>\n",
       "    </tr>\n",
       "    <tr>\n",
       "      <th>1065</th>\n",
       "      <td>0.7</td>\n",
       "      <td>0.42</td>\n",
       "      <td>0.010976</td>\n",
       "      <td>0.999</td>\n",
       "      <td>0.170133</td>\n",
       "      <td>51.578868</td>\n",
       "      <td>3.652145</td>\n",
       "      <td>1083.15623</td>\n",
       "      <td>pm</td>\n",
       "      <td>me</td>\n",
       "    </tr>\n",
       "    <tr>\n",
       "      <th>1066</th>\n",
       "      <td>0.533333</td>\n",
       "      <td>0.40375</td>\n",
       "      <td>0.019512</td>\n",
       "      <td>1.407333</td>\n",
       "      <td>0.258087</td>\n",
       "      <td>43.020247</td>\n",
       "      <td>6.691032</td>\n",
       "      <td>688.32395</td>\n",
       "      <td>pm</td>\n",
       "      <td>me</td>\n",
       "    </tr>\n",
       "    <tr>\n",
       "      <th>1067</th>\n",
       "      <td>0.666667</td>\n",
       "      <td>0.4425</td>\n",
       "      <td>0.010308</td>\n",
       "      <td>1.065789</td>\n",
       "      <td>0.188977</td>\n",
       "      <td>54.570634</td>\n",
       "      <td>4.305265</td>\n",
       "      <td>1091.412681</td>\n",
       "      <td>pm</td>\n",
       "      <td>me</td>\n",
       "    </tr>\n",
       "  </tbody>\n",
       "</table>\n",
       "<p>1067 rows × 10 columns</p>\n",
       "</div>"
      ],
      "text/plain": [
       "        bouts_Hz duration_avg duration_sem latency_avg latency_sem  \\\n",
       "fish_n                                                               \n",
       "1       0.766667      0.40913     0.008572    0.750909    0.065864   \n",
       "2            0.5     0.475333     0.010773        1.42    0.359013   \n",
       "3            0.5     0.391333     0.024492    1.417857     0.43481   \n",
       "4       0.333333        0.435     0.021871    1.228889    0.202062   \n",
       "5       0.333333         0.36     0.023094    1.132222    0.205005   \n",
       "...          ...          ...          ...         ...         ...   \n",
       "1063    0.633333     0.395263     0.026072    1.177778    0.217302   \n",
       "1064    0.833333       0.3768     0.022171     0.83875    0.132721   \n",
       "1065         0.7         0.42     0.010976       0.999    0.170133   \n",
       "1066    0.533333      0.40375     0.019512    1.407333    0.258087   \n",
       "1067    0.666667       0.4425     0.010308    1.065789    0.188977   \n",
       "\n",
       "       distance_avg distance_sem total_distance time medium  \n",
       "fish_n                                                       \n",
       "1         38.813441      1.73373     892.709137   am      e  \n",
       "2         75.186549     6.207864    1127.798233   am      e  \n",
       "3         41.338405     4.441679     620.076073   am      e  \n",
       "4         59.296899     12.86991     592.968985   am      e  \n",
       "5         27.572011     2.798647     275.720112   am      e  \n",
       "...             ...          ...            ...  ...    ...  \n",
       "1063      58.400362     9.624673    1109.606878   pm     me  \n",
       "1064      50.249085     4.390031    1256.227137   pm     me  \n",
       "1065      51.578868     3.652145     1083.15623   pm     me  \n",
       "1066      43.020247     6.691032      688.32395   pm     me  \n",
       "1067      54.570634     4.305265    1091.412681   pm     me  \n",
       "\n",
       "[1067 rows x 10 columns]"
      ]
     },
     "execution_count": 90,
     "metadata": {},
     "output_type": "execute_result"
    }
   ],
   "source": [
    "full_fish_list = pd.DataFrame(columns=['fish_n','bouts_Hz','duration_avg','duration_sem','latency_avg',\\\n",
    "                                      'latency_sem','distance_avg','distance_sem','total_distance','time',\\\n",
    "                                       'medium'])\n",
    "\n",
    "for name,df in zip(event_names,event_dataframes):\n",
    "    fish_list = make_fish_list(df)\n",
    "    fish_list['time'] = name.split('_')[0]\n",
    "    fish_list['medium'] = name.split('_')[1]\n",
    "    fish_counter += 1\n",
    "    full_fish_list = pd.concat([full_fish_list,fish_list])\n",
    "        \n",
    "full_fish_list['fish_n'] = np.arange(1,len(full_fish_list)+1,1)\n",
    "full_fish_list = full_fish_list.set_index('fish_n')\n",
    "\n",
    "full_fish_list"
   ]
  },
  {
   "cell_type": "code",
   "execution_count": 91,
   "id": "7bf5c4ef",
   "metadata": {},
   "outputs": [],
   "source": [
    "am_fish_list = full_fish_list[full_fish_list['time']=='am']\n",
    "pm_fish_list = full_fish_list[full_fish_list['time']=='pm']"
   ]
  },
  {
   "cell_type": "code",
   "execution_count": 92,
   "id": "3a1a972a",
   "metadata": {},
   "outputs": [],
   "source": [
    "am_e_fish_list = am_fish_list[am_fish_list['medium']=='e']\n",
    "am_me_fish_list = am_fish_list[am_fish_list['medium']=='me']\n",
    "\n",
    "pm_e_fish_list = pm_fish_list[pm_fish_list['medium']=='e']\n",
    "pm_me_fish_list = pm_fish_list[pm_fish_list['medium']=='me']"
   ]
  },
  {
   "cell_type": "code",
   "execution_count": 93,
   "id": "4da0474e",
   "metadata": {},
   "outputs": [],
   "source": [
    "full_fish_list['bouts_Hz'] = pd.to_numeric(full_fish_list['bouts_Hz'])\n",
    "full_fish_list['latency_avg'] = pd.to_numeric(full_fish_list['latency_avg'])\n",
    "full_fish_list['distance_avg'] = pd.to_numeric(full_fish_list['distance_avg'])\n",
    "full_fish_list['total_distance'] = pd.to_numeric(full_fish_list['total_distance'])\n",
    "full_fish_list['duration_avg'] = pd.to_numeric(full_fish_list['duration_avg'])"
   ]
  },
  {
   "cell_type": "code",
   "execution_count": 94,
   "id": "eb3cea85",
   "metadata": {},
   "outputs": [
    {
     "data": {
      "text/plain": [
       "<BarContainer object of 2 artists>"
      ]
     },
     "execution_count": 94,
     "metadata": {},
     "output_type": "execute_result"
    },
    {
     "data": {
      "image/png": "[encoded data removed]",
      "text/plain": [
       "<Figure size 432x288 with 1 Axes>"
      ]
     },
     "metadata": {
      "needs_background": "light"
     },
     "output_type": "display_data"
    }
   ],
   "source": [
    "plt.bar([1,2],height=[np.mean(am_e_fish_list['bouts_Hz']),np.mean(am_me_fish_list['bouts_Hz'])])"
   ]
  },
  {
   "cell_type": "code",
   "execution_count": 95,
   "id": "b5b03726",
   "metadata": {},
   "outputs": [
    {
     "data": {
      "text/html": [
       "<div>\n",
       "<style scoped>\n",
       "    .dataframe tbody tr th:only-of-type {\n",
       "        vertical-align: middle;\n",
       "    }\n",
       "\n",
       "    .dataframe tbody tr th {\n",
       "        vertical-align: top;\n",
       "    }\n",
       "\n",
       "    .dataframe thead th {\n",
       "        text-align: right;\n",
       "    }\n",
       "</style>\n",
       "<table border=\"1\" class=\"dataframe\">\n",
       "  <thead>\n",
       "    <tr style=\"text-align: right;\">\n",
       "      <th></th>\n",
       "      <th>sum_sq</th>\n",
       "      <th>df</th>\n",
       "      <th>F</th>\n",
       "      <th>PR(&gt;F)</th>\n",
       "    </tr>\n",
       "  </thead>\n",
       "  <tbody>\n",
       "    <tr>\n",
       "      <th>Intercept</th>\n",
       "      <td>307.249652</td>\n",
       "      <td>1.0</td>\n",
       "      <td>4478.132028</td>\n",
       "      <td>0.000000e+00</td>\n",
       "    </tr>\n",
       "    <tr>\n",
       "      <th>C(medium, Sum)</th>\n",
       "      <td>0.036414</td>\n",
       "      <td>1.0</td>\n",
       "      <td>0.530727</td>\n",
       "      <td>4.664617e-01</td>\n",
       "    </tr>\n",
       "    <tr>\n",
       "      <th>C(time, Sum)</th>\n",
       "      <td>7.983155</td>\n",
       "      <td>1.0</td>\n",
       "      <td>116.353662</td>\n",
       "      <td>8.155800e-26</td>\n",
       "    </tr>\n",
       "    <tr>\n",
       "      <th>C(medium, Sum):C(time, Sum)</th>\n",
       "      <td>0.023598</td>\n",
       "      <td>1.0</td>\n",
       "      <td>0.343943</td>\n",
       "      <td>5.576868e-01</td>\n",
       "    </tr>\n",
       "    <tr>\n",
       "      <th>Residual</th>\n",
       "      <td>72.933620</td>\n",
       "      <td>1063.0</td>\n",
       "      <td>NaN</td>\n",
       "      <td>NaN</td>\n",
       "    </tr>\n",
       "  </tbody>\n",
       "</table>\n",
       "</div>"
      ],
      "text/plain": [
       "                                 sum_sq      df            F        PR(>F)\n",
       "Intercept                    307.249652     1.0  4478.132028  0.000000e+00\n",
       "C(medium, Sum)                 0.036414     1.0     0.530727  4.664617e-01\n",
       "C(time, Sum)                   7.983155     1.0   116.353662  8.155800e-26\n",
       "C(medium, Sum):C(time, Sum)    0.023598     1.0     0.343943  5.576868e-01\n",
       "Residual                      72.933620  1063.0          NaN           NaN"
      ]
     },
     "execution_count": 95,
     "metadata": {},
     "output_type": "execute_result"
    }
   ],
   "source": [
    "bouts_hz_model = ols(formula='bouts_Hz ~ C(medium, Sum) + C(time, Sum) + C(medium, Sum):C(time, Sum)'\\\n",
    "                       ,data=full_fish_list).fit()\n",
    "anova_table_bouts_hz = sm.stats.anova_lm(bouts_hz_model, typ=3)\n",
    "anova_table_bouts_hz"
   ]
  },
  {
   "cell_type": "code",
   "execution_count": 96,
   "id": "974f0c4a",
   "metadata": {},
   "outputs": [
    {
     "data": {
      "text/html": [
       "<div>\n",
       "<style scoped>\n",
       "    .dataframe tbody tr th:only-of-type {\n",
       "        vertical-align: middle;\n",
       "    }\n",
       "\n",
       "    .dataframe tbody tr th {\n",
       "        vertical-align: top;\n",
       "    }\n",
       "\n",
       "    .dataframe thead th {\n",
       "        text-align: right;\n",
       "    }\n",
       "</style>\n",
       "<table border=\"1\" class=\"dataframe\">\n",
       "  <thead>\n",
       "    <tr style=\"text-align: right;\">\n",
       "      <th></th>\n",
       "      <th>Source</th>\n",
       "      <th>ddof1</th>\n",
       "      <th>ddof2</th>\n",
       "      <th>F</th>\n",
       "      <th>p-unc</th>\n",
       "      <th>np2</th>\n",
       "    </tr>\n",
       "  </thead>\n",
       "  <tbody>\n",
       "    <tr>\n",
       "      <th>0</th>\n",
       "      <td>medium</td>\n",
       "      <td>1</td>\n",
       "      <td>1022.239316</td>\n",
       "      <td>0.3891</td>\n",
       "      <td>0.532912</td>\n",
       "      <td>0.000369</td>\n",
       "    </tr>\n",
       "  </tbody>\n",
       "</table>\n",
       "</div>"
      ],
      "text/plain": [
       "   Source  ddof1        ddof2       F     p-unc       np2\n",
       "0  medium      1  1022.239316  0.3891  0.532912  0.000369"
      ]
     },
     "execution_count": 96,
     "metadata": {},
     "output_type": "execute_result"
    }
   ],
   "source": [
    "pg.welch_anova(data=full_fish_list,dv='bouts_Hz',between='medium')"
   ]
  },
  {
   "cell_type": "code",
   "execution_count": 99,
   "id": "95fef765",
   "metadata": {},
   "outputs": [
    {
     "name": "stderr",
     "output_type": "stream",
     "text": [
      "/var/folders/wd/4w68b8ld47x6kzpx1zhzn8qm0000gn/T/ipykernel_59186/2564504509.py:1: SettingWithCopyWarning: \n",
      "A value is trying to be set on a copy of a slice from a DataFrame.\n",
      "Try using .loc[row_indexer,col_indexer] = value instead\n",
      "\n",
      "See the caveats in the documentation: https://pandas.pydata.org/pandas-docs/stable/user_guide/indexing.html#returning-a-view-versus-a-copy\n",
      "  am_fish_list['bouts_Hz'] = pd.to_numeric(am_fish_list['bouts_Hz'])\n",
      "/var/folders/wd/4w68b8ld47x6kzpx1zhzn8qm0000gn/T/ipykernel_59186/2564504509.py:2: SettingWithCopyWarning: \n",
      "A value is trying to be set on a copy of a slice from a DataFrame.\n",
      "Try using .loc[row_indexer,col_indexer] = value instead\n",
      "\n",
      "See the caveats in the documentation: https://pandas.pydata.org/pandas-docs/stable/user_guide/indexing.html#returning-a-view-versus-a-copy\n",
      "  pm_fish_list['bouts_Hz'] = pd.to_numeric(pm_fish_list['bouts_Hz'])\n"
     ]
    }
   ],
   "source": [
    "am_fish_list['bouts_Hz'] = pd.to_numeric(am_fish_list['bouts_Hz'])\n",
    "pm_fish_list['bouts_Hz'] = pd.to_numeric(pm_fish_list['bouts_Hz'])"
   ]
  },
  {
   "cell_type": "code",
   "execution_count": 100,
   "id": "30e9770d",
   "metadata": {},
   "outputs": [
    {
     "data": {
      "text/html": [
       "<div>\n",
       "<style scoped>\n",
       "    .dataframe tbody tr th:only-of-type {\n",
       "        vertical-align: middle;\n",
       "    }\n",
       "\n",
       "    .dataframe tbody tr th {\n",
       "        vertical-align: top;\n",
       "    }\n",
       "\n",
       "    .dataframe thead th {\n",
       "        text-align: right;\n",
       "    }\n",
       "</style>\n",
       "<table border=\"1\" class=\"dataframe\">\n",
       "  <thead>\n",
       "    <tr style=\"text-align: right;\">\n",
       "      <th></th>\n",
       "      <th>Source</th>\n",
       "      <th>ddof1</th>\n",
       "      <th>ddof2</th>\n",
       "      <th>F</th>\n",
       "      <th>p-unc</th>\n",
       "      <th>np2</th>\n",
       "    </tr>\n",
       "  </thead>\n",
       "  <tbody>\n",
       "    <tr>\n",
       "      <th>0</th>\n",
       "      <td>medium</td>\n",
       "      <td>1</td>\n",
       "      <td>383.250811</td>\n",
       "      <td>0.850709</td>\n",
       "      <td>0.356932</td>\n",
       "      <td>0.002189</td>\n",
       "    </tr>\n",
       "  </tbody>\n",
       "</table>\n",
       "</div>"
      ],
      "text/plain": [
       "   Source  ddof1       ddof2         F     p-unc       np2\n",
       "0  medium      1  383.250811  0.850709  0.356932  0.002189"
      ]
     },
     "execution_count": 100,
     "metadata": {},
     "output_type": "execute_result"
    }
   ],
   "source": [
    "pg.welch_anova(data=am_fish_list,dv='bouts_Hz',between='medium')"
   ]
  },
  {
   "cell_type": "code",
   "execution_count": 101,
   "id": "44347363",
   "metadata": {},
   "outputs": [
    {
     "data": {
      "text/html": [
       "<div>\n",
       "<style scoped>\n",
       "    .dataframe tbody tr th:only-of-type {\n",
       "        vertical-align: middle;\n",
       "    }\n",
       "\n",
       "    .dataframe tbody tr th {\n",
       "        vertical-align: top;\n",
       "    }\n",
       "\n",
       "    .dataframe thead th {\n",
       "        text-align: right;\n",
       "    }\n",
       "</style>\n",
       "<table border=\"1\" class=\"dataframe\">\n",
       "  <thead>\n",
       "    <tr style=\"text-align: right;\">\n",
       "      <th></th>\n",
       "      <th>Source</th>\n",
       "      <th>ddof1</th>\n",
       "      <th>ddof2</th>\n",
       "      <th>F</th>\n",
       "      <th>p-unc</th>\n",
       "      <th>np2</th>\n",
       "    </tr>\n",
       "  </thead>\n",
       "  <tbody>\n",
       "    <tr>\n",
       "      <th>0</th>\n",
       "      <td>medium</td>\n",
       "      <td>1</td>\n",
       "      <td>637.063704</td>\n",
       "      <td>0.012152</td>\n",
       "      <td>0.912255</td>\n",
       "      <td>0.000018</td>\n",
       "    </tr>\n",
       "  </tbody>\n",
       "</table>\n",
       "</div>"
      ],
      "text/plain": [
       "   Source  ddof1       ddof2         F     p-unc       np2\n",
       "0  medium      1  637.063704  0.012152  0.912255  0.000018"
      ]
     },
     "execution_count": 101,
     "metadata": {},
     "output_type": "execute_result"
    }
   ],
   "source": [
    "pg.welch_anova(data=pm_fish_list,dv='bouts_Hz',between='medium')"
   ]
  },
  {
   "cell_type": "code",
   "execution_count": 102,
   "id": "e7ac1771",
   "metadata": {},
   "outputs": [
    {
     "data": {
      "text/html": [
       "<div>\n",
       "<style scoped>\n",
       "    .dataframe tbody tr th:only-of-type {\n",
       "        vertical-align: middle;\n",
       "    }\n",
       "\n",
       "    .dataframe tbody tr th {\n",
       "        vertical-align: top;\n",
       "    }\n",
       "\n",
       "    .dataframe thead th {\n",
       "        text-align: right;\n",
       "    }\n",
       "</style>\n",
       "<table border=\"1\" class=\"dataframe\">\n",
       "  <thead>\n",
       "    <tr style=\"text-align: right;\">\n",
       "      <th></th>\n",
       "      <th>sum_sq</th>\n",
       "      <th>df</th>\n",
       "      <th>F</th>\n",
       "      <th>PR(&gt;F)</th>\n",
       "    </tr>\n",
       "  </thead>\n",
       "  <tbody>\n",
       "    <tr>\n",
       "      <th>Intercept</th>\n",
       "      <td>85.344911</td>\n",
       "      <td>1.0</td>\n",
       "      <td>1554.906649</td>\n",
       "      <td>5.658813e-138</td>\n",
       "    </tr>\n",
       "    <tr>\n",
       "      <th>C(medium, Sum)</th>\n",
       "      <td>0.046837</td>\n",
       "      <td>1.0</td>\n",
       "      <td>0.853331</td>\n",
       "      <td>3.561843e-01</td>\n",
       "    </tr>\n",
       "    <tr>\n",
       "      <th>Residual</th>\n",
       "      <td>21.351230</td>\n",
       "      <td>389.0</td>\n",
       "      <td>NaN</td>\n",
       "      <td>NaN</td>\n",
       "    </tr>\n",
       "  </tbody>\n",
       "</table>\n",
       "</div>"
      ],
      "text/plain": [
       "                   sum_sq     df            F         PR(>F)\n",
       "Intercept       85.344911    1.0  1554.906649  5.658813e-138\n",
       "C(medium, Sum)   0.046837    1.0     0.853331   3.561843e-01\n",
       "Residual        21.351230  389.0          NaN            NaN"
      ]
     },
     "execution_count": 102,
     "metadata": {},
     "output_type": "execute_result"
    }
   ],
   "source": [
    "am_bouts_hz_model = ols(formula='bouts_Hz ~ C(medium,Sum)' ,data=am_fish_list).fit()\n",
    "am_anova_table_bouts_hz = sm.stats.anova_lm(am_bouts_hz_model, typ=3)\n",
    "am_anova_table_bouts_hz"
   ]
  },
  {
   "cell_type": "code",
   "execution_count": 103,
   "id": "7c26f5ca",
   "metadata": {},
   "outputs": [
    {
     "data": {
      "text/html": [
       "<div>\n",
       "<style scoped>\n",
       "    .dataframe tbody tr th:only-of-type {\n",
       "        vertical-align: middle;\n",
       "    }\n",
       "\n",
       "    .dataframe tbody tr th {\n",
       "        vertical-align: top;\n",
       "    }\n",
       "\n",
       "    .dataframe thead th {\n",
       "        text-align: right;\n",
       "    }\n",
       "</style>\n",
       "<table border=\"1\" class=\"dataframe\">\n",
       "  <thead>\n",
       "    <tr style=\"text-align: right;\">\n",
       "      <th></th>\n",
       "      <th>sum_sq</th>\n",
       "      <th>df</th>\n",
       "      <th>F</th>\n",
       "      <th>PR(&gt;F)</th>\n",
       "    </tr>\n",
       "  </thead>\n",
       "  <tbody>\n",
       "    <tr>\n",
       "      <th>Intercept</th>\n",
       "      <td>282.407676</td>\n",
       "      <td>1.0</td>\n",
       "      <td>3690.072812</td>\n",
       "      <td>1.375769e-275</td>\n",
       "    </tr>\n",
       "    <tr>\n",
       "      <th>C(medium, Sum)</th>\n",
       "      <td>0.000944</td>\n",
       "      <td>1.0</td>\n",
       "      <td>0.012330</td>\n",
       "      <td>9.116158e-01</td>\n",
       "    </tr>\n",
       "    <tr>\n",
       "      <th>Residual</th>\n",
       "      <td>51.582390</td>\n",
       "      <td>674.0</td>\n",
       "      <td>NaN</td>\n",
       "      <td>NaN</td>\n",
       "    </tr>\n",
       "  </tbody>\n",
       "</table>\n",
       "</div>"
      ],
      "text/plain": [
       "                    sum_sq     df            F         PR(>F)\n",
       "Intercept       282.407676    1.0  3690.072812  1.375769e-275\n",
       "C(medium, Sum)    0.000944    1.0     0.012330   9.116158e-01\n",
       "Residual         51.582390  674.0          NaN            NaN"
      ]
     },
     "execution_count": 103,
     "metadata": {},
     "output_type": "execute_result"
    }
   ],
   "source": [
    "pm_bouts_hz_model = ols(formula='bouts_Hz ~ C(medium,Sum)' ,data=pm_fish_list).fit()\n",
    "pm_anova_table_bouts_hz = sm.stats.anova_lm(pm_bouts_hz_model, typ=3)\n",
    "pm_anova_table_bouts_hz"
   ]
  },
  {
   "cell_type": "code",
   "execution_count": 104,
   "id": "4c09d3f1",
   "metadata": {},
   "outputs": [
    {
     "data": {
      "text/html": [
       "<div>\n",
       "<style scoped>\n",
       "    .dataframe tbody tr th:only-of-type {\n",
       "        vertical-align: middle;\n",
       "    }\n",
       "\n",
       "    .dataframe tbody tr th {\n",
       "        vertical-align: top;\n",
       "    }\n",
       "\n",
       "    .dataframe thead th {\n",
       "        text-align: right;\n",
       "    }\n",
       "</style>\n",
       "<table border=\"1\" class=\"dataframe\">\n",
       "  <thead>\n",
       "    <tr style=\"text-align: right;\">\n",
       "      <th></th>\n",
       "      <th>sum_sq</th>\n",
       "      <th>df</th>\n",
       "      <th>F</th>\n",
       "      <th>PR(&gt;F)</th>\n",
       "    </tr>\n",
       "  </thead>\n",
       "  <tbody>\n",
       "    <tr>\n",
       "      <th>Intercept</th>\n",
       "      <td>2325.314251</td>\n",
       "      <td>1.0</td>\n",
       "      <td>975.973147</td>\n",
       "      <td>1.088912e-151</td>\n",
       "    </tr>\n",
       "    <tr>\n",
       "      <th>C(medium, Sum)</th>\n",
       "      <td>25.039919</td>\n",
       "      <td>1.0</td>\n",
       "      <td>10.509671</td>\n",
       "      <td>1.225196e-03</td>\n",
       "    </tr>\n",
       "    <tr>\n",
       "      <th>C(time, Sum)</th>\n",
       "      <td>61.756659</td>\n",
       "      <td>1.0</td>\n",
       "      <td>25.920299</td>\n",
       "      <td>4.220932e-07</td>\n",
       "    </tr>\n",
       "    <tr>\n",
       "      <th>C(medium, Sum):C(time, Sum)</th>\n",
       "      <td>3.671997</td>\n",
       "      <td>1.0</td>\n",
       "      <td>1.541198</td>\n",
       "      <td>2.147192e-01</td>\n",
       "    </tr>\n",
       "    <tr>\n",
       "      <th>Residual</th>\n",
       "      <td>2480.244608</td>\n",
       "      <td>1041.0</td>\n",
       "      <td>NaN</td>\n",
       "      <td>NaN</td>\n",
       "    </tr>\n",
       "  </tbody>\n",
       "</table>\n",
       "</div>"
      ],
      "text/plain": [
       "                                  sum_sq      df           F         PR(>F)\n",
       "Intercept                    2325.314251     1.0  975.973147  1.088912e-151\n",
       "C(medium, Sum)                 25.039919     1.0   10.509671   1.225196e-03\n",
       "C(time, Sum)                   61.756659     1.0   25.920299   4.220932e-07\n",
       "C(medium, Sum):C(time, Sum)     3.671997     1.0    1.541198   2.147192e-01\n",
       "Residual                     2480.244608  1041.0         NaN            NaN"
      ]
     },
     "execution_count": 104,
     "metadata": {},
     "output_type": "execute_result"
    }
   ],
   "source": [
    "latency_model = ols(formula='latency_avg ~ C(medium, Sum) + C(time, Sum) + C(medium, Sum):C(time, Sum)'\\\n",
    "                       ,data=full_fish_list).fit()\n",
    "anova_table_latency = sm.stats.anova_lm(latency_model, typ=3)\n",
    "anova_table_latency"
   ]
  },
  {
   "cell_type": "code",
   "execution_count": 105,
   "id": "9a768978",
   "metadata": {},
   "outputs": [
    {
     "data": {
      "text/html": [
       "<div>\n",
       "<style scoped>\n",
       "    .dataframe tbody tr th:only-of-type {\n",
       "        vertical-align: middle;\n",
       "    }\n",
       "\n",
       "    .dataframe tbody tr th {\n",
       "        vertical-align: top;\n",
       "    }\n",
       "\n",
       "    .dataframe thead th {\n",
       "        text-align: right;\n",
       "    }\n",
       "</style>\n",
       "<table border=\"1\" class=\"dataframe\">\n",
       "  <thead>\n",
       "    <tr style=\"text-align: right;\">\n",
       "      <th></th>\n",
       "      <th>sum_sq</th>\n",
       "      <th>df</th>\n",
       "      <th>F</th>\n",
       "      <th>PR(&gt;F)</th>\n",
       "    </tr>\n",
       "  </thead>\n",
       "  <tbody>\n",
       "    <tr>\n",
       "      <th>Intercept</th>\n",
       "      <td>2.659981e+06</td>\n",
       "      <td>1.0</td>\n",
       "      <td>574.747812</td>\n",
       "      <td>7.003900e-102</td>\n",
       "    </tr>\n",
       "    <tr>\n",
       "      <th>C(medium, Sum)</th>\n",
       "      <td>6.651750e+02</td>\n",
       "      <td>1.0</td>\n",
       "      <td>0.143726</td>\n",
       "      <td>7.046805e-01</td>\n",
       "    </tr>\n",
       "    <tr>\n",
       "      <th>C(time, Sum)</th>\n",
       "      <td>3.720673e+03</td>\n",
       "      <td>1.0</td>\n",
       "      <td>0.803934</td>\n",
       "      <td>3.701228e-01</td>\n",
       "    </tr>\n",
       "    <tr>\n",
       "      <th>C(medium, Sum):C(time, Sum)</th>\n",
       "      <td>2.510556e+03</td>\n",
       "      <td>1.0</td>\n",
       "      <td>0.542461</td>\n",
       "      <td>4.615770e-01</td>\n",
       "    </tr>\n",
       "    <tr>\n",
       "      <th>Residual</th>\n",
       "      <td>4.919653e+06</td>\n",
       "      <td>1063.0</td>\n",
       "      <td>NaN</td>\n",
       "      <td>NaN</td>\n",
       "    </tr>\n",
       "  </tbody>\n",
       "</table>\n",
       "</div>"
      ],
      "text/plain": [
       "                                   sum_sq      df           F         PR(>F)\n",
       "Intercept                    2.659981e+06     1.0  574.747812  7.003900e-102\n",
       "C(medium, Sum)               6.651750e+02     1.0    0.143726   7.046805e-01\n",
       "C(time, Sum)                 3.720673e+03     1.0    0.803934   3.701228e-01\n",
       "C(medium, Sum):C(time, Sum)  2.510556e+03     1.0    0.542461   4.615770e-01\n",
       "Residual                     4.919653e+06  1063.0         NaN            NaN"
      ]
     },
     "execution_count": 105,
     "metadata": {},
     "output_type": "execute_result"
    }
   ],
   "source": [
    "distance_avg_model = ols(formula='distance_avg ~ C(medium, Sum) + C(time, Sum) + C(medium, Sum):C(time, Sum)'\\\n",
    "                       ,data=full_fish_list).fit()\n",
    "anova_table_distance_avg = sm.stats.anova_lm(distance_avg_model, typ=3)\n",
    "anova_table_distance_avg"
   ]
  },
  {
   "cell_type": "code",
   "execution_count": 106,
   "id": "c0ab6803",
   "metadata": {},
   "outputs": [
    {
     "data": {
      "text/html": [
       "<div>\n",
       "<style scoped>\n",
       "    .dataframe tbody tr th:only-of-type {\n",
       "        vertical-align: middle;\n",
       "    }\n",
       "\n",
       "    .dataframe tbody tr th {\n",
       "        vertical-align: top;\n",
       "    }\n",
       "\n",
       "    .dataframe thead th {\n",
       "        text-align: right;\n",
       "    }\n",
       "</style>\n",
       "<table border=\"1\" class=\"dataframe\">\n",
       "  <thead>\n",
       "    <tr style=\"text-align: right;\">\n",
       "      <th></th>\n",
       "      <th>sum_sq</th>\n",
       "      <th>df</th>\n",
       "      <th>F</th>\n",
       "      <th>PR(&gt;F)</th>\n",
       "    </tr>\n",
       "  </thead>\n",
       "  <tbody>\n",
       "    <tr>\n",
       "      <th>Intercept</th>\n",
       "      <td>7.509013e+08</td>\n",
       "      <td>1.0</td>\n",
       "      <td>1734.675615</td>\n",
       "      <td>1.323567e-225</td>\n",
       "    </tr>\n",
       "    <tr>\n",
       "      <th>C(medium, Sum)</th>\n",
       "      <td>1.743463e+05</td>\n",
       "      <td>1.0</td>\n",
       "      <td>0.402762</td>\n",
       "      <td>5.258030e-01</td>\n",
       "    </tr>\n",
       "    <tr>\n",
       "      <th>C(time, Sum)</th>\n",
       "      <td>2.199265e+07</td>\n",
       "      <td>1.0</td>\n",
       "      <td>50.805754</td>\n",
       "      <td>1.879635e-12</td>\n",
       "    </tr>\n",
       "    <tr>\n",
       "      <th>C(medium, Sum):C(time, Sum)</th>\n",
       "      <td>3.153973e+02</td>\n",
       "      <td>1.0</td>\n",
       "      <td>0.000729</td>\n",
       "      <td>9.784706e-01</td>\n",
       "    </tr>\n",
       "    <tr>\n",
       "      <th>Residual</th>\n",
       "      <td>4.601483e+08</td>\n",
       "      <td>1063.0</td>\n",
       "      <td>NaN</td>\n",
       "      <td>NaN</td>\n",
       "    </tr>\n",
       "  </tbody>\n",
       "</table>\n",
       "</div>"
      ],
      "text/plain": [
       "                                   sum_sq      df            F         PR(>F)\n",
       "Intercept                    7.509013e+08     1.0  1734.675615  1.323567e-225\n",
       "C(medium, Sum)               1.743463e+05     1.0     0.402762   5.258030e-01\n",
       "C(time, Sum)                 2.199265e+07     1.0    50.805754   1.879635e-12\n",
       "C(medium, Sum):C(time, Sum)  3.153973e+02     1.0     0.000729   9.784706e-01\n",
       "Residual                     4.601483e+08  1063.0          NaN            NaN"
      ]
     },
     "execution_count": 106,
     "metadata": {},
     "output_type": "execute_result"
    }
   ],
   "source": [
    "distance_total_model = ols(formula='total_distance ~ C(medium, Sum) + C(time, Sum) + C(medium, Sum):C(time, Sum)'\\\n",
    "                       ,data=full_fish_list).fit()\n",
    "anova_table_distance_total = sm.stats.anova_lm(distance_total_model, typ=3)\n",
    "anova_table_distance_total"
   ]
  },
  {
   "cell_type": "code",
   "execution_count": 107,
   "id": "f193880c",
   "metadata": {},
   "outputs": [
    {
     "data": {
      "text/html": [
       "<div>\n",
       "<style scoped>\n",
       "    .dataframe tbody tr th:only-of-type {\n",
       "        vertical-align: middle;\n",
       "    }\n",
       "\n",
       "    .dataframe tbody tr th {\n",
       "        vertical-align: top;\n",
       "    }\n",
       "\n",
       "    .dataframe thead th {\n",
       "        text-align: right;\n",
       "    }\n",
       "</style>\n",
       "<table border=\"1\" class=\"dataframe\">\n",
       "  <thead>\n",
       "    <tr style=\"text-align: right;\">\n",
       "      <th></th>\n",
       "      <th>sum_sq</th>\n",
       "      <th>df</th>\n",
       "      <th>F</th>\n",
       "      <th>PR(&gt;F)</th>\n",
       "    </tr>\n",
       "  </thead>\n",
       "  <tbody>\n",
       "    <tr>\n",
       "      <th>Intercept</th>\n",
       "      <td>154.112298</td>\n",
       "      <td>1.0</td>\n",
       "      <td>52970.360649</td>\n",
       "      <td>0.000000</td>\n",
       "    </tr>\n",
       "    <tr>\n",
       "      <th>C(medium, Sum)</th>\n",
       "      <td>0.047996</td>\n",
       "      <td>1.0</td>\n",
       "      <td>16.496964</td>\n",
       "      <td>0.000052</td>\n",
       "    </tr>\n",
       "    <tr>\n",
       "      <th>C(time, Sum)</th>\n",
       "      <td>0.022954</td>\n",
       "      <td>1.0</td>\n",
       "      <td>7.889451</td>\n",
       "      <td>0.005063</td>\n",
       "    </tr>\n",
       "    <tr>\n",
       "      <th>C(medium, Sum):C(time, Sum)</th>\n",
       "      <td>0.003713</td>\n",
       "      <td>1.0</td>\n",
       "      <td>1.276197</td>\n",
       "      <td>0.258862</td>\n",
       "    </tr>\n",
       "    <tr>\n",
       "      <th>Residual</th>\n",
       "      <td>3.092699</td>\n",
       "      <td>1063.0</td>\n",
       "      <td>NaN</td>\n",
       "      <td>NaN</td>\n",
       "    </tr>\n",
       "  </tbody>\n",
       "</table>\n",
       "</div>"
      ],
      "text/plain": [
       "                                 sum_sq      df             F    PR(>F)\n",
       "Intercept                    154.112298     1.0  52970.360649  0.000000\n",
       "C(medium, Sum)                 0.047996     1.0     16.496964  0.000052\n",
       "C(time, Sum)                   0.022954     1.0      7.889451  0.005063\n",
       "C(medium, Sum):C(time, Sum)    0.003713     1.0      1.276197  0.258862\n",
       "Residual                       3.092699  1063.0           NaN       NaN"
      ]
     },
     "execution_count": 107,
     "metadata": {},
     "output_type": "execute_result"
    }
   ],
   "source": [
    "duration_model = ols(formula='duration_avg ~ C(medium, Sum) + C(time, Sum) + C(medium, Sum):C(time, Sum)'\\\n",
    "                       ,data=full_fish_list).fit()\n",
    "anova_table_duration = sm.stats.anova_lm(duration_model, typ=3)\n",
    "anova_table_duration"
   ]
  },
  {
   "cell_type": "code",
   "execution_count": 131,
   "id": "5deae91b",
   "metadata": {},
   "outputs": [
    {
     "name": "stderr",
     "output_type": "stream",
     "text": [
      "/var/folders/wd/4w68b8ld47x6kzpx1zhzn8qm0000gn/T/ipykernel_59186/3770950108.py:1: SettingWithCopyWarning: \n",
      "A value is trying to be set on a copy of a slice from a DataFrame.\n",
      "Try using .loc[row_indexer,col_indexer] = value instead\n",
      "\n",
      "See the caveats in the documentation: https://pandas.pydata.org/pandas-docs/stable/user_guide/indexing.html#returning-a-view-versus-a-copy\n",
      "  am_fish_list['duration_avg'] = pd.to_numeric(am_fish_list['duration_avg'])\n",
      "/var/folders/wd/4w68b8ld47x6kzpx1zhzn8qm0000gn/T/ipykernel_59186/3770950108.py:2: SettingWithCopyWarning: \n",
      "A value is trying to be set on a copy of a slice from a DataFrame.\n",
      "Try using .loc[row_indexer,col_indexer] = value instead\n",
      "\n",
      "See the caveats in the documentation: https://pandas.pydata.org/pandas-docs/stable/user_guide/indexing.html#returning-a-view-versus-a-copy\n",
      "  pm_fish_list['duration_avg'] = pd.to_numeric(pm_fish_list['duration_avg'])\n"
     ]
    }
   ],
   "source": [
    "am_fish_list['duration_avg'] = pd.to_numeric(am_fish_list['duration_avg'])\n",
    "pm_fish_list['duration_avg'] = pd.to_numeric(pm_fish_list['duration_avg'])"
   ]
  },
  {
   "cell_type": "code",
   "execution_count": 133,
   "id": "f8b9dc93",
   "metadata": {},
   "outputs": [
    {
     "data": {
      "text/html": [
       "<div>\n",
       "<style scoped>\n",
       "    .dataframe tbody tr th:only-of-type {\n",
       "        vertical-align: middle;\n",
       "    }\n",
       "\n",
       "    .dataframe tbody tr th {\n",
       "        vertical-align: top;\n",
       "    }\n",
       "\n",
       "    .dataframe thead th {\n",
       "        text-align: right;\n",
       "    }\n",
       "</style>\n",
       "<table border=\"1\" class=\"dataframe\">\n",
       "  <thead>\n",
       "    <tr style=\"text-align: right;\">\n",
       "      <th></th>\n",
       "      <th>sum_sq</th>\n",
       "      <th>df</th>\n",
       "      <th>F</th>\n",
       "      <th>PR(&gt;F)</th>\n",
       "    </tr>\n",
       "  </thead>\n",
       "  <tbody>\n",
       "    <tr>\n",
       "      <th>Intercept</th>\n",
       "      <td>62.335275</td>\n",
       "      <td>1.0</td>\n",
       "      <td>15557.848132</td>\n",
       "      <td>8.648854e-316</td>\n",
       "    </tr>\n",
       "    <tr>\n",
       "      <th>C(medium, Sum)</th>\n",
       "      <td>0.030954</td>\n",
       "      <td>1.0</td>\n",
       "      <td>7.725710</td>\n",
       "      <td>5.708214e-03</td>\n",
       "    </tr>\n",
       "    <tr>\n",
       "      <th>Residual</th>\n",
       "      <td>1.558597</td>\n",
       "      <td>389.0</td>\n",
       "      <td>NaN</td>\n",
       "      <td>NaN</td>\n",
       "    </tr>\n",
       "  </tbody>\n",
       "</table>\n",
       "</div>"
      ],
      "text/plain": [
       "                   sum_sq     df             F         PR(>F)\n",
       "Intercept       62.335275    1.0  15557.848132  8.648854e-316\n",
       "C(medium, Sum)   0.030954    1.0      7.725710   5.708214e-03\n",
       "Residual         1.558597  389.0           NaN            NaN"
      ]
     },
     "execution_count": 133,
     "metadata": {},
     "output_type": "execute_result"
    }
   ],
   "source": [
    "am_duration_model = ols(formula='duration_avg ~ C(medium, Sum)'\\\n",
    "                       ,data=am_fish_list).fit()\n",
    "am_anova_table_duration = sm.stats.anova_lm(am_duration_model, typ=3)\n",
    "am_anova_table_duration"
   ]
  },
  {
   "cell_type": "code",
   "execution_count": 134,
   "id": "714c416d",
   "metadata": {},
   "outputs": [
    {
     "data": {
      "text/html": [
       "<div>\n",
       "<style scoped>\n",
       "    .dataframe tbody tr th:only-of-type {\n",
       "        vertical-align: middle;\n",
       "    }\n",
       "\n",
       "    .dataframe tbody tr th {\n",
       "        vertical-align: top;\n",
       "    }\n",
       "\n",
       "    .dataframe thead th {\n",
       "        text-align: right;\n",
       "    }\n",
       "</style>\n",
       "<table border=\"1\" class=\"dataframe\">\n",
       "  <thead>\n",
       "    <tr style=\"text-align: right;\">\n",
       "      <th></th>\n",
       "      <th>sum_sq</th>\n",
       "      <th>df</th>\n",
       "      <th>F</th>\n",
       "      <th>PR(&gt;F)</th>\n",
       "    </tr>\n",
       "  </thead>\n",
       "  <tbody>\n",
       "    <tr>\n",
       "      <th>Intercept</th>\n",
       "      <td>102.505994</td>\n",
       "      <td>1.0</td>\n",
       "      <td>45035.509932</td>\n",
       "      <td>0.000000</td>\n",
       "    </tr>\n",
       "    <tr>\n",
       "      <th>C(medium, Sum)</th>\n",
       "      <td>0.017049</td>\n",
       "      <td>1.0</td>\n",
       "      <td>7.490362</td>\n",
       "      <td>0.006366</td>\n",
       "    </tr>\n",
       "    <tr>\n",
       "      <th>Residual</th>\n",
       "      <td>1.534101</td>\n",
       "      <td>674.0</td>\n",
       "      <td>NaN</td>\n",
       "      <td>NaN</td>\n",
       "    </tr>\n",
       "  </tbody>\n",
       "</table>\n",
       "</div>"
      ],
      "text/plain": [
       "                    sum_sq     df             F    PR(>F)\n",
       "Intercept       102.505994    1.0  45035.509932  0.000000\n",
       "C(medium, Sum)    0.017049    1.0      7.490362  0.006366\n",
       "Residual          1.534101  674.0           NaN       NaN"
      ]
     },
     "execution_count": 134,
     "metadata": {},
     "output_type": "execute_result"
    }
   ],
   "source": [
    "pm_duration_model = ols(formula='duration_avg ~ C(medium, Sum)'\\\n",
    "                       ,data=pm_fish_list).fit()\n",
    "pm_anova_table_duration = sm.stats.anova_lm(pm_duration_model, typ=3)\n",
    "pm_anova_table_duration"
   ]
  },
  {
   "cell_type": "code",
   "execution_count": 135,
   "id": "718a7ceb",
   "metadata": {},
   "outputs": [
    {
     "data": {
      "text/plain": [
       "<BarContainer object of 2 artists>"
      ]
     },
     "execution_count": 135,
     "metadata": {},
     "output_type": "execute_result"
    },
    {
     "data": {
      "image/png": "[encoded data removed]",
      "text/plain": [
       "<Figure size 432x288 with 1 Axes>"
      ]
     },
     "metadata": {
      "needs_background": "light"
     },
     "output_type": "display_data"
    }
   ],
   "source": [
    "plt.bar([1,2],height=[np.mean(am_e_fish_list['duration_avg']),np.mean(am_me_fish_list['duration_avg'])])"
   ]
  },
  {
   "cell_type": "code",
   "execution_count": 137,
   "id": "cfe09390",
   "metadata": {},
   "outputs": [
    {
     "data": {
      "text/plain": [
       "0.3907528262913401"
      ]
     },
     "execution_count": 137,
     "metadata": {},
     "output_type": "execute_result"
    }
   ],
   "source": [
    "np.mean(am_e_fish_list['duration_avg'])"
   ]
  },
  {
   "cell_type": "code",
   "execution_count": 138,
   "id": "2094ab78",
   "metadata": {},
   "outputs": [
    {
     "data": {
      "text/plain": [
       "0.4085648750648562"
      ]
     },
     "execution_count": 138,
     "metadata": {},
     "output_type": "execute_result"
    }
   ],
   "source": [
    "np.mean(am_me_fish_list['duration_avg'])"
   ]
  },
  {
   "cell_type": "code",
   "execution_count": 139,
   "id": "8b57c3f5",
   "metadata": {},
   "outputs": [
    {
     "data": {
      "text/plain": [
       "F_onewayResult(statistic=7.725710276815084, pvalue=0.005708213515486395)"
      ]
     },
     "execution_count": 139,
     "metadata": {},
     "output_type": "execute_result"
    }
   ],
   "source": [
    "stats.f_oneway(am_e_fish_list['duration_avg'],am_me_fish_list['duration_avg'])"
   ]
  },
  {
   "cell_type": "code",
   "execution_count": 140,
   "id": "6d390cbf",
   "metadata": {},
   "outputs": [
    {
     "data": {
      "text/plain": [
       "Ttest_indResult(statistic=-2.7795161947388087, pvalue=0.005708213515485317)"
      ]
     },
     "execution_count": 140,
     "metadata": {},
     "output_type": "execute_result"
    }
   ],
   "source": [
    "stats.ttest_ind(am_e_fish_list['duration_avg'],am_me_fish_list['duration_avg'])"
   ]
  },
  {
   "cell_type": "code",
   "execution_count": 144,
   "id": "abd4f1fc",
   "metadata": {},
   "outputs": [
    {
     "data": {
      "text/plain": [
       "{'whiskers': [<matplotlib.lines.Line2D at 0x13a0a2b20>,\n",
       "  <matplotlib.lines.Line2D at 0x13a0a2df0>],\n",
       " 'caps': [<matplotlib.lines.Line2D at 0x13a0a2f70>,\n",
       "  <matplotlib.lines.Line2D at 0x13a0af2b0>],\n",
       " 'boxes': [<matplotlib.lines.Line2D at 0x13a0a2850>],\n",
       " 'medians': [<matplotlib.lines.Line2D at 0x13a0af580>],\n",
       " 'fliers': [<matplotlib.lines.Line2D at 0x13a0af850>],\n",
       " 'means': []}"
      ]
     },
     "execution_count": 144,
     "metadata": {},
     "output_type": "execute_result"
    },
    {
     "data": {
      "image/png": "[encoded data removed]",
      "text/plain": [
       "<Figure size 432x288 with 1 Axes>"
      ]
     },
     "metadata": {
      "needs_background": "light"
     },
     "output_type": "display_data"
    }
   ],
   "source": [
    "plt.boxplot(am_e_fish_list['duration_avg'])"
   ]
  },
  {
   "cell_type": "code",
   "execution_count": null,
   "id": "04a2de01",
   "metadata": {},
   "outputs": [],
   "source": []
  }
 ],
 "metadata": {
  "kernelspec": {
   "display_name": "Python 3 (ipykernel)",
   "language": "python",
   "name": "python3"
  },
  "language_info": {
   "codemirror_mode": {
    "name": "ipython",
    "version": 3
   },
   "file_extension": ".py",
   "mimetype": "text/x-python",
   "name": "python",
   "nbconvert_exporter": "python",
   "pygments_lexer": "ipython3",
   "version": "3.8.6"
  },
  "toc": {
   "base_numbering": 1,
   "nav_menu": {},
   "number_sections": true,
   "sideBar": true,
   "skip_h1_title": false,
   "title_cell": "Table of Contents",
   "title_sidebar": "Contents",
   "toc_cell": false,
   "toc_position": {},
   "toc_section_display": true,
   "toc_window_display": false
  }
 },
 "nbformat": 4,
 "nbformat_minor": 5
}

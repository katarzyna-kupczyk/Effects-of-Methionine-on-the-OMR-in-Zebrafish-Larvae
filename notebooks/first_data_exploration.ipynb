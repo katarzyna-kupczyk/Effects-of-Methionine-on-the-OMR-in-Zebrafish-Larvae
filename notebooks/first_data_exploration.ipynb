{
 "cells": [
  {
   "cell_type": "code",
   "execution_count": 1,
   "id": "50b12419",
   "metadata": {},
   "outputs": [],
   "source": [
    "import pandas as pd\n",
    "import numpy as np\n",
    "import matplotlib.pyplot as plt\n",
    "from scipy import interpolate"
   ]
  },
  {
   "cell_type": "code",
   "execution_count": 43,
   "id": "73ada9c2",
   "metadata": {},
   "outputs": [
    {
     "data": {
      "text/html": [
       "<div>\n",
       "<style scoped>\n",
       "    .dataframe tbody tr th:only-of-type {\n",
       "        vertical-align: middle;\n",
       "    }\n",
       "\n",
       "    .dataframe tbody tr th {\n",
       "        vertical-align: top;\n",
       "    }\n",
       "\n",
       "    .dataframe thead th {\n",
       "        text-align: right;\n",
       "    }\n",
       "</style>\n",
       "<table border=\"1\" class=\"dataframe\">\n",
       "  <thead>\n",
       "    <tr style=\"text-align: right;\">\n",
       "      <th></th>\n",
       "      <th>Item1.Item1</th>\n",
       "      <th>Item1.Item2</th>\n",
       "      <th>Item1.Item3</th>\n",
       "      <th>Item1.Item4</th>\n",
       "      <th>Item1.Item5.Item1</th>\n",
       "      <th>Item1.Item5.Item2</th>\n",
       "      <th>Item1.Item5.Item3</th>\n",
       "      <th>Item1.Item6</th>\n",
       "      <th>Item2.Item1</th>\n",
       "      <th>Item2.Item2</th>\n",
       "    </tr>\n",
       "  </thead>\n",
       "  <tbody>\n",
       "    <tr>\n",
       "      <th>0</th>\n",
       "      <td>892.4875</td>\n",
       "      <td>267.6579</td>\n",
       "      <td>2.699531</td>\n",
       "      <td>2.699531</td>\n",
       "      <td>130.0</td>\n",
       "      <td>4.830271</td>\n",
       "      <td>True</td>\n",
       "      <td>5</td>\n",
       "      <td>1.0</td>\n",
       "      <td>2</td>\n",
       "    </tr>\n",
       "    <tr>\n",
       "      <th>1</th>\n",
       "      <td>892.5435</td>\n",
       "      <td>267.6642</td>\n",
       "      <td>2.698462</td>\n",
       "      <td>2.698462</td>\n",
       "      <td>130.0</td>\n",
       "      <td>4.830271</td>\n",
       "      <td>True</td>\n",
       "      <td>9</td>\n",
       "      <td>1.0</td>\n",
       "      <td>2</td>\n",
       "    </tr>\n",
       "    <tr>\n",
       "      <th>2</th>\n",
       "      <td>892.5745</td>\n",
       "      <td>267.6212</td>\n",
       "      <td>2.695414</td>\n",
       "      <td>2.695414</td>\n",
       "      <td>65.0</td>\n",
       "      <td>10.252979</td>\n",
       "      <td>True</td>\n",
       "      <td>19</td>\n",
       "      <td>1.0</td>\n",
       "      <td>2</td>\n",
       "    </tr>\n",
       "    <tr>\n",
       "      <th>3</th>\n",
       "      <td>892.5025</td>\n",
       "      <td>267.6250</td>\n",
       "      <td>2.697424</td>\n",
       "      <td>2.697424</td>\n",
       "      <td>65.0</td>\n",
       "      <td>10.252979</td>\n",
       "      <td>True</td>\n",
       "      <td>23</td>\n",
       "      <td>1.0</td>\n",
       "      <td>2</td>\n",
       "    </tr>\n",
       "    <tr>\n",
       "      <th>4</th>\n",
       "      <td>892.5617</td>\n",
       "      <td>267.6482</td>\n",
       "      <td>2.697159</td>\n",
       "      <td>2.697159</td>\n",
       "      <td>65.0</td>\n",
       "      <td>10.252979</td>\n",
       "      <td>True</td>\n",
       "      <td>26</td>\n",
       "      <td>1.0</td>\n",
       "      <td>2</td>\n",
       "    </tr>\n",
       "  </tbody>\n",
       "</table>\n",
       "</div>"
      ],
      "text/plain": [
       "   Item1.Item1  Item1.Item2  Item1.Item3  Item1.Item4  Item1.Item5.Item1  \\\n",
       "0     892.4875     267.6579     2.699531     2.699531              130.0   \n",
       "1     892.5435     267.6642     2.698462     2.698462              130.0   \n",
       "2     892.5745     267.6212     2.695414     2.695414               65.0   \n",
       "3     892.5025     267.6250     2.697424     2.697424               65.0   \n",
       "4     892.5617     267.6482     2.697159     2.697159               65.0   \n",
       "\n",
       "   Item1.Item5.Item2  Item1.Item5.Item3  Item1.Item6  Item2.Item1  Item2.Item2  \n",
       "0           4.830271               True            5          1.0            2  \n",
       "1           4.830271               True            9          1.0            2  \n",
       "2          10.252979               True           19          1.0            2  \n",
       "3          10.252979               True           23          1.0            2  \n",
       "4          10.252979               True           26          1.0            2  "
      ]
     },
     "execution_count": 43,
     "metadata": {},
     "output_type": "execute_result"
    }
   ],
   "source": [
    "data = pd.read_csv('../raw_data/xy_hc_fai_tstp_E2_1_AM.csv')\n",
    "data.head()"
   ]
  },
  {
   "cell_type": "code",
   "execution_count": 44,
   "id": "fc11e0af",
   "metadata": {},
   "outputs": [],
   "source": [
    "data.columns = ['X_coord', 'Y_coord', 'heading_direction', \\\n",
    "                'cumulative_direction','beat_freq', 'beat_amp', \\\n",
    "                'tail_move?', 'timestamp', 'contrast_level', 'flow_direction']"
   ]
  },
  {
   "cell_type": "code",
   "execution_count": 45,
   "id": "0fb89444",
   "metadata": {
    "scrolled": true
   },
   "outputs": [
    {
     "data": {
      "text/html": [
       "<div>\n",
       "<style scoped>\n",
       "    .dataframe tbody tr th:only-of-type {\n",
       "        vertical-align: middle;\n",
       "    }\n",
       "\n",
       "    .dataframe tbody tr th {\n",
       "        vertical-align: top;\n",
       "    }\n",
       "\n",
       "    .dataframe thead th {\n",
       "        text-align: right;\n",
       "    }\n",
       "</style>\n",
       "<table border=\"1\" class=\"dataframe\">\n",
       "  <thead>\n",
       "    <tr style=\"text-align: right;\">\n",
       "      <th></th>\n",
       "      <th>X_coord</th>\n",
       "      <th>Y_coord</th>\n",
       "      <th>heading_direction</th>\n",
       "      <th>cumulative_direction</th>\n",
       "      <th>beat_freq</th>\n",
       "      <th>beat_amp</th>\n",
       "      <th>tail_move?</th>\n",
       "      <th>timestamp</th>\n",
       "      <th>contrast_level</th>\n",
       "      <th>flow_direction</th>\n",
       "    </tr>\n",
       "  </thead>\n",
       "  <tbody>\n",
       "    <tr>\n",
       "      <th>0</th>\n",
       "      <td>892.4875</td>\n",
       "      <td>267.6579</td>\n",
       "      <td>2.699531</td>\n",
       "      <td>2.699531</td>\n",
       "      <td>130.0</td>\n",
       "      <td>4.830271</td>\n",
       "      <td>True</td>\n",
       "      <td>5</td>\n",
       "      <td>1.0</td>\n",
       "      <td>2</td>\n",
       "    </tr>\n",
       "    <tr>\n",
       "      <th>1</th>\n",
       "      <td>892.5435</td>\n",
       "      <td>267.6642</td>\n",
       "      <td>2.698462</td>\n",
       "      <td>2.698462</td>\n",
       "      <td>130.0</td>\n",
       "      <td>4.830271</td>\n",
       "      <td>True</td>\n",
       "      <td>9</td>\n",
       "      <td>1.0</td>\n",
       "      <td>2</td>\n",
       "    </tr>\n",
       "    <tr>\n",
       "      <th>2</th>\n",
       "      <td>892.5745</td>\n",
       "      <td>267.6212</td>\n",
       "      <td>2.695414</td>\n",
       "      <td>2.695414</td>\n",
       "      <td>65.0</td>\n",
       "      <td>10.252979</td>\n",
       "      <td>True</td>\n",
       "      <td>19</td>\n",
       "      <td>1.0</td>\n",
       "      <td>2</td>\n",
       "    </tr>\n",
       "    <tr>\n",
       "      <th>3</th>\n",
       "      <td>892.5025</td>\n",
       "      <td>267.6250</td>\n",
       "      <td>2.697424</td>\n",
       "      <td>2.697424</td>\n",
       "      <td>65.0</td>\n",
       "      <td>10.252979</td>\n",
       "      <td>True</td>\n",
       "      <td>23</td>\n",
       "      <td>1.0</td>\n",
       "      <td>2</td>\n",
       "    </tr>\n",
       "    <tr>\n",
       "      <th>4</th>\n",
       "      <td>892.5617</td>\n",
       "      <td>267.6482</td>\n",
       "      <td>2.697159</td>\n",
       "      <td>2.697159</td>\n",
       "      <td>65.0</td>\n",
       "      <td>10.252979</td>\n",
       "      <td>True</td>\n",
       "      <td>26</td>\n",
       "      <td>1.0</td>\n",
       "      <td>2</td>\n",
       "    </tr>\n",
       "  </tbody>\n",
       "</table>\n",
       "</div>"
      ],
      "text/plain": [
       "    X_coord   Y_coord  heading_direction  cumulative_direction  beat_freq  \\\n",
       "0  892.4875  267.6579           2.699531              2.699531      130.0   \n",
       "1  892.5435  267.6642           2.698462              2.698462      130.0   \n",
       "2  892.5745  267.6212           2.695414              2.695414       65.0   \n",
       "3  892.5025  267.6250           2.697424              2.697424       65.0   \n",
       "4  892.5617  267.6482           2.697159              2.697159       65.0   \n",
       "\n",
       "    beat_amp  tail_move?  timestamp  contrast_level  flow_direction  \n",
       "0   4.830271        True          5             1.0               2  \n",
       "1   4.830271        True          9             1.0               2  \n",
       "2  10.252979        True         19             1.0               2  \n",
       "3  10.252979        True         23             1.0               2  \n",
       "4  10.252979        True         26             1.0               2  "
      ]
     },
     "execution_count": 45,
     "metadata": {},
     "output_type": "execute_result"
    }
   ],
   "source": [
    "data.head()"
   ]
  },
  {
   "cell_type": "code",
   "execution_count": 46,
   "id": "8fb11450",
   "metadata": {},
   "outputs": [
    {
     "data": {
      "text/plain": [
       "array([1.  , 0.  , 0.01, 0.1 , 0.3 , 0.5 , 0.7 , 0.2 ])"
      ]
     },
     "execution_count": 46,
     "metadata": {},
     "output_type": "execute_result"
    }
   ],
   "source": [
    "data['contrast_level'].unique()"
   ]
  },
  {
   "cell_type": "code",
   "execution_count": 47,
   "id": "25756c23",
   "metadata": {},
   "outputs": [],
   "source": [
    "def divide_data_by_flow_direction(data):\n",
    "    flow_to_right = pd.DataFrame(data[data.flow_direction == 1])\n",
    "    flow_to_left = pd.DataFrame(data[data.flow_direction == 2])\n",
    "    return flow_to_right, flow_to_left"
   ]
  },
  {
   "cell_type": "code",
   "execution_count": 48,
   "id": "d2a43669",
   "metadata": {},
   "outputs": [],
   "source": [
    "def divide_data_by_contrast(data):\n",
    "    C_0 = pd.DataFrame(data[data.contrast_level == 0])\n",
    "    C_01 = pd.DataFrame(data[data.contrast_level == 0.01])\n",
    "    C_1 = pd.DataFrame(data[data.contrast_level == 0.1])\n",
    "    C_2 = pd.DataFrame(data[data.contrast_level == 0.2])\n",
    "    C_3 = pd.DataFrame(data[data.contrast_level == 0.3])\n",
    "    C_5 = pd.DataFrame(data[data.contrast_level == 0.5])\n",
    "    C_7 = pd.DataFrame(data[data.contrast_level == 0.7])\n",
    "    C_10 = pd.DataFrame(data[data.contrast_level == 1])\n",
    "    return C_0, C_01, C_1, C_2, C_3, C_5, C_7, C_10"
   ]
  },
  {
   "cell_type": "code",
   "execution_count": 49,
   "id": "de703193",
   "metadata": {},
   "outputs": [],
   "source": [
    "flow_to_right, flow_to_left = divide_data_by_flow_direction(data)"
   ]
  },
  {
   "cell_type": "code",
   "execution_count": 50,
   "id": "f0c9ea0b",
   "metadata": {},
   "outputs": [],
   "source": [
    "C0, C01, C1, C2, C3, C5, C7, C10 = divide_data_by_contrast(flow_to_left)"
   ]
  },
  {
   "cell_type": "code",
   "execution_count": 61,
   "id": "63f75089",
   "metadata": {},
   "outputs": [
    {
     "data": {
      "text/html": [
       "<div>\n",
       "<style scoped>\n",
       "    .dataframe tbody tr th:only-of-type {\n",
       "        vertical-align: middle;\n",
       "    }\n",
       "\n",
       "    .dataframe tbody tr th {\n",
       "        vertical-align: top;\n",
       "    }\n",
       "\n",
       "    .dataframe thead th {\n",
       "        text-align: right;\n",
       "    }\n",
       "</style>\n",
       "<table border=\"1\" class=\"dataframe\">\n",
       "  <thead>\n",
       "    <tr style=\"text-align: right;\">\n",
       "      <th></th>\n",
       "      <th>X_coord</th>\n",
       "      <th>Y_coord</th>\n",
       "      <th>heading_direction</th>\n",
       "      <th>cumulative_direction</th>\n",
       "      <th>beat_freq</th>\n",
       "      <th>beat_amp</th>\n",
       "      <th>tail_move?</th>\n",
       "      <th>timestamp</th>\n",
       "      <th>contrast_level</th>\n",
       "      <th>flow_direction</th>\n",
       "    </tr>\n",
       "  </thead>\n",
       "  <tbody>\n",
       "    <tr>\n",
       "      <th>0</th>\n",
       "      <td>892.4875</td>\n",
       "      <td>267.6579</td>\n",
       "      <td>2.699531</td>\n",
       "      <td>2.699531</td>\n",
       "      <td>130.0</td>\n",
       "      <td>4.830271</td>\n",
       "      <td>True</td>\n",
       "      <td>5</td>\n",
       "      <td>1.0</td>\n",
       "      <td>2</td>\n",
       "    </tr>\n",
       "    <tr>\n",
       "      <th>1</th>\n",
       "      <td>892.5435</td>\n",
       "      <td>267.6642</td>\n",
       "      <td>2.698462</td>\n",
       "      <td>2.698462</td>\n",
       "      <td>130.0</td>\n",
       "      <td>4.830271</td>\n",
       "      <td>True</td>\n",
       "      <td>9</td>\n",
       "      <td>1.0</td>\n",
       "      <td>2</td>\n",
       "    </tr>\n",
       "    <tr>\n",
       "      <th>2</th>\n",
       "      <td>892.5745</td>\n",
       "      <td>267.6212</td>\n",
       "      <td>2.695414</td>\n",
       "      <td>2.695414</td>\n",
       "      <td>65.0</td>\n",
       "      <td>10.252979</td>\n",
       "      <td>True</td>\n",
       "      <td>19</td>\n",
       "      <td>1.0</td>\n",
       "      <td>2</td>\n",
       "    </tr>\n",
       "    <tr>\n",
       "      <th>3</th>\n",
       "      <td>892.5025</td>\n",
       "      <td>267.6250</td>\n",
       "      <td>2.697424</td>\n",
       "      <td>2.697424</td>\n",
       "      <td>65.0</td>\n",
       "      <td>10.252979</td>\n",
       "      <td>True</td>\n",
       "      <td>23</td>\n",
       "      <td>1.0</td>\n",
       "      <td>2</td>\n",
       "    </tr>\n",
       "    <tr>\n",
       "      <th>4</th>\n",
       "      <td>892.5617</td>\n",
       "      <td>267.6482</td>\n",
       "      <td>2.697159</td>\n",
       "      <td>2.697159</td>\n",
       "      <td>65.0</td>\n",
       "      <td>10.252979</td>\n",
       "      <td>True</td>\n",
       "      <td>26</td>\n",
       "      <td>1.0</td>\n",
       "      <td>2</td>\n",
       "    </tr>\n",
       "  </tbody>\n",
       "</table>\n",
       "</div>"
      ],
      "text/plain": [
       "    X_coord   Y_coord  heading_direction  cumulative_direction  beat_freq  \\\n",
       "0  892.4875  267.6579           2.699531              2.699531      130.0   \n",
       "1  892.5435  267.6642           2.698462              2.698462      130.0   \n",
       "2  892.5745  267.6212           2.695414              2.695414       65.0   \n",
       "3  892.5025  267.6250           2.697424              2.697424       65.0   \n",
       "4  892.5617  267.6482           2.697159              2.697159       65.0   \n",
       "\n",
       "    beat_amp  tail_move?  timestamp  contrast_level  flow_direction  \n",
       "0   4.830271        True          5             1.0               2  \n",
       "1   4.830271        True          9             1.0               2  \n",
       "2  10.252979        True         19             1.0               2  \n",
       "3  10.252979        True         23             1.0               2  \n",
       "4  10.252979        True         26             1.0               2  "
      ]
     },
     "execution_count": 61,
     "metadata": {},
     "output_type": "execute_result"
    }
   ],
   "source": [
    "C10.head()"
   ]
  },
  {
   "cell_type": "code",
   "execution_count": 62,
   "id": "a0396ff6",
   "metadata": {},
   "outputs": [
    {
     "data": {
      "text/plain": [
       "[<matplotlib.lines.Line2D at 0x1262511f0>]"
      ]
     },
     "execution_count": 62,
     "metadata": {},
     "output_type": "execute_result"
    },
    {
     "data": {
      "image/png": "[encoded data removed]",
      "text/plain": [
       "<Figure size 432x288 with 1 Axes>"
      ]
     },
     "metadata": {
      "needs_background": "light"
     },
     "output_type": "display_data"
    }
   ],
   "source": [
    "plt.plot(C3['timestamp'].head(100),C3['heading_direction'].head(100))"
   ]
  },
  {
   "cell_type": "code",
   "execution_count": 63,
   "id": "8b57caff",
   "metadata": {},
   "outputs": [
    {
     "data": {
      "text/plain": [
       "[<matplotlib.lines.Line2D at 0x126303a60>]"
      ]
     },
     "execution_count": 63,
     "metadata": {},
     "output_type": "execute_result"
    },
    {
     "data": {
      "image/png": "[encoded data removed]",
      "text/plain": [
       "<Figure size 432x288 with 1 Axes>"
      ]
     },
     "metadata": {
      "needs_background": "light"
     },
     "output_type": "display_data"
    }
   ],
   "source": [
    "plt.plot(C3['timestamp'].head(100),C3['cumulative_direction'].head(100))"
   ]
  },
  {
   "cell_type": "code",
   "execution_count": null,
   "id": "cac7e537",
   "metadata": {},
   "outputs": [],
   "source": []
  }
 ],
 "metadata": {
  "kernelspec": {
   "display_name": "Python 3 (ipykernel)",
   "language": "python",
   "name": "python3"
  },
  "language_info": {
   "codemirror_mode": {
    "name": "ipython",
    "version": 3
   },
   "file_extension": ".py",
   "mimetype": "text/x-python",
   "name": "python",
   "nbconvert_exporter": "python",
   "pygments_lexer": "ipython3",
   "version": "3.8.6"
  },
  "toc": {
   "base_numbering": 1,
   "nav_menu": {},
   "number_sections": true,
   "sideBar": true,
   "skip_h1_title": false,
   "title_cell": "Table of Contents",
   "title_sidebar": "Contents",
   "toc_cell": false,
   "toc_position": {},
   "toc_section_display": true,
   "toc_window_display": false
  }
 },
 "nbformat": 4,
 "nbformat_minor": 5
}
